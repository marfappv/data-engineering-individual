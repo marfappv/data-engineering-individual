{
 "cells": [
  {
   "cell_type": "markdown",
   "metadata": {},
   "source": [
    "# Implementing NFT Demand Prediction System with SageMaker Built-In Algorithm Using Factorization Machines\n",
    "--- \n",
    "\n",
    "*This work is based on content from [Implementing Recommender System notebook](https://github.com/aws-samples/sagemaker-ml-workflow-with-apache-airflow/blob/master/notebooks/amazon-video-recommender_using_fm_algo.ipynb)*\n",
    "\n",
    "---"
   ]
  },
  {
   "cell_type": "markdown",
   "metadata": {},
   "source": [
    "# Table of Contents\n",
    "\n",
    "* [Chapter 1](#chapter1): Setup\n",
    "\n",
    "* [Chapter 2](#chapter2): Data\n",
    "    * [2.1](#2_1): Explore\n",
    "    * [2.2](#2_2): Clean\n",
    "    * [2.3](#2_3): Preprocess\n",
    " \n",
    "\n",
    " \n",
    "* [Chapter 3](#chapter3): Model training\n",
    "\n",
    "* [Chapter 4](#chapter4): Batch Inference\n",
    "\n",
    "* [Chapter 5](#chapter5): Evaluate Model Performance\n",
    "\n",
    "* [Chapter 6](#chapter5): Model Tuning\n",
    "\n",
    "* [Chapter 7](#chapter7): Clean-up\n"
   ]
  },
  {
   "cell_type": "markdown",
   "metadata": {},
   "source": [
    "---"
   ]
  },
  {
   "cell_type": "markdown",
   "metadata": {},
   "source": [
    "## Chapter 1: <a class=\"anchor\" id=\"chapter1\"></a> Setup"
   ]
  },
  {
   "cell_type": "markdown",
   "metadata": {},
   "source": [
    "\n",
    "Let's start by specifying:\n",
    "\n",
    "- The S3 bucket and prefix that you want to use for training and model data.  This should be within the same region as the Notebook Instance, training, and hosting.\n",
    "- The IAM role arn used to give training and hosting access to your data. See the documentation for how to create these.  Note, if more than one role is required for notebook instances, training, and/or hosting, please replace the `get_execution_role()` call with the appropriate full IAM role arn string(s)."
   ]
  },
  {
   "cell_type": "code",
   "execution_count": 444,
   "metadata": {},
   "outputs": [],
   "source": [
    "import boto3\n",
    "import sagemaker\n",
    "\n",
    "from sagemaker.tuner import HyperparameterTuner, ContinuousParameter\n",
    "from sagemaker.analytics import HyperparameterTuningJobAnalytics, TrainingJobAnalytics\n",
    "\n",
    "bucket = 'sagemaker-us-west-2-369454669781'\n",
    "prefix = 'sagemaker/fm-recsys'\n",
    "role = 'arn:aws:iam::369454669781:role/service-role/AmazonSageMaker-ExecutionRole-20220415T151752'\n",
    "\n",
    "sess = sagemaker.Session()\n",
    "smclient = boto3.Session().client('sagemaker')"
   ]
  },
  {
   "cell_type": "markdown",
   "metadata": {},
   "source": [
    "Now let's load the Python libraries we'll need for the remainder of this example notebook."
   ]
  },
  {
   "cell_type": "code",
   "execution_count": 445,
   "metadata": {},
   "outputs": [],
   "source": [
    "#Essentials\n",
    "from IPython.core.interactiveshell import InteractiveShell\n",
    "InteractiveShell.ast_node_interactivity = \"all\"\n",
    "import pandas as pd\n",
    "from pandas import Series, DataFrame\n",
    "from pandas.api.types import CategoricalDtype\n",
    "pd.options.display.max_columns = None\n",
    "import numpy as np; np.random.seed(2022)\n",
    "import random\n",
    "\n",
    "#Image creation\n",
    "import seaborn as sns\n",
    "import matplotlib.pyplot as plt\n",
    "import matplotlib.ticker as mtick\n",
    "import matplotlib.patches as mpatches\n",
    "from matplotlib import pyplot\n",
    "import plotly.express as px\n",
    "import plotly.graph_objects as go\n",
    "\n",
    "#Image display\n",
    "from IPython.display import Image as image\n",
    "from IPython.display import display\n",
    "\n",
    "#Preprocessing\n",
    "from sklearn.model_selection import train_test_split\n",
    "from sklearn.preprocessing import StandardScaler\n",
    "from sklearn.preprocessing import LabelEncoder\n",
    "from sklearn.compose import ColumnTransformer\n",
    "from sklearn.compose import make_column_transformer\n",
    "from sklearn.pipeline import Pipeline\n",
    "from sklearn.pipeline import make_pipeline\n",
    "\n",
    "#Models\n",
    "from sklearn.linear_model import LogisticRegression\n",
    "from sklearn.neighbors import KNeighborsClassifier\n",
    "from sklearn.tree import DecisionTreeClassifier\n",
    "from sklearn.ensemble import RandomForestClassifier\n",
    "import xgboost\n",
    "from xgboost import XGBClassifier\n",
    "from sklearn.svm import SVC\n",
    "from sklearn import svm\n",
    "from sklearn.naive_bayes import GaussianNB\n",
    "from sklearn.base import clone\n",
    "from sklearn.ensemble import StackingClassifier\n",
    "from sklearn.ensemble import BaggingClassifier\n",
    "\n",
    "#Metrics of accuracy\n",
    "from sklearn import metrics\n",
    "from sklearn.model_selection import StratifiedKFold\n",
    "from sklearn.model_selection import RepeatedStratifiedKFold\n",
    "from sklearn.model_selection import cross_val_score\n",
    "from sklearn.model_selection import cross_val_predict\n",
    "from sklearn.metrics import confusion_matrix\n",
    "from sklearn.metrics import f1_score, precision_score, recall_score\n",
    "from sklearn.metrics import mean_absolute_error\n",
    "from sklearn.metrics import mean_squared_error\n",
    "from sklearn.metrics import r2_score\n",
    "from numpy import mean\n",
    "from numpy import std\n",
    "\n",
    "#Other\n",
    "import psycopg2 as pg\n",
    "from nbformat import current\n",
    "import itertools as it\n",
    "import io\n",
    "import os\n",
    "import sys\n",
    "import time\n",
    "from scipy.sparse import lil_matrix\n",
    "import boto3\n",
    "import json\n",
    "import sagemaker.amazon.common as smac\n",
    "from sagemaker.predictor import json_deserializer"
   ]
  },
  {
   "cell_type": "code",
   "execution_count": 446,
   "metadata": {},
   "outputs": [],
   "source": [
    "# plot aesthetics\n",
    "sns.set(color_codes=True)\n",
    "sns.set_context('paper')\n",
    "five_thirty_eight = [\"#30a2da\", \"#fc4f30\", \"#e5ae38\", \"#6d904f\", \"#8b8b8b\",]\n",
    "sns.set_palette(five_thirty_eight)\n",
    "\n",
    "%matplotlib inline"
   ]
  },
  {
   "cell_type": "markdown",
   "metadata": {},
   "source": [
    "## Chapter 2: <a class=\"anchor\" id=\"chapter2\"></a> Data"
   ]
  },
  {
   "cell_type": "markdown",
   "metadata": {},
   "source": [
    "### 2.1  <a class=\"anchor\" id=\"2_1\"></a> Explore"
   ]
  },
  {
   "cell_type": "markdown",
   "metadata": {},
   "source": [
    "Let's read the data into a Pandas DataFrame so that we can begin to understand it."
   ]
  },
  {
   "cell_type": "code",
   "execution_count": 447,
   "metadata": {},
   "outputs": [
    {
     "name": "stderr",
     "output_type": "stream",
     "text": [
      "/usr/local/lib/python3.9/site-packages/pandas/io/sql.py:761: UserWarning: pandas only support SQLAlchemy connectable(engine/connection) ordatabase string URI or sqlite3 DBAPI2 connectionother DBAPI2 objects are not tested, please consider using SQLAlchemy\n",
      "  warnings.warn(\n"
     ]
    },
    {
     "data": {
      "text/html": [
       "<div>\n",
       "<style scoped>\n",
       "    .dataframe tbody tr th:only-of-type {\n",
       "        vertical-align: middle;\n",
       "    }\n",
       "\n",
       "    .dataframe tbody tr th {\n",
       "        vertical-align: top;\n",
       "    }\n",
       "\n",
       "    .dataframe thead th {\n",
       "        text-align: right;\n",
       "    }\n",
       "</style>\n",
       "<table border=\"1\" class=\"dataframe\">\n",
       "  <thead>\n",
       "    <tr style=\"text-align: right;\">\n",
       "      <th></th>\n",
       "      <th>collection_name</th>\n",
       "      <th>created_date</th>\n",
       "      <th>collection_status</th>\n",
       "      <th>nft_version</th>\n",
       "      <th>tokens</th>\n",
       "      <th>owner_number</th>\n",
       "      <th>featured</th>\n",
       "      <th>hidden</th>\n",
       "      <th>nsfw</th>\n",
       "    </tr>\n",
       "  </thead>\n",
       "  <tbody>\n",
       "    <tr>\n",
       "      <th>0</th>\n",
       "      <td>Dispatch-Messaging</td>\n",
       "      <td>2022-04-06T21:49:20.343522</td>\n",
       "      <td>not_requested</td>\n",
       "      <td>None</td>\n",
       "      <td>None</td>\n",
       "      <td>7356207.0</td>\n",
       "      <td>False</td>\n",
       "      <td>False</td>\n",
       "      <td>False</td>\n",
       "    </tr>\n",
       "    <tr>\n",
       "      <th>1</th>\n",
       "      <td>test</td>\n",
       "      <td>2022-04-12T17:54:03.412074</td>\n",
       "      <td>not_requested</td>\n",
       "      <td>3.0</td>\n",
       "      <td>1</td>\n",
       "      <td>3050053.0</td>\n",
       "      <td>False</td>\n",
       "      <td>False</td>\n",
       "      <td>False</td>\n",
       "    </tr>\n",
       "    <tr>\n",
       "      <th>2</th>\n",
       "      <td>3ASTER EGGZ</td>\n",
       "      <td>2022-04-12T17:49:14.605766</td>\n",
       "      <td>not_requested</td>\n",
       "      <td>None</td>\n",
       "      <td>0</td>\n",
       "      <td>7471608.0</td>\n",
       "      <td>False</td>\n",
       "      <td>False</td>\n",
       "      <td>False</td>\n",
       "    </tr>\n",
       "    <tr>\n",
       "      <th>3</th>\n",
       "      <td>Testv2chib2</td>\n",
       "      <td>2022-04-12T17:51:35.428359</td>\n",
       "      <td>not_requested</td>\n",
       "      <td>None</td>\n",
       "      <td>0</td>\n",
       "      <td>5909669.0</td>\n",
       "      <td>False</td>\n",
       "      <td>False</td>\n",
       "      <td>False</td>\n",
       "    </tr>\n",
       "    <tr>\n",
       "      <th>4</th>\n",
       "      <td>Test Model 4</td>\n",
       "      <td>2022-04-12T17:50:33.114878</td>\n",
       "      <td>not_requested</td>\n",
       "      <td>3.0</td>\n",
       "      <td>None</td>\n",
       "      <td>7396100.0</td>\n",
       "      <td>False</td>\n",
       "      <td>False</td>\n",
       "      <td>False</td>\n",
       "    </tr>\n",
       "  </tbody>\n",
       "</table>\n",
       "</div>"
      ],
      "text/plain": [
       "      collection_name                created_date collection_status  \\\n",
       "0  Dispatch-Messaging  2022-04-06T21:49:20.343522     not_requested   \n",
       "1                test  2022-04-12T17:54:03.412074     not_requested   \n",
       "2         3ASTER EGGZ  2022-04-12T17:49:14.605766     not_requested   \n",
       "3         Testv2chib2  2022-04-12T17:51:35.428359     not_requested   \n",
       "4        Test Model 4  2022-04-12T17:50:33.114878     not_requested   \n",
       "\n",
       "  nft_version tokens  owner_number  featured  hidden   nsfw  \n",
       "0        None   None     7356207.0     False   False  False  \n",
       "1         3.0      1     3050053.0     False   False  False  \n",
       "2        None      0     7471608.0     False   False  False  \n",
       "3        None      0     5909669.0     False   False  False  \n",
       "4         3.0   None     7396100.0     False   False  False  "
      ]
     },
     "execution_count": 447,
     "metadata": {},
     "output_type": "execute_result"
    },
    {
     "data": {
      "text/plain": [
       "7500"
      ]
     },
     "execution_count": 447,
     "metadata": {},
     "output_type": "execute_result"
    }
   ],
   "source": [
    "engine = pg.connect(\"dbname='opensea' user='marfapopova21' host='opensea.c5pkb2dzarva.us-west-2.rds.amazonaws.com' port='5432' password='qwerty123'\")\n",
    "df1 = pd.read_sql('select * from nfts.collections', con=engine)\n",
    "df1 = df1.dropna(how='all', axis=1)\n",
    "df1 = df1.dropna(how='all')\n",
    "df1.head()\n",
    "len(df1)"
   ]
  },
  {
   "cell_type": "code",
   "execution_count": 448,
   "metadata": {},
   "outputs": [
    {
     "name": "stderr",
     "output_type": "stream",
     "text": [
      "/usr/local/lib/python3.9/site-packages/pandas/io/sql.py:761: UserWarning: pandas only support SQLAlchemy connectable(engine/connection) ordatabase string URI or sqlite3 DBAPI2 connectionother DBAPI2 objects are not tested, please consider using SQLAlchemy\n",
      "  warnings.warn(\n"
     ]
    },
    {
     "data": {
      "text/html": [
       "<div>\n",
       "<style scoped>\n",
       "    .dataframe tbody tr th:only-of-type {\n",
       "        vertical-align: middle;\n",
       "    }\n",
       "\n",
       "    .dataframe tbody tr th {\n",
       "        vertical-align: top;\n",
       "    }\n",
       "\n",
       "    .dataframe thead th {\n",
       "        text-align: right;\n",
       "    }\n",
       "</style>\n",
       "<table border=\"1\" class=\"dataframe\">\n",
       "  <thead>\n",
       "    <tr style=\"text-align: right;\">\n",
       "      <th></th>\n",
       "      <th>collection_name</th>\n",
       "      <th>asset_contract_type</th>\n",
       "      <th>require_email</th>\n",
       "      <th>day_avg_price</th>\n",
       "      <th>week_avg_price</th>\n",
       "      <th>month_avg_price</th>\n",
       "      <th>total_volume</th>\n",
       "      <th>total_sales</th>\n",
       "      <th>total_supply</th>\n",
       "      <th>max_price</th>\n",
       "      <th>min_price</th>\n",
       "      <th>average_price</th>\n",
       "      <th>only_proxied_transfers</th>\n",
       "      <th>is_subject_to_whitelist</th>\n",
       "      <th>opensea_buyer_fee_basis_points</th>\n",
       "      <th>opensea_seller_fee_basis_points</th>\n",
       "    </tr>\n",
       "  </thead>\n",
       "  <tbody>\n",
       "    <tr>\n",
       "      <th>0</th>\n",
       "      <td>Dispatch-Messaging</td>\n",
       "      <td>semi-fungible</td>\n",
       "      <td>False</td>\n",
       "      <td>0.0</td>\n",
       "      <td>0.0</td>\n",
       "      <td>0.0</td>\n",
       "      <td>0.0</td>\n",
       "      <td>0.0</td>\n",
       "      <td>1.0</td>\n",
       "      <td>0.0</td>\n",
       "      <td>0.0</td>\n",
       "      <td>0.0</td>\n",
       "      <td>False</td>\n",
       "      <td>False</td>\n",
       "      <td>0</td>\n",
       "      <td>250</td>\n",
       "    </tr>\n",
       "    <tr>\n",
       "      <th>1</th>\n",
       "      <td>test</td>\n",
       "      <td>non-fungible</td>\n",
       "      <td>False</td>\n",
       "      <td>0.0</td>\n",
       "      <td>0.0</td>\n",
       "      <td>0.0</td>\n",
       "      <td>0.0</td>\n",
       "      <td>0.0</td>\n",
       "      <td>1.0</td>\n",
       "      <td>0.0</td>\n",
       "      <td>0.0</td>\n",
       "      <td>0.0</td>\n",
       "      <td>False</td>\n",
       "      <td>False</td>\n",
       "      <td>0</td>\n",
       "      <td>250</td>\n",
       "    </tr>\n",
       "    <tr>\n",
       "      <th>2</th>\n",
       "      <td>3ASTER EGGZ</td>\n",
       "      <td>non-fungible</td>\n",
       "      <td>False</td>\n",
       "      <td>0.0</td>\n",
       "      <td>0.0</td>\n",
       "      <td>0.0</td>\n",
       "      <td>0.0</td>\n",
       "      <td>0.0</td>\n",
       "      <td>2.0</td>\n",
       "      <td>0.0</td>\n",
       "      <td>0.0</td>\n",
       "      <td>0.0</td>\n",
       "      <td>False</td>\n",
       "      <td>False</td>\n",
       "      <td>0</td>\n",
       "      <td>250</td>\n",
       "    </tr>\n",
       "    <tr>\n",
       "      <th>3</th>\n",
       "      <td>Testv2chib2</td>\n",
       "      <td>non-fungible</td>\n",
       "      <td>False</td>\n",
       "      <td>0.0</td>\n",
       "      <td>0.0</td>\n",
       "      <td>0.0</td>\n",
       "      <td>0.0</td>\n",
       "      <td>0.0</td>\n",
       "      <td>50.0</td>\n",
       "      <td>0.0</td>\n",
       "      <td>0.0</td>\n",
       "      <td>0.0</td>\n",
       "      <td>False</td>\n",
       "      <td>False</td>\n",
       "      <td>0</td>\n",
       "      <td>250</td>\n",
       "    </tr>\n",
       "    <tr>\n",
       "      <th>4</th>\n",
       "      <td>Test Model 4</td>\n",
       "      <td>non-fungible</td>\n",
       "      <td>False</td>\n",
       "      <td>0.0</td>\n",
       "      <td>0.0</td>\n",
       "      <td>0.0</td>\n",
       "      <td>0.0</td>\n",
       "      <td>0.0</td>\n",
       "      <td>1.0</td>\n",
       "      <td>0.0</td>\n",
       "      <td>0.0</td>\n",
       "      <td>0.0</td>\n",
       "      <td>False</td>\n",
       "      <td>False</td>\n",
       "      <td>0</td>\n",
       "      <td>250</td>\n",
       "    </tr>\n",
       "  </tbody>\n",
       "</table>\n",
       "</div>"
      ],
      "text/plain": [
       "      collection_name asset_contract_type  require_email  day_avg_price  \\\n",
       "0  Dispatch-Messaging       semi-fungible          False            0.0   \n",
       "1                test        non-fungible          False            0.0   \n",
       "2         3ASTER EGGZ        non-fungible          False            0.0   \n",
       "3         Testv2chib2        non-fungible          False            0.0   \n",
       "4        Test Model 4        non-fungible          False            0.0   \n",
       "\n",
       "   week_avg_price  month_avg_price  total_volume  total_sales  total_supply  \\\n",
       "0             0.0              0.0           0.0          0.0           1.0   \n",
       "1             0.0              0.0           0.0          0.0           1.0   \n",
       "2             0.0              0.0           0.0          0.0           2.0   \n",
       "3             0.0              0.0           0.0          0.0          50.0   \n",
       "4             0.0              0.0           0.0          0.0           1.0   \n",
       "\n",
       "   max_price  min_price  average_price  only_proxied_transfers  \\\n",
       "0        0.0        0.0            0.0                   False   \n",
       "1        0.0        0.0            0.0                   False   \n",
       "2        0.0        0.0            0.0                   False   \n",
       "3        0.0        0.0            0.0                   False   \n",
       "4        0.0        0.0            0.0                   False   \n",
       "\n",
       "   is_subject_to_whitelist opensea_buyer_fee_basis_points  \\\n",
       "0                    False                              0   \n",
       "1                    False                              0   \n",
       "2                    False                              0   \n",
       "3                    False                              0   \n",
       "4                    False                              0   \n",
       "\n",
       "  opensea_seller_fee_basis_points  \n",
       "0                             250  \n",
       "1                             250  \n",
       "2                             250  \n",
       "3                             250  \n",
       "4                             250  "
      ]
     },
     "execution_count": 448,
     "metadata": {},
     "output_type": "execute_result"
    },
    {
     "data": {
      "text/plain": [
       "7500"
      ]
     },
     "execution_count": 448,
     "metadata": {},
     "output_type": "execute_result"
    }
   ],
   "source": [
    "engine = pg.connect(\"dbname='opensea' user='marfapopova21' host='opensea.c5pkb2dzarva.us-west-2.rds.amazonaws.com' port='5432' password='qwerty123'\")\n",
    "df2 = pd.read_sql('select * from nfts.finances', con=engine)\n",
    "df2 = df2.dropna(how='all', axis=1)\n",
    "df2 = df2.dropna(how='all')\n",
    "df2.head()\n",
    "len(df2)"
   ]
  },
  {
   "cell_type": "code",
   "execution_count": 449,
   "metadata": {},
   "outputs": [
    {
     "data": {
      "text/html": [
       "<div>\n",
       "<style scoped>\n",
       "    .dataframe tbody tr th:only-of-type {\n",
       "        vertical-align: middle;\n",
       "    }\n",
       "\n",
       "    .dataframe tbody tr th {\n",
       "        vertical-align: top;\n",
       "    }\n",
       "\n",
       "    .dataframe thead th {\n",
       "        text-align: right;\n",
       "    }\n",
       "</style>\n",
       "<table border=\"1\" class=\"dataframe\">\n",
       "  <thead>\n",
       "    <tr style=\"text-align: right;\">\n",
       "      <th></th>\n",
       "      <th>collection_name</th>\n",
       "      <th>created_date</th>\n",
       "      <th>collection_status</th>\n",
       "      <th>nft_version</th>\n",
       "      <th>tokens</th>\n",
       "      <th>owner_number</th>\n",
       "      <th>featured</th>\n",
       "      <th>hidden</th>\n",
       "      <th>nsfw</th>\n",
       "      <th>asset_contract_type</th>\n",
       "      <th>require_email</th>\n",
       "      <th>day_avg_price</th>\n",
       "      <th>week_avg_price</th>\n",
       "      <th>month_avg_price</th>\n",
       "      <th>total_volume</th>\n",
       "      <th>total_sales</th>\n",
       "      <th>total_supply</th>\n",
       "      <th>max_price</th>\n",
       "      <th>min_price</th>\n",
       "      <th>average_price</th>\n",
       "      <th>only_proxied_transfers</th>\n",
       "      <th>is_subject_to_whitelist</th>\n",
       "      <th>opensea_buyer_fee_basis_points</th>\n",
       "      <th>opensea_seller_fee_basis_points</th>\n",
       "    </tr>\n",
       "  </thead>\n",
       "  <tbody>\n",
       "    <tr>\n",
       "      <th>0</th>\n",
       "      <td>Dispatch-Messaging</td>\n",
       "      <td>2022-04-06T21:49:20.343522</td>\n",
       "      <td>not_requested</td>\n",
       "      <td>None</td>\n",
       "      <td>None</td>\n",
       "      <td>7356207.0</td>\n",
       "      <td>False</td>\n",
       "      <td>False</td>\n",
       "      <td>False</td>\n",
       "      <td>semi-fungible</td>\n",
       "      <td>False</td>\n",
       "      <td>0.0</td>\n",
       "      <td>0.0</td>\n",
       "      <td>0.0</td>\n",
       "      <td>0.0</td>\n",
       "      <td>0.0</td>\n",
       "      <td>1.0</td>\n",
       "      <td>0.0</td>\n",
       "      <td>0.0</td>\n",
       "      <td>0.0</td>\n",
       "      <td>False</td>\n",
       "      <td>False</td>\n",
       "      <td>0</td>\n",
       "      <td>250</td>\n",
       "    </tr>\n",
       "    <tr>\n",
       "      <th>1</th>\n",
       "      <td>Dispatch-Messaging</td>\n",
       "      <td>2022-04-06T21:49:20.343522</td>\n",
       "      <td>not_requested</td>\n",
       "      <td>None</td>\n",
       "      <td>None</td>\n",
       "      <td>7356207.0</td>\n",
       "      <td>False</td>\n",
       "      <td>False</td>\n",
       "      <td>False</td>\n",
       "      <td>semi-fungible</td>\n",
       "      <td>False</td>\n",
       "      <td>0.0</td>\n",
       "      <td>0.0</td>\n",
       "      <td>0.0</td>\n",
       "      <td>0.0</td>\n",
       "      <td>0.0</td>\n",
       "      <td>34.0</td>\n",
       "      <td>0.0</td>\n",
       "      <td>0.0</td>\n",
       "      <td>0.0</td>\n",
       "      <td>False</td>\n",
       "      <td>False</td>\n",
       "      <td>0</td>\n",
       "      <td>250</td>\n",
       "    </tr>\n",
       "    <tr>\n",
       "      <th>2</th>\n",
       "      <td>Dispatch-Messaging</td>\n",
       "      <td>2022-04-11T12:25:09.603872</td>\n",
       "      <td>not_requested</td>\n",
       "      <td>None</td>\n",
       "      <td>None</td>\n",
       "      <td>7461686.0</td>\n",
       "      <td>False</td>\n",
       "      <td>False</td>\n",
       "      <td>False</td>\n",
       "      <td>semi-fungible</td>\n",
       "      <td>False</td>\n",
       "      <td>0.0</td>\n",
       "      <td>0.0</td>\n",
       "      <td>0.0</td>\n",
       "      <td>0.0</td>\n",
       "      <td>0.0</td>\n",
       "      <td>1.0</td>\n",
       "      <td>0.0</td>\n",
       "      <td>0.0</td>\n",
       "      <td>0.0</td>\n",
       "      <td>False</td>\n",
       "      <td>False</td>\n",
       "      <td>0</td>\n",
       "      <td>250</td>\n",
       "    </tr>\n",
       "    <tr>\n",
       "      <th>3</th>\n",
       "      <td>Dispatch-Messaging</td>\n",
       "      <td>2022-04-11T12:25:09.603872</td>\n",
       "      <td>not_requested</td>\n",
       "      <td>None</td>\n",
       "      <td>None</td>\n",
       "      <td>7461686.0</td>\n",
       "      <td>False</td>\n",
       "      <td>False</td>\n",
       "      <td>False</td>\n",
       "      <td>semi-fungible</td>\n",
       "      <td>False</td>\n",
       "      <td>0.0</td>\n",
       "      <td>0.0</td>\n",
       "      <td>0.0</td>\n",
       "      <td>0.0</td>\n",
       "      <td>0.0</td>\n",
       "      <td>34.0</td>\n",
       "      <td>0.0</td>\n",
       "      <td>0.0</td>\n",
       "      <td>0.0</td>\n",
       "      <td>False</td>\n",
       "      <td>False</td>\n",
       "      <td>0</td>\n",
       "      <td>250</td>\n",
       "    </tr>\n",
       "    <tr>\n",
       "      <th>4</th>\n",
       "      <td>test</td>\n",
       "      <td>2022-04-12T17:54:03.412074</td>\n",
       "      <td>not_requested</td>\n",
       "      <td>3.0</td>\n",
       "      <td>1</td>\n",
       "      <td>3050053.0</td>\n",
       "      <td>False</td>\n",
       "      <td>False</td>\n",
       "      <td>False</td>\n",
       "      <td>non-fungible</td>\n",
       "      <td>False</td>\n",
       "      <td>0.0</td>\n",
       "      <td>0.0</td>\n",
       "      <td>0.0</td>\n",
       "      <td>0.0</td>\n",
       "      <td>0.0</td>\n",
       "      <td>1.0</td>\n",
       "      <td>0.0</td>\n",
       "      <td>0.0</td>\n",
       "      <td>0.0</td>\n",
       "      <td>False</td>\n",
       "      <td>False</td>\n",
       "      <td>0</td>\n",
       "      <td>250</td>\n",
       "    </tr>\n",
       "  </tbody>\n",
       "</table>\n",
       "</div>"
      ],
      "text/plain": [
       "      collection_name                created_date collection_status  \\\n",
       "0  Dispatch-Messaging  2022-04-06T21:49:20.343522     not_requested   \n",
       "1  Dispatch-Messaging  2022-04-06T21:49:20.343522     not_requested   \n",
       "2  Dispatch-Messaging  2022-04-11T12:25:09.603872     not_requested   \n",
       "3  Dispatch-Messaging  2022-04-11T12:25:09.603872     not_requested   \n",
       "4                test  2022-04-12T17:54:03.412074     not_requested   \n",
       "\n",
       "  nft_version tokens  owner_number  featured  hidden   nsfw  \\\n",
       "0        None   None     7356207.0     False   False  False   \n",
       "1        None   None     7356207.0     False   False  False   \n",
       "2        None   None     7461686.0     False   False  False   \n",
       "3        None   None     7461686.0     False   False  False   \n",
       "4         3.0      1     3050053.0     False   False  False   \n",
       "\n",
       "  asset_contract_type  require_email  day_avg_price  week_avg_price  \\\n",
       "0       semi-fungible          False            0.0             0.0   \n",
       "1       semi-fungible          False            0.0             0.0   \n",
       "2       semi-fungible          False            0.0             0.0   \n",
       "3       semi-fungible          False            0.0             0.0   \n",
       "4        non-fungible          False            0.0             0.0   \n",
       "\n",
       "   month_avg_price  total_volume  total_sales  total_supply  max_price  \\\n",
       "0              0.0           0.0          0.0           1.0        0.0   \n",
       "1              0.0           0.0          0.0          34.0        0.0   \n",
       "2              0.0           0.0          0.0           1.0        0.0   \n",
       "3              0.0           0.0          0.0          34.0        0.0   \n",
       "4              0.0           0.0          0.0           1.0        0.0   \n",
       "\n",
       "   min_price  average_price  only_proxied_transfers  is_subject_to_whitelist  \\\n",
       "0        0.0            0.0                   False                    False   \n",
       "1        0.0            0.0                   False                    False   \n",
       "2        0.0            0.0                   False                    False   \n",
       "3        0.0            0.0                   False                    False   \n",
       "4        0.0            0.0                   False                    False   \n",
       "\n",
       "  opensea_buyer_fee_basis_points opensea_seller_fee_basis_points  \n",
       "0                              0                             250  \n",
       "1                              0                             250  \n",
       "2                              0                             250  \n",
       "3                              0                             250  \n",
       "4                              0                             250  "
      ]
     },
     "execution_count": 449,
     "metadata": {},
     "output_type": "execute_result"
    },
    {
     "data": {
      "text/plain": [
       "596130"
      ]
     },
     "execution_count": 449,
     "metadata": {},
     "output_type": "execute_result"
    }
   ],
   "source": [
    "# Merge the 2 dataframes on collection name\n",
    "df = pd.merge(df1, df2, on = 'collection_name')\n",
    "df.head()\n",
    "len(df)"
   ]
  },
  {
   "cell_type": "code",
   "execution_count": 450,
   "metadata": {},
   "outputs": [
    {
     "data": {
      "text/plain": [
       "Index(['collection_name', 'created_date', 'collection_status', 'nft_version',\n",
       "       'tokens', 'owner_number', 'featured', 'hidden', 'nsfw',\n",
       "       'asset_contract_type', 'require_email', 'day_avg_price',\n",
       "       'week_avg_price', 'month_avg_price', 'total_volume', 'total_sales',\n",
       "       'total_supply', 'max_price', 'min_price', 'average_price',\n",
       "       'only_proxied_transfers', 'is_subject_to_whitelist',\n",
       "       'opensea_buyer_fee_basis_points', 'opensea_seller_fee_basis_points'],\n",
       "      dtype='object')"
      ]
     },
     "execution_count": 450,
     "metadata": {},
     "output_type": "execute_result"
    }
   ],
   "source": [
    "df.columns"
   ]
  },
  {
   "cell_type": "markdown",
   "metadata": {},
   "source": [
    "We can see this dataset includes information like:\n",
    "\n",
    "- `collection_name`: NFT collection name.\n",
    "- `created_date`: NFT collection release date.\n",
    "- `collection_status`: The collection's approval status within OpenSea.\n",
    "- `nft_version`: \n",
    "- `tokens`: Total supply of NFTs in the collection (?).\n",
    "- `owner_number`: Unique owner ID number.\n",
    "- `featured`: A boolean datatype, showing whether the NFT has a featured artist (True) or is created solo (False).\n",
    "- `hidden`: \n",
    "- `nsfw`: A boolean datatype, showing whether the NFT has explicit content (True) or not (False).\n",
    "- `asset_contract_type`: \n",
    "- `require_email`: \n",
    "- `day_avg_price`: Average NFT price over 24 hours.\n",
    "- `week_avg_price`: Average NFT price over 24 hours.\n",
    "- `month_avg_price`: Average NFT price over 24 hours.\n",
    "- `total_volume`: \n",
    "- `total_sales`: \n",
    "- `total_supply`: \n",
    "- `max_price`: \n",
    "- `min_price`: \n",
    "- `average_price`: \n",
    "- `only_proxied_transfers`: \n",
    "- `is_subject_to_whitelist`:\n",
    "- `opensea_buyer_fee_basis_points`: \n",
    "- `opensea_seller_fee_basis_points`: \n",
    "\n",
    "For this example, let's limit ourselves to all but `owner_number`, `max_price`, and `min_price`. Including additional features in our system from other tables of the schema could be beneficial, but would require substantial processing (particularly the text data) which would take us beyond the scope of this notebook.\n",
    "\n",
    "*Note: we'll keep `collection_name` on the dataset to help verify our recommendations later in the notebook, but it will not be used in algorithm training.*"
   ]
  },
  {
   "cell_type": "code",
   "execution_count": 451,
   "metadata": {},
   "outputs": [
    {
     "data": {
      "text/plain": [
       "596130"
      ]
     },
     "execution_count": 451,
     "metadata": {},
     "output_type": "execute_result"
    }
   ],
   "source": [
    "df = df.drop(['owner_number', 'max_price', 'min_price'], axis=1)\n",
    "len(df)"
   ]
  },
  {
   "cell_type": "code",
   "execution_count": 452,
   "metadata": {},
   "outputs": [
    {
     "name": "stdout",
     "output_type": "stream",
     "text": [
      "<class 'pandas.core.frame.DataFrame'>\n",
      "Int64Index: 596130 entries, 0 to 596129\n",
      "Data columns (total 21 columns):\n",
      " #   Column                           Non-Null Count   Dtype  \n",
      "---  ------                           --------------   -----  \n",
      " 0   collection_name                  455505 non-null  object \n",
      " 1   created_date                     455505 non-null  object \n",
      " 2   collection_status                596130 non-null  object \n",
      " 3   nft_version                      84029 non-null   object \n",
      " 4   tokens                           80345 non-null   object \n",
      " 5   featured                         596130 non-null  bool   \n",
      " 6   hidden                           596130 non-null  bool   \n",
      " 7   nsfw                             596130 non-null  bool   \n",
      " 8   asset_contract_type              455505 non-null  object \n",
      " 9   require_email                    596130 non-null  bool   \n",
      " 10  day_avg_price                    596130 non-null  float64\n",
      " 11  week_avg_price                   596130 non-null  float64\n",
      " 12  month_avg_price                  596130 non-null  float64\n",
      " 13  total_volume                     596130 non-null  float64\n",
      " 14  total_sales                      596130 non-null  float64\n",
      " 15  total_supply                     596130 non-null  float64\n",
      " 16  average_price                    596130 non-null  float64\n",
      " 17  only_proxied_transfers           596130 non-null  bool   \n",
      " 18  is_subject_to_whitelist          596130 non-null  bool   \n",
      " 19  opensea_buyer_fee_basis_points   596130 non-null  object \n",
      " 20  opensea_seller_fee_basis_points  596130 non-null  object \n",
      "dtypes: bool(6), float64(7), object(8)\n",
      "memory usage: 76.2+ MB\n"
     ]
    }
   ],
   "source": [
    "df.info()"
   ]
  },
  {
   "cell_type": "code",
   "execution_count": 453,
   "metadata": {},
   "outputs": [
    {
     "name": "stdout",
     "output_type": "stream",
     "text": [
      "object     8\n",
      "float64    7\n",
      "bool       6\n",
      "dtype: int64\n"
     ]
    }
   ],
   "source": [
    "# Show number of all existing data types in the dataframe\n",
    "print(df.dtypes.astype(str).value_counts())"
   ]
  },
  {
   "cell_type": "code",
   "execution_count": 454,
   "metadata": {},
   "outputs": [
    {
     "data": {
      "text/plain": [
       "3314"
      ]
     },
     "execution_count": 454,
     "metadata": {},
     "output_type": "execute_result"
    }
   ],
   "source": [
    "df['collection_name'].nunique()"
   ]
  },
  {
   "cell_type": "code",
   "execution_count": 455,
   "metadata": {},
   "outputs": [
    {
     "data": {
      "text/plain": [
       "Unidentified contract    326041\n",
       "CryptoPunks               26244\n",
       "Pawn Tickets              23409\n",
       "SquareNFT                 14641\n",
       "Pawn Loans                 9025\n",
       "                          ...  \n",
       "test collection               1\n",
       "Test NFT CORE                 1\n",
       "Lord Ganesha                  1\n",
       "OneCDNFT                      1\n",
       "TheImaginaryOnesNft           1\n",
       "Name: collection_name, Length: 3314, dtype: int64"
      ]
     },
     "execution_count": 455,
     "metadata": {},
     "output_type": "execute_result"
    }
   ],
   "source": [
    "df['collection_name'].value_counts(ascending=False)"
   ]
  },
  {
   "cell_type": "code",
   "execution_count": 456,
   "metadata": {},
   "outputs": [
    {
     "data": {
      "text/plain": [
       "CryptoPunks            26244\n",
       "Pawn Tickets           23409\n",
       "SquareNFT              14641\n",
       "Pawn Loans              9025\n",
       "UTPN                    7396\n",
       "                       ...  \n",
       "test collection            1\n",
       "Test NFT CORE              1\n",
       "Lord Ganesha               1\n",
       "OneCDNFT                   1\n",
       "TheImaginaryOnesNft        1\n",
       "Name: collection_name, Length: 3313, dtype: int64"
      ]
     },
     "execution_count": 456,
     "metadata": {},
     "output_type": "execute_result"
    }
   ],
   "source": [
    "df['collection_name'].value_counts().loc[lambda x : x<326041] "
   ]
  },
  {
   "cell_type": "code",
   "execution_count": 457,
   "metadata": {},
   "outputs": [
    {
     "data": {
      "text/plain": [
       "270089"
      ]
     },
     "execution_count": 457,
     "metadata": {},
     "output_type": "execute_result"
    }
   ],
   "source": [
    "# Difference between the number of all collection records in the dataset and unnamed ones\n",
    "596130 - 326041"
   ]
  },
  {
   "cell_type": "markdown",
   "metadata": {},
   "source": [
    "Collections named \"Unidentified contract\" mean that their creators did not add public variable string. Hence, there are only 3313 unique collection names in the dataset, that contain 270089 labelled records."
   ]
  },
  {
   "cell_type": "markdown",
   "metadata": {},
   "source": [
    "Because most people haven't seen most videos, and people rate fewer videos than we actually watch, we'd expect our data to be sparse.  Our algorithm should work well with this sparse problem in general, but we may still want to clean out some of the long tail.  Let's look at some basic percentiles to confirm."
   ]
  },
  {
   "cell_type": "code",
   "execution_count": 458,
   "metadata": {},
   "outputs": [
    {
     "data": {
      "text/html": [
       "<div>\n",
       "<style scoped>\n",
       "    .dataframe tbody tr th:only-of-type {\n",
       "        vertical-align: middle;\n",
       "    }\n",
       "\n",
       "    .dataframe tbody tr th {\n",
       "        vertical-align: top;\n",
       "    }\n",
       "\n",
       "    .dataframe thead th {\n",
       "        text-align: right;\n",
       "    }\n",
       "</style>\n",
       "<table border=\"1\" class=\"dataframe\">\n",
       "  <thead>\n",
       "    <tr style=\"text-align: right;\">\n",
       "      <th></th>\n",
       "      <th>quantile</th>\n",
       "      <th>all collections</th>\n",
       "    </tr>\n",
       "  </thead>\n",
       "  <tbody>\n",
       "    <tr>\n",
       "      <th>7</th>\n",
       "      <td>0.25</td>\n",
       "      <td>1.0</td>\n",
       "    </tr>\n",
       "    <tr>\n",
       "      <th>8</th>\n",
       "      <td>0.50</td>\n",
       "      <td>1.0</td>\n",
       "    </tr>\n",
       "    <tr>\n",
       "      <th>9</th>\n",
       "      <td>0.75</td>\n",
       "      <td>1.0</td>\n",
       "    </tr>\n",
       "    <tr>\n",
       "      <th>10</th>\n",
       "      <td>0.90</td>\n",
       "      <td>9.0</td>\n",
       "    </tr>\n",
       "    <tr>\n",
       "      <th>11</th>\n",
       "      <td>0.95</td>\n",
       "      <td>25.0</td>\n",
       "    </tr>\n",
       "    <tr>\n",
       "      <th>12</th>\n",
       "      <td>0.96</td>\n",
       "      <td>25.0</td>\n",
       "    </tr>\n",
       "    <tr>\n",
       "      <th>13</th>\n",
       "      <td>0.97</td>\n",
       "      <td>36.0</td>\n",
       "    </tr>\n",
       "    <tr>\n",
       "      <th>14</th>\n",
       "      <td>0.98</td>\n",
       "      <td>81.0</td>\n",
       "    </tr>\n",
       "    <tr>\n",
       "      <th>15</th>\n",
       "      <td>0.99</td>\n",
       "      <td>225.0</td>\n",
       "    </tr>\n",
       "    <tr>\n",
       "      <th>16</th>\n",
       "      <td>1.00</td>\n",
       "      <td>326041.0</td>\n",
       "    </tr>\n",
       "  </tbody>\n",
       "</table>\n",
       "</div>"
      ],
      "text/plain": [
       "    quantile  all collections\n",
       "7       0.25              1.0\n",
       "8       0.50              1.0\n",
       "9       0.75              1.0\n",
       "10      0.90              9.0\n",
       "11      0.95             25.0\n",
       "12      0.96             25.0\n",
       "13      0.97             36.0\n",
       "14      0.98             81.0\n",
       "15      0.99            225.0\n",
       "16      1.00         326041.0"
      ]
     },
     "execution_count": 458,
     "metadata": {},
     "output_type": "execute_result"
    },
    {
     "data": {
      "text/html": [
       "<div>\n",
       "<style scoped>\n",
       "    .dataframe tbody tr th:only-of-type {\n",
       "        vertical-align: middle;\n",
       "    }\n",
       "\n",
       "    .dataframe tbody tr th {\n",
       "        vertical-align: top;\n",
       "    }\n",
       "\n",
       "    .dataframe thead th {\n",
       "        text-align: right;\n",
       "    }\n",
       "</style>\n",
       "<table border=\"1\" class=\"dataframe\">\n",
       "  <thead>\n",
       "    <tr style=\"text-align: right;\">\n",
       "      <th></th>\n",
       "      <th>quantile</th>\n",
       "      <th>named collections</th>\n",
       "    </tr>\n",
       "  </thead>\n",
       "  <tbody>\n",
       "    <tr>\n",
       "      <th>7</th>\n",
       "      <td>0.25</td>\n",
       "      <td>1.00</td>\n",
       "    </tr>\n",
       "    <tr>\n",
       "      <th>8</th>\n",
       "      <td>0.50</td>\n",
       "      <td>1.00</td>\n",
       "    </tr>\n",
       "    <tr>\n",
       "      <th>9</th>\n",
       "      <td>0.75</td>\n",
       "      <td>1.00</td>\n",
       "    </tr>\n",
       "    <tr>\n",
       "      <th>10</th>\n",
       "      <td>0.90</td>\n",
       "      <td>9.00</td>\n",
       "    </tr>\n",
       "    <tr>\n",
       "      <th>11</th>\n",
       "      <td>0.95</td>\n",
       "      <td>25.00</td>\n",
       "    </tr>\n",
       "    <tr>\n",
       "      <th>12</th>\n",
       "      <td>0.96</td>\n",
       "      <td>25.00</td>\n",
       "    </tr>\n",
       "    <tr>\n",
       "      <th>13</th>\n",
       "      <td>0.97</td>\n",
       "      <td>36.00</td>\n",
       "    </tr>\n",
       "    <tr>\n",
       "      <th>14</th>\n",
       "      <td>0.98</td>\n",
       "      <td>76.92</td>\n",
       "    </tr>\n",
       "    <tr>\n",
       "      <th>15</th>\n",
       "      <td>0.99</td>\n",
       "      <td>225.00</td>\n",
       "    </tr>\n",
       "    <tr>\n",
       "      <th>16</th>\n",
       "      <td>1.00</td>\n",
       "      <td>26244.00</td>\n",
       "    </tr>\n",
       "  </tbody>\n",
       "</table>\n",
       "</div>"
      ],
      "text/plain": [
       "    quantile  named collections\n",
       "7       0.25               1.00\n",
       "8       0.50               1.00\n",
       "9       0.75               1.00\n",
       "10      0.90               9.00\n",
       "11      0.95              25.00\n",
       "12      0.96              25.00\n",
       "13      0.97              36.00\n",
       "14      0.98              76.92\n",
       "15      0.99             225.00\n",
       "16      1.00           26244.00"
      ]
     },
     "execution_count": 458,
     "metadata": {},
     "output_type": "execute_result"
    },
    {
     "data": {
      "text/html": [
       "<div>\n",
       "<style scoped>\n",
       "    .dataframe tbody tr th:only-of-type {\n",
       "        vertical-align: middle;\n",
       "    }\n",
       "\n",
       "    .dataframe tbody tr th {\n",
       "        vertical-align: top;\n",
       "    }\n",
       "\n",
       "    .dataframe thead th {\n",
       "        text-align: right;\n",
       "    }\n",
       "</style>\n",
       "<table border=\"1\" class=\"dataframe\">\n",
       "  <thead>\n",
       "    <tr style=\"text-align: right;\">\n",
       "      <th></th>\n",
       "      <th>quantile</th>\n",
       "      <th>sales</th>\n",
       "    </tr>\n",
       "  </thead>\n",
       "  <tbody>\n",
       "    <tr>\n",
       "      <th>7</th>\n",
       "      <td>0.25</td>\n",
       "      <td>376.0</td>\n",
       "    </tr>\n",
       "    <tr>\n",
       "      <th>8</th>\n",
       "      <td>0.50</td>\n",
       "      <td>571.0</td>\n",
       "    </tr>\n",
       "    <tr>\n",
       "      <th>9</th>\n",
       "      <td>0.75</td>\n",
       "      <td>2191.5</td>\n",
       "    </tr>\n",
       "    <tr>\n",
       "      <th>10</th>\n",
       "      <td>0.90</td>\n",
       "      <td>6520.0</td>\n",
       "    </tr>\n",
       "    <tr>\n",
       "      <th>11</th>\n",
       "      <td>0.95</td>\n",
       "      <td>294709.5</td>\n",
       "    </tr>\n",
       "    <tr>\n",
       "      <th>12</th>\n",
       "      <td>0.96</td>\n",
       "      <td>352347.4</td>\n",
       "    </tr>\n",
       "    <tr>\n",
       "      <th>13</th>\n",
       "      <td>0.97</td>\n",
       "      <td>409985.3</td>\n",
       "    </tr>\n",
       "    <tr>\n",
       "      <th>14</th>\n",
       "      <td>0.98</td>\n",
       "      <td>467623.2</td>\n",
       "    </tr>\n",
       "    <tr>\n",
       "      <th>15</th>\n",
       "      <td>0.99</td>\n",
       "      <td>525261.1</td>\n",
       "    </tr>\n",
       "    <tr>\n",
       "      <th>16</th>\n",
       "      <td>1.00</td>\n",
       "      <td>582899.0</td>\n",
       "    </tr>\n",
       "  </tbody>\n",
       "</table>\n",
       "</div>"
      ],
      "text/plain": [
       "    quantile     sales\n",
       "7       0.25     376.0\n",
       "8       0.50     571.0\n",
       "9       0.75    2191.5\n",
       "10      0.90    6520.0\n",
       "11      0.95  294709.5\n",
       "12      0.96  352347.4\n",
       "13      0.97  409985.3\n",
       "14      0.98  467623.2\n",
       "15      0.99  525261.1\n",
       "16      1.00  582899.0"
      ]
     },
     "execution_count": 458,
     "metadata": {},
     "output_type": "execute_result"
    }
   ],
   "source": [
    "all_collections = df['collection_name'].value_counts()\n",
    "named_collections = df['collection_name'].value_counts().loc[lambda x : x<326041] \n",
    "sales = df['total_sales'].value_counts()\n",
    "\n",
    "quantiles = [0, 0.01, 0.02, 0.03, 0.04, 0.05, 0.1, 0.25, 0.5, 0.75, 0.9, 0.95, 0.96, 0.97, 0.98, 0.99, 1]\n",
    "all_collections_q = pd.DataFrame(zip(quantiles, all_collections.quantile(quantiles)), columns=[\"quantile\", \"all collections\"])\n",
    "named_collections_q = pd.DataFrame(zip(quantiles, named_collections.quantile(quantiles)), columns=[\"quantile\", \"named collections\"])\n",
    "sales_q = pd.DataFrame(zip(quantiles, sales.quantile(quantiles)), columns=[\"quantile\", \"sales\"])\n",
    "\n",
    "all_collections_q.tail(10)\n",
    "named_collections_q.tail(10)\n",
    "sales_q.tail(10)"
   ]
  },
  {
   "cell_type": "code",
   "execution_count": 459,
   "metadata": {},
   "outputs": [
    {
     "data": {
      "image/png": "[encoded data removed]",
      "text/plain": [
       "<Figure size 432x288 with 1 Axes>"
      ]
     },
     "metadata": {
      "needs_background": "light"
     },
     "output_type": "display_data"
    }
   ],
   "source": [
    "axs = sns.barplot(x=\"quantile\", y=\"sales\", data=sales_q, palette=five_thirty_eight)"
   ]
  },
  {
   "cell_type": "markdown",
   "metadata": {},
   "source": [
    "### 2.2  <a class=\"anchor\" id=\"2_2\"></a> Clean"
   ]
  },
  {
   "cell_type": "code",
   "execution_count": 460,
   "metadata": {},
   "outputs": [
    {
     "name": "stdout",
     "output_type": "stream",
     "text": [
      "Number of records after removing duplicates =      41681\n"
     ]
    }
   ],
   "source": [
    "df = df.drop_duplicates()\n",
    "print(\"Number of records after removing duplicates = {:10d}\".format(df.shape[0]))"
   ]
  },
  {
   "cell_type": "code",
   "execution_count": 461,
   "metadata": {},
   "outputs": [
    {
     "data": {
      "text/html": [
       "<div>\n",
       "<style scoped>\n",
       "    .dataframe tbody tr th:only-of-type {\n",
       "        vertical-align: middle;\n",
       "    }\n",
       "\n",
       "    .dataframe tbody tr th {\n",
       "        vertical-align: top;\n",
       "    }\n",
       "\n",
       "    .dataframe thead th {\n",
       "        text-align: right;\n",
       "    }\n",
       "</style>\n",
       "<table border=\"1\" class=\"dataframe\">\n",
       "  <thead>\n",
       "    <tr style=\"text-align: right;\">\n",
       "      <th></th>\n",
       "      <th>collection_name</th>\n",
       "      <th>created_date</th>\n",
       "      <th>collection_status</th>\n",
       "      <th>nft_version</th>\n",
       "      <th>tokens</th>\n",
       "      <th>asset_contract_type</th>\n",
       "      <th>opensea_buyer_fee_basis_points</th>\n",
       "      <th>opensea_seller_fee_basis_points</th>\n",
       "    </tr>\n",
       "  </thead>\n",
       "  <tbody>\n",
       "    <tr>\n",
       "      <th>0</th>\n",
       "      <td>Dispatch-Messaging</td>\n",
       "      <td>2022-04-06T21:49:20.343522</td>\n",
       "      <td>not_requested</td>\n",
       "      <td>None</td>\n",
       "      <td>None</td>\n",
       "      <td>semi-fungible</td>\n",
       "      <td>0</td>\n",
       "      <td>250</td>\n",
       "    </tr>\n",
       "    <tr>\n",
       "      <th>1</th>\n",
       "      <td>Dispatch-Messaging</td>\n",
       "      <td>2022-04-06T21:49:20.343522</td>\n",
       "      <td>not_requested</td>\n",
       "      <td>None</td>\n",
       "      <td>None</td>\n",
       "      <td>semi-fungible</td>\n",
       "      <td>0</td>\n",
       "      <td>250</td>\n",
       "    </tr>\n",
       "    <tr>\n",
       "      <th>2</th>\n",
       "      <td>Dispatch-Messaging</td>\n",
       "      <td>2022-04-11T12:25:09.603872</td>\n",
       "      <td>not_requested</td>\n",
       "      <td>None</td>\n",
       "      <td>None</td>\n",
       "      <td>semi-fungible</td>\n",
       "      <td>0</td>\n",
       "      <td>250</td>\n",
       "    </tr>\n",
       "    <tr>\n",
       "      <th>3</th>\n",
       "      <td>Dispatch-Messaging</td>\n",
       "      <td>2022-04-11T12:25:09.603872</td>\n",
       "      <td>not_requested</td>\n",
       "      <td>None</td>\n",
       "      <td>None</td>\n",
       "      <td>semi-fungible</td>\n",
       "      <td>0</td>\n",
       "      <td>250</td>\n",
       "    </tr>\n",
       "    <tr>\n",
       "      <th>4</th>\n",
       "      <td>test</td>\n",
       "      <td>2022-04-12T17:54:03.412074</td>\n",
       "      <td>not_requested</td>\n",
       "      <td>3.0</td>\n",
       "      <td>1</td>\n",
       "      <td>non-fungible</td>\n",
       "      <td>0</td>\n",
       "      <td>250</td>\n",
       "    </tr>\n",
       "    <tr>\n",
       "      <th>...</th>\n",
       "      <td>...</td>\n",
       "      <td>...</td>\n",
       "      <td>...</td>\n",
       "      <td>...</td>\n",
       "      <td>...</td>\n",
       "      <td>...</td>\n",
       "      <td>...</td>\n",
       "      <td>...</td>\n",
       "    </tr>\n",
       "    <tr>\n",
       "      <th>596125</th>\n",
       "      <td>AmazingToyMachine</td>\n",
       "      <td>2022-04-10T22:20:19.642343</td>\n",
       "      <td>not_requested</td>\n",
       "      <td>3.0</td>\n",
       "      <td>0</td>\n",
       "      <td>non-fungible</td>\n",
       "      <td>0</td>\n",
       "      <td>250</td>\n",
       "    </tr>\n",
       "    <tr>\n",
       "      <th>596126</th>\n",
       "      <td>SR49</td>\n",
       "      <td>2022-04-10T22:27:58.964315</td>\n",
       "      <td>not_requested</td>\n",
       "      <td>3.0</td>\n",
       "      <td>0</td>\n",
       "      <td>non-fungible</td>\n",
       "      <td>0</td>\n",
       "      <td>250</td>\n",
       "    </tr>\n",
       "    <tr>\n",
       "      <th>596127</th>\n",
       "      <td>Plunge2PO</td>\n",
       "      <td>2022-04-10T22:26:58.976898</td>\n",
       "      <td>not_requested</td>\n",
       "      <td>3.0</td>\n",
       "      <td>None</td>\n",
       "      <td>non-fungible</td>\n",
       "      <td>0</td>\n",
       "      <td>250</td>\n",
       "    </tr>\n",
       "    <tr>\n",
       "      <th>596128</th>\n",
       "      <td>Cheese</td>\n",
       "      <td>2022-04-10T22:26:03.694412</td>\n",
       "      <td>not_requested</td>\n",
       "      <td>3.0</td>\n",
       "      <td>2</td>\n",
       "      <td>non-fungible</td>\n",
       "      <td>0</td>\n",
       "      <td>250</td>\n",
       "    </tr>\n",
       "    <tr>\n",
       "      <th>596129</th>\n",
       "      <td>TheImaginaryOnesNft</td>\n",
       "      <td>2022-04-10T22:25:38.740942</td>\n",
       "      <td>not_requested</td>\n",
       "      <td>None</td>\n",
       "      <td>5</td>\n",
       "      <td>non-fungible</td>\n",
       "      <td>0</td>\n",
       "      <td>250</td>\n",
       "    </tr>\n",
       "  </tbody>\n",
       "</table>\n",
       "<p>41681 rows × 8 columns</p>\n",
       "</div>"
      ],
      "text/plain": [
       "            collection_name                created_date collection_status  \\\n",
       "0        Dispatch-Messaging  2022-04-06T21:49:20.343522     not_requested   \n",
       "1        Dispatch-Messaging  2022-04-06T21:49:20.343522     not_requested   \n",
       "2        Dispatch-Messaging  2022-04-11T12:25:09.603872     not_requested   \n",
       "3        Dispatch-Messaging  2022-04-11T12:25:09.603872     not_requested   \n",
       "4                      test  2022-04-12T17:54:03.412074     not_requested   \n",
       "...                     ...                         ...               ...   \n",
       "596125    AmazingToyMachine  2022-04-10T22:20:19.642343     not_requested   \n",
       "596126                 SR49  2022-04-10T22:27:58.964315     not_requested   \n",
       "596127            Plunge2PO  2022-04-10T22:26:58.976898     not_requested   \n",
       "596128               Cheese  2022-04-10T22:26:03.694412     not_requested   \n",
       "596129  TheImaginaryOnesNft  2022-04-10T22:25:38.740942     not_requested   \n",
       "\n",
       "       nft_version tokens asset_contract_type opensea_buyer_fee_basis_points  \\\n",
       "0             None   None       semi-fungible                              0   \n",
       "1             None   None       semi-fungible                              0   \n",
       "2             None   None       semi-fungible                              0   \n",
       "3             None   None       semi-fungible                              0   \n",
       "4              3.0      1        non-fungible                              0   \n",
       "...            ...    ...                 ...                            ...   \n",
       "596125         3.0      0        non-fungible                              0   \n",
       "596126         3.0      0        non-fungible                              0   \n",
       "596127         3.0   None        non-fungible                              0   \n",
       "596128         3.0      2        non-fungible                              0   \n",
       "596129        None      5        non-fungible                              0   \n",
       "\n",
       "       opensea_seller_fee_basis_points  \n",
       "0                                  250  \n",
       "1                                  250  \n",
       "2                                  250  \n",
       "3                                  250  \n",
       "4                                  250  \n",
       "...                                ...  \n",
       "596125                             250  \n",
       "596126                             250  \n",
       "596127                             250  \n",
       "596128                             250  \n",
       "596129                             250  \n",
       "\n",
       "[41681 rows x 8 columns]"
      ]
     },
     "execution_count": 461,
     "metadata": {},
     "output_type": "execute_result"
    }
   ],
   "source": [
    "df.select_dtypes(include='object')"
   ]
  },
  {
   "cell_type": "markdown",
   "metadata": {},
   "source": [
    "Let's quantify the object column one by one where possible to quantify.\n",
    "\n",
    "- `collection_name`: will not be converted.\n",
    "- `created_date`: will be converted to a timestamp.\n",
    "- `collection_status`:  \"Can be *not_requested* (brand new collections), *requested* (collections that requested safelisting on our site), *approved* (collections that are approved on our site and can be found in search results), and *verified* (verified collections).\" (OpenSea Developer Documentation, n.d.) Hence, we'll convert those to numbers ranging 0 to 3.\n",
    "- `asset_contract_type`: will be converted by the same principle as `collection_status`.\n",
    "- `nft_version` and `tokens`: None values will be converted to np.nan.\n",
    "- `opensea_buyer_fee_basis_points` and `opensea_seller_fee_basis_points`: will be converted to numerics with a \"try\" method."
   ]
  },
  {
   "cell_type": "code",
   "execution_count": 462,
   "metadata": {},
   "outputs": [],
   "source": [
    "df['created_date'] = pd.to_datetime(df['created_date'])"
   ]
  },
  {
   "cell_type": "code",
   "execution_count": 463,
   "metadata": {},
   "outputs": [
    {
     "data": {
      "text/plain": [
       "0        2022-04-06 21:49:20.343522\n",
       "1        2022-04-06 21:49:20.343522\n",
       "2        2022-04-11 12:25:09.603872\n",
       "3        2022-04-11 12:25:09.603872\n",
       "4        2022-04-12 17:54:03.412074\n",
       "                    ...            \n",
       "596125   2022-04-10 22:20:19.642343\n",
       "596126   2022-04-10 22:27:58.964315\n",
       "596127   2022-04-10 22:26:58.976898\n",
       "596128   2022-04-10 22:26:03.694412\n",
       "596129   2022-04-10 22:25:38.740942\n",
       "Name: created_date, Length: 41681, dtype: datetime64[ns]"
      ]
     },
     "execution_count": 463,
     "metadata": {},
     "output_type": "execute_result"
    }
   ],
   "source": [
    "df['created_date']"
   ]
  },
  {
   "cell_type": "code",
   "execution_count": 464,
   "metadata": {},
   "outputs": [],
   "source": [
    "df['year'] = pd.DatetimeIndex(df['created_date']).year\n",
    "df['month'] = pd.DatetimeIndex(df['created_date']).month"
   ]
  },
  {
   "cell_type": "code",
   "execution_count": 465,
   "metadata": {},
   "outputs": [
    {
     "data": {
      "text/plain": [
       "2022.0    41573\n",
       "Name: year, dtype: int64"
      ]
     },
     "execution_count": 465,
     "metadata": {},
     "output_type": "execute_result"
    }
   ],
   "source": [
    "df['year'].value_counts()"
   ]
  },
  {
   "cell_type": "code",
   "execution_count": 466,
   "metadata": {},
   "outputs": [
    {
     "data": {
      "text/plain": [
       "4.0    41320\n",
       "3.0      250\n",
       "1.0        2\n",
       "2.0        1\n",
       "Name: month, dtype: int64"
      ]
     },
     "execution_count": 466,
     "metadata": {},
     "output_type": "execute_result"
    }
   ],
   "source": [
    "df['month'].value_counts()"
   ]
  },
  {
   "cell_type": "markdown",
   "metadata": {},
   "source": [
    "Since there is only 1 year in the dataset and months are so unevenly disribubted, we will drop timestamp-related columns all together."
   ]
  },
  {
   "cell_type": "code",
   "execution_count": 467,
   "metadata": {},
   "outputs": [],
   "source": [
    "df.drop(columns = ['year', 'month', 'created_date'], inplace = True)"
   ]
  },
  {
   "cell_type": "code",
   "execution_count": 468,
   "metadata": {},
   "outputs": [
    {
     "data": {
      "text/plain": [
       "0    41681\n",
       "Name: collection_status, dtype: int64"
      ]
     },
     "execution_count": 468,
     "metadata": {},
     "output_type": "execute_result"
    }
   ],
   "source": [
    "df['collection_status'].replace(['not_requested', 'requested', 'approved','verified'], [0,1,2,3], inplace=True)\n",
    "df['collection_status'].value_counts()"
   ]
  },
  {
   "cell_type": "code",
   "execution_count": 469,
   "metadata": {},
   "outputs": [
    {
     "data": {
      "text/plain": [
       "non-fungible     22107\n",
       "semi-fungible    19466\n",
       "Name: asset_contract_type, dtype: int64"
      ]
     },
     "execution_count": 469,
     "metadata": {},
     "output_type": "execute_result"
    }
   ],
   "source": [
    "df['asset_contract_type'].value_counts()"
   ]
  },
  {
   "cell_type": "code",
   "execution_count": 470,
   "metadata": {},
   "outputs": [
    {
     "data": {
      "text/plain": [
       "0.0    22107\n",
       "1.0    19466\n",
       "Name: asset_contract_type, dtype: int64"
      ]
     },
     "execution_count": 470,
     "metadata": {},
     "output_type": "execute_result"
    }
   ],
   "source": [
    "df['asset_contract_type'].replace(['non-fungible', 'semi-fungible'], [0,1], inplace=True)\n",
    "df['asset_contract_type'].value_counts()"
   ]
  },
  {
   "cell_type": "code",
   "execution_count": 471,
   "metadata": {},
   "outputs": [],
   "source": [
    "df = df[df['nft_version'].notna()]\n",
    "df = df[df['tokens'].notna()]\n",
    "\n",
    "try:\n",
    "  df['nft_version'] = df['nft_version'].astype(float)\n",
    "  df['tokens'] = df['tokens'].astype(int)\n",
    "except:\n",
    "  print(\"Something went wrong\")"
   ]
  },
  {
   "cell_type": "code",
   "execution_count": 472,
   "metadata": {},
   "outputs": [],
   "source": [
    "try:\n",
    "  df['opensea_buyer_fee_basis_points'] = df['opensea_buyer_fee_basis_points'].astype(float)\n",
    "  df['opensea_seller_fee_basis_points'] = df['opensea_seller_fee_basis_points'].astype(float)\n",
    "except:\n",
    "  print(\"Something went wrong\")"
   ]
  },
  {
   "cell_type": "code",
   "execution_count": 473,
   "metadata": {},
   "outputs": [
    {
     "data": {
      "text/html": [
       "<div>\n",
       "<style scoped>\n",
       "    .dataframe tbody tr th:only-of-type {\n",
       "        vertical-align: middle;\n",
       "    }\n",
       "\n",
       "    .dataframe tbody tr th {\n",
       "        vertical-align: top;\n",
       "    }\n",
       "\n",
       "    .dataframe thead th {\n",
       "        text-align: right;\n",
       "    }\n",
       "</style>\n",
       "<table border=\"1\" class=\"dataframe\">\n",
       "  <thead>\n",
       "    <tr style=\"text-align: right;\">\n",
       "      <th></th>\n",
       "      <th>collection_name</th>\n",
       "    </tr>\n",
       "  </thead>\n",
       "  <tbody>\n",
       "    <tr>\n",
       "      <th>4</th>\n",
       "      <td>test</td>\n",
       "    </tr>\n",
       "    <tr>\n",
       "      <th>8</th>\n",
       "      <td>test</td>\n",
       "    </tr>\n",
       "    <tr>\n",
       "      <th>10</th>\n",
       "      <td>test</td>\n",
       "    </tr>\n",
       "    <tr>\n",
       "      <th>11</th>\n",
       "      <td>test</td>\n",
       "    </tr>\n",
       "    <tr>\n",
       "      <th>12</th>\n",
       "      <td>test</td>\n",
       "    </tr>\n",
       "    <tr>\n",
       "      <th>...</th>\n",
       "      <td>...</td>\n",
       "    </tr>\n",
       "    <tr>\n",
       "      <th>596119</th>\n",
       "      <td>RESPEK</td>\n",
       "    </tr>\n",
       "    <tr>\n",
       "      <th>596123</th>\n",
       "      <td>Boba</td>\n",
       "    </tr>\n",
       "    <tr>\n",
       "      <th>596125</th>\n",
       "      <td>AmazingToyMachine</td>\n",
       "    </tr>\n",
       "    <tr>\n",
       "      <th>596126</th>\n",
       "      <td>SR49</td>\n",
       "    </tr>\n",
       "    <tr>\n",
       "      <th>596128</th>\n",
       "      <td>Cheese</td>\n",
       "    </tr>\n",
       "  </tbody>\n",
       "</table>\n",
       "<p>7044 rows × 1 columns</p>\n",
       "</div>"
      ],
      "text/plain": [
       "          collection_name\n",
       "4                    test\n",
       "8                    test\n",
       "10                   test\n",
       "11                   test\n",
       "12                   test\n",
       "...                   ...\n",
       "596119             RESPEK\n",
       "596123               Boba\n",
       "596125  AmazingToyMachine\n",
       "596126               SR49\n",
       "596128             Cheese\n",
       "\n",
       "[7044 rows x 1 columns]"
      ]
     },
     "execution_count": 473,
     "metadata": {},
     "output_type": "execute_result"
    },
    {
     "name": "stdout",
     "output_type": "stream",
     "text": [
      "float64    11\n",
      "bool        6\n",
      "int64       2\n",
      "object      1\n",
      "dtype: int64\n"
     ]
    }
   ],
   "source": [
    "df.select_dtypes(include='object')\n",
    "print(df.dtypes.astype(str).value_counts())"
   ]
  },
  {
   "cell_type": "code",
   "execution_count": 474,
   "metadata": {},
   "outputs": [
    {
     "data": {
      "text/html": [
       "<div>\n",
       "<style scoped>\n",
       "    .dataframe tbody tr th:only-of-type {\n",
       "        vertical-align: middle;\n",
       "    }\n",
       "\n",
       "    .dataframe tbody tr th {\n",
       "        vertical-align: top;\n",
       "    }\n",
       "\n",
       "    .dataframe thead th {\n",
       "        text-align: right;\n",
       "    }\n",
       "</style>\n",
       "<table border=\"1\" class=\"dataframe\">\n",
       "  <thead>\n",
       "    <tr style=\"text-align: right;\">\n",
       "      <th></th>\n",
       "      <th>count</th>\n",
       "      <th>mean</th>\n",
       "      <th>std</th>\n",
       "      <th>min</th>\n",
       "      <th>25%</th>\n",
       "      <th>50%</th>\n",
       "      <th>75%</th>\n",
       "      <th>max</th>\n",
       "    </tr>\n",
       "  </thead>\n",
       "  <tbody>\n",
       "    <tr>\n",
       "      <th>collection_status</th>\n",
       "      <td>7044.0</td>\n",
       "      <td>0.000000</td>\n",
       "      <td>0.000000</td>\n",
       "      <td>0.0</td>\n",
       "      <td>0.0</td>\n",
       "      <td>0.0</td>\n",
       "      <td>0.0</td>\n",
       "      <td>0.0</td>\n",
       "    </tr>\n",
       "    <tr>\n",
       "      <th>nft_version</th>\n",
       "      <td>7044.0</td>\n",
       "      <td>3.000000</td>\n",
       "      <td>0.000000</td>\n",
       "      <td>3.0</td>\n",
       "      <td>3.0</td>\n",
       "      <td>3.0</td>\n",
       "      <td>3.0</td>\n",
       "      <td>3.0</td>\n",
       "    </tr>\n",
       "    <tr>\n",
       "      <th>tokens</th>\n",
       "      <td>7044.0</td>\n",
       "      <td>88.111584</td>\n",
       "      <td>1422.531819</td>\n",
       "      <td>0.0</td>\n",
       "      <td>0.0</td>\n",
       "      <td>0.0</td>\n",
       "      <td>1.0</td>\n",
       "      <td>66049.0</td>\n",
       "    </tr>\n",
       "    <tr>\n",
       "      <th>asset_contract_type</th>\n",
       "      <td>7044.0</td>\n",
       "      <td>0.149631</td>\n",
       "      <td>0.356735</td>\n",
       "      <td>0.0</td>\n",
       "      <td>0.0</td>\n",
       "      <td>0.0</td>\n",
       "      <td>0.0</td>\n",
       "      <td>1.0</td>\n",
       "    </tr>\n",
       "    <tr>\n",
       "      <th>day_avg_price</th>\n",
       "      <td>7044.0</td>\n",
       "      <td>0.001932</td>\n",
       "      <td>0.023346</td>\n",
       "      <td>0.0</td>\n",
       "      <td>0.0</td>\n",
       "      <td>0.0</td>\n",
       "      <td>0.0</td>\n",
       "      <td>1.0</td>\n",
       "    </tr>\n",
       "    <tr>\n",
       "      <th>week_avg_price</th>\n",
       "      <td>7044.0</td>\n",
       "      <td>0.016440</td>\n",
       "      <td>0.359766</td>\n",
       "      <td>0.0</td>\n",
       "      <td>0.0</td>\n",
       "      <td>0.0</td>\n",
       "      <td>0.0</td>\n",
       "      <td>10.0</td>\n",
       "    </tr>\n",
       "    <tr>\n",
       "      <th>month_avg_price</th>\n",
       "      <td>7044.0</td>\n",
       "      <td>0.016440</td>\n",
       "      <td>0.359766</td>\n",
       "      <td>0.0</td>\n",
       "      <td>0.0</td>\n",
       "      <td>0.0</td>\n",
       "      <td>0.0</td>\n",
       "      <td>10.0</td>\n",
       "    </tr>\n",
       "    <tr>\n",
       "      <th>total_volume</th>\n",
       "      <td>7044.0</td>\n",
       "      <td>0.019455</td>\n",
       "      <td>0.368701</td>\n",
       "      <td>0.0</td>\n",
       "      <td>0.0</td>\n",
       "      <td>0.0</td>\n",
       "      <td>0.0</td>\n",
       "      <td>10.0</td>\n",
       "    </tr>\n",
       "    <tr>\n",
       "      <th>total_sales</th>\n",
       "      <td>7044.0</td>\n",
       "      <td>0.145798</td>\n",
       "      <td>0.857873</td>\n",
       "      <td>0.0</td>\n",
       "      <td>0.0</td>\n",
       "      <td>0.0</td>\n",
       "      <td>0.0</td>\n",
       "      <td>10.0</td>\n",
       "    </tr>\n",
       "    <tr>\n",
       "      <th>total_supply</th>\n",
       "      <td>7044.0</td>\n",
       "      <td>80.552953</td>\n",
       "      <td>582.430158</td>\n",
       "      <td>0.0</td>\n",
       "      <td>2.0</td>\n",
       "      <td>5.0</td>\n",
       "      <td>13.0</td>\n",
       "      <td>10000.0</td>\n",
       "    </tr>\n",
       "    <tr>\n",
       "      <th>average_price</th>\n",
       "      <td>7044.0</td>\n",
       "      <td>0.016440</td>\n",
       "      <td>0.359766</td>\n",
       "      <td>0.0</td>\n",
       "      <td>0.0</td>\n",
       "      <td>0.0</td>\n",
       "      <td>0.0</td>\n",
       "      <td>10.0</td>\n",
       "    </tr>\n",
       "    <tr>\n",
       "      <th>opensea_buyer_fee_basis_points</th>\n",
       "      <td>7044.0</td>\n",
       "      <td>0.000000</td>\n",
       "      <td>0.000000</td>\n",
       "      <td>0.0</td>\n",
       "      <td>0.0</td>\n",
       "      <td>0.0</td>\n",
       "      <td>0.0</td>\n",
       "      <td>0.0</td>\n",
       "    </tr>\n",
       "    <tr>\n",
       "      <th>opensea_seller_fee_basis_points</th>\n",
       "      <td>7044.0</td>\n",
       "      <td>250.000000</td>\n",
       "      <td>0.000000</td>\n",
       "      <td>250.0</td>\n",
       "      <td>250.0</td>\n",
       "      <td>250.0</td>\n",
       "      <td>250.0</td>\n",
       "      <td>250.0</td>\n",
       "    </tr>\n",
       "  </tbody>\n",
       "</table>\n",
       "</div>"
      ],
      "text/plain": [
       "                                  count        mean          std    min  \\\n",
       "collection_status                7044.0    0.000000     0.000000    0.0   \n",
       "nft_version                      7044.0    3.000000     0.000000    3.0   \n",
       "tokens                           7044.0   88.111584  1422.531819    0.0   \n",
       "asset_contract_type              7044.0    0.149631     0.356735    0.0   \n",
       "day_avg_price                    7044.0    0.001932     0.023346    0.0   \n",
       "week_avg_price                   7044.0    0.016440     0.359766    0.0   \n",
       "month_avg_price                  7044.0    0.016440     0.359766    0.0   \n",
       "total_volume                     7044.0    0.019455     0.368701    0.0   \n",
       "total_sales                      7044.0    0.145798     0.857873    0.0   \n",
       "total_supply                     7044.0   80.552953   582.430158    0.0   \n",
       "average_price                    7044.0    0.016440     0.359766    0.0   \n",
       "opensea_buyer_fee_basis_points   7044.0    0.000000     0.000000    0.0   \n",
       "opensea_seller_fee_basis_points  7044.0  250.000000     0.000000  250.0   \n",
       "\n",
       "                                   25%    50%    75%      max  \n",
       "collection_status                  0.0    0.0    0.0      0.0  \n",
       "nft_version                        3.0    3.0    3.0      3.0  \n",
       "tokens                             0.0    0.0    1.0  66049.0  \n",
       "asset_contract_type                0.0    0.0    0.0      1.0  \n",
       "day_avg_price                      0.0    0.0    0.0      1.0  \n",
       "week_avg_price                     0.0    0.0    0.0     10.0  \n",
       "month_avg_price                    0.0    0.0    0.0     10.0  \n",
       "total_volume                       0.0    0.0    0.0     10.0  \n",
       "total_sales                        0.0    0.0    0.0     10.0  \n",
       "total_supply                       2.0    5.0   13.0  10000.0  \n",
       "average_price                      0.0    0.0    0.0     10.0  \n",
       "opensea_buyer_fee_basis_points     0.0    0.0    0.0      0.0  \n",
       "opensea_seller_fee_basis_points  250.0  250.0  250.0    250.0  "
      ]
     },
     "execution_count": 474,
     "metadata": {},
     "output_type": "execute_result"
    }
   ],
   "source": [
    "# Descriptive statistics of the transposed table\n",
    "df.describe().transpose()"
   ]
  },
  {
   "cell_type": "code",
   "execution_count": 475,
   "metadata": {},
   "outputs": [
    {
     "name": "stdout",
     "output_type": "stream",
     "text": [
      "Index(['nft_version', 'tokens', 'featured', 'hidden', 'nsfw', 'require_email',\n",
      "       'day_avg_price', 'week_avg_price', 'month_avg_price', 'total_volume',\n",
      "       'total_sales', 'total_supply', 'average_price',\n",
      "       'only_proxied_transfers', 'is_subject_to_whitelist',\n",
      "       'opensea_buyer_fee_basis_points', 'opensea_seller_fee_basis_points'],\n",
      "      dtype='object')\n"
     ]
    }
   ],
   "source": [
    "# I exclude object type columns and those that range in (0,3)\n",
    "numeric_df = df.drop(['collection_name', 'asset_contract_type', 'collection_status'], axis=1)\n",
    "print(numeric_df.columns.astype(str))"
   ]
  },
  {
   "cell_type": "code",
   "execution_count": 476,
   "metadata": {},
   "outputs": [
    {
     "data": {
      "text/plain": [
       "<AxesSubplot:>"
      ]
     },
     "execution_count": 476,
     "metadata": {},
     "output_type": "execute_result"
    },
    {
     "data": {
      "text/plain": [
       "(array([1, 2, 3, 4, 5, 6, 7, 8, 9]),\n",
       " [Text(1, 0, 'tokens'),\n",
       "  Text(2, 0, 'day_avg_price'),\n",
       "  Text(3, 0, 'week_avg_price'),\n",
       "  Text(4, 0, 'month_avg_price'),\n",
       "  Text(5, 0, 'total_volume'),\n",
       "  Text(6, 0, 'total_sales'),\n",
       "  Text(7, 0, 'total_supply'),\n",
       "  Text(8, 0, 'average_price'),\n",
       "  Text(9, 0, 'opensea_seller_fee_basis_points')])"
      ]
     },
     "execution_count": 476,
     "metadata": {},
     "output_type": "execute_result"
    },
    {
     "data": {
      "image/png": "[encoded data removed]",
      "text/plain": [
       "<Figure size 432x288 with 1 Axes>"
      ]
     },
     "metadata": {
      "needs_background": "light"
     },
     "output_type": "display_data"
    }
   ],
   "source": [
    "numeric_col = ['tokens', 'day_avg_price', 'week_avg_price', 'month_avg_price',\n",
    "       'total_volume', 'total_sales', 'total_supply', 'average_price', 'opensea_seller_fee_basis_points']\n",
    "\n",
    "df.boxplot(numeric_col)\n",
    "plt.xticks(rotation=90)"
   ]
  },
  {
   "cell_type": "markdown",
   "metadata": {},
   "source": [
    "### 2.3  <a class=\"anchor\" id=\"2_3\"></a> Preprocess"
   ]
  },
  {
   "cell_type": "markdown",
   "metadata": {},
   "source": [
    "We will be using SageMaker's implementation of Factorization Machines (FM) for building a recommender system. The algorithm expects float32 tensors in protobuf whereas the data sets are pandas dataframe on disk. Most of the conversion effort is handled by the Amazon SageMaker Python SDK.\n",
    "\n",
    "The FM algorithm will utilize sparse input and since the data sets are dense matrix, it has to be converted a sparse matrix with one-hot encoded feature vectors with customers and products. Thus, each sample in the data set will be a wide boolean vector with 178729 feature space (140344 customer + 38385 products) with only two values set to 1 with respect to the customer and product.\n",
    "\n",
    "Following are the next steps\n",
    "\n",
    "1. Feature engineering: create a dependent variable for demand, based on total sales column.\n",
    "3. Split the cleaned data set into train and test data sets, and stratification.\n",
    "4. Convert both the sets to protobuf encoded files.\n",
    "5. Copy these files to an Amazon S3 bucket.\n",
    "6. Configure and run a Factorization Machines training job on Amazon SageMaker.\n",
    "7. Deploy the corresponding model to an endpoint.\n",
    "8. Run predictions on test data set and validate."
   ]
  },
  {
   "cell_type": "markdown",
   "metadata": {},
   "source": [
    "#### 2.3.1  <a class=\"anchor\" id=\"2_3_1\"></a> Feature engineering"
   ]
  },
  {
   "cell_type": "markdown",
   "metadata": {},
   "source": [
    "Below, I created a new variable that simply tells how many NFTs each artist has. I thought of it as NFT price may be linked to frequency of creator’s final artistic output."
   ]
  },
  {
   "cell_type": "code",
   "execution_count": 477,
   "metadata": {},
   "outputs": [
    {
     "data": {
      "text/plain": [
       "<AxesSubplot:xlabel='total_sales'>"
      ]
     },
     "execution_count": 477,
     "metadata": {},
     "output_type": "execute_result"
    },
    {
     "data": {
      "image/png": "[encoded data removed]",
      "text/plain": [
       "<Figure size 432x288 with 1 Axes>"
      ]
     },
     "metadata": {},
     "output_type": "display_data"
    }
   ],
   "source": [
    "sns.set_theme(style=\"whitegrid\")\n",
    "sns.violinplot(data=df, x='total_sales')"
   ]
  },
  {
   "cell_type": "code",
   "execution_count": 478,
   "metadata": {},
   "outputs": [
    {
     "data": {
      "text/plain": [
       "0.0     6683\n",
       "1.0      152\n",
       "2.0       91\n",
       "4.0       47\n",
       "5.0       31\n",
       "10.0      30\n",
       "7.0        5\n",
       "3.0        5\n",
       "Name: total_sales, dtype: int64"
      ]
     },
     "execution_count": 478,
     "metadata": {},
     "output_type": "execute_result"
    }
   ],
   "source": [
    "df['total_sales'].value_counts()"
   ]
  },
  {
   "cell_type": "code",
   "execution_count": 479,
   "metadata": {},
   "outputs": [],
   "source": [
    "demand = {}\n",
    "for sales in df.total_sales:\n",
    "  if sales == 0:\n",
    "    demand[sales] = 0 #there is no demand for NFTs with such features\n",
    "  else:\n",
    "    demand[sales] = 1 #there is demand for NFTs for such features"
   ]
  },
  {
   "cell_type": "code",
   "execution_count": 480,
   "metadata": {},
   "outputs": [
    {
     "data": {
      "text/html": [
       "<div>\n",
       "<style scoped>\n",
       "    .dataframe tbody tr th:only-of-type {\n",
       "        vertical-align: middle;\n",
       "    }\n",
       "\n",
       "    .dataframe tbody tr th {\n",
       "        vertical-align: top;\n",
       "    }\n",
       "\n",
       "    .dataframe thead th {\n",
       "        text-align: right;\n",
       "    }\n",
       "</style>\n",
       "<table border=\"1\" class=\"dataframe\">\n",
       "  <thead>\n",
       "    <tr style=\"text-align: right;\">\n",
       "      <th></th>\n",
       "      <th>total_sales</th>\n",
       "      <th>demand_level</th>\n",
       "    </tr>\n",
       "  </thead>\n",
       "  <tbody>\n",
       "    <tr>\n",
       "      <th>0</th>\n",
       "      <td>0.0</td>\n",
       "      <td>0</td>\n",
       "    </tr>\n",
       "    <tr>\n",
       "      <th>1</th>\n",
       "      <td>4.0</td>\n",
       "      <td>1</td>\n",
       "    </tr>\n",
       "    <tr>\n",
       "      <th>2</th>\n",
       "      <td>5.0</td>\n",
       "      <td>1</td>\n",
       "    </tr>\n",
       "    <tr>\n",
       "      <th>3</th>\n",
       "      <td>1.0</td>\n",
       "      <td>0</td>\n",
       "    </tr>\n",
       "    <tr>\n",
       "      <th>4</th>\n",
       "      <td>10.0</td>\n",
       "      <td>1</td>\n",
       "    </tr>\n",
       "    <tr>\n",
       "      <th>5</th>\n",
       "      <td>2.0</td>\n",
       "      <td>0</td>\n",
       "    </tr>\n",
       "    <tr>\n",
       "      <th>6</th>\n",
       "      <td>7.0</td>\n",
       "      <td>1</td>\n",
       "    </tr>\n",
       "    <tr>\n",
       "      <th>7</th>\n",
       "      <td>3.0</td>\n",
       "      <td>1</td>\n",
       "    </tr>\n",
       "  </tbody>\n",
       "</table>\n",
       "</div>"
      ],
      "text/plain": [
       "   total_sales  demand_level\n",
       "0          0.0             0\n",
       "1          4.0             1\n",
       "2          5.0             1\n",
       "3          1.0             0\n",
       "4         10.0             1\n",
       "5          2.0             0\n",
       "6          7.0             1\n",
       "7          3.0             1"
      ]
     },
     "execution_count": 480,
     "metadata": {},
     "output_type": "execute_result"
    }
   ],
   "source": [
    "demand_level_df = pd.DataFrame(\n",
    "    [{'total_sales': sales, \"demand_level\": demand_level} for (sales, demand_level) in demand_level.items()])\n",
    "demand_level_df"
   ]
  },
  {
   "cell_type": "code",
   "execution_count": 481,
   "metadata": {},
   "outputs": [],
   "source": [
    "all_demands = pd.DataFrame(df['total_sales'])\n",
    "no_demand = (all_demands == 0)\n",
    "yes_demand = (all_demands != 0)"
   ]
  },
  {
   "cell_type": "code",
   "execution_count": 482,
   "metadata": {},
   "outputs": [
    {
     "data": {
      "text/html": [
       "<div>\n",
       "<style scoped>\n",
       "    .dataframe tbody tr th:only-of-type {\n",
       "        vertical-align: middle;\n",
       "    }\n",
       "\n",
       "    .dataframe tbody tr th {\n",
       "        vertical-align: top;\n",
       "    }\n",
       "\n",
       "    .dataframe thead th {\n",
       "        text-align: right;\n",
       "    }\n",
       "</style>\n",
       "<table border=\"1\" class=\"dataframe\">\n",
       "  <thead>\n",
       "    <tr style=\"text-align: right;\">\n",
       "      <th></th>\n",
       "      <th>total_sales</th>\n",
       "      <th>total_sales</th>\n",
       "    </tr>\n",
       "  </thead>\n",
       "  <tbody>\n",
       "    <tr>\n",
       "      <th>4</th>\n",
       "      <td>1</td>\n",
       "      <td>0</td>\n",
       "    </tr>\n",
       "    <tr>\n",
       "      <th>8</th>\n",
       "      <td>1</td>\n",
       "      <td>0</td>\n",
       "    </tr>\n",
       "    <tr>\n",
       "      <th>10</th>\n",
       "      <td>1</td>\n",
       "      <td>0</td>\n",
       "    </tr>\n",
       "    <tr>\n",
       "      <th>11</th>\n",
       "      <td>1</td>\n",
       "      <td>0</td>\n",
       "    </tr>\n",
       "    <tr>\n",
       "      <th>12</th>\n",
       "      <td>1</td>\n",
       "      <td>0</td>\n",
       "    </tr>\n",
       "    <tr>\n",
       "      <th>...</th>\n",
       "      <td>...</td>\n",
       "      <td>...</td>\n",
       "    </tr>\n",
       "    <tr>\n",
       "      <th>596119</th>\n",
       "      <td>1</td>\n",
       "      <td>0</td>\n",
       "    </tr>\n",
       "    <tr>\n",
       "      <th>596123</th>\n",
       "      <td>1</td>\n",
       "      <td>0</td>\n",
       "    </tr>\n",
       "    <tr>\n",
       "      <th>596125</th>\n",
       "      <td>1</td>\n",
       "      <td>0</td>\n",
       "    </tr>\n",
       "    <tr>\n",
       "      <th>596126</th>\n",
       "      <td>1</td>\n",
       "      <td>0</td>\n",
       "    </tr>\n",
       "    <tr>\n",
       "      <th>596128</th>\n",
       "      <td>1</td>\n",
       "      <td>0</td>\n",
       "    </tr>\n",
       "  </tbody>\n",
       "</table>\n",
       "<p>7044 rows × 2 columns</p>\n",
       "</div>"
      ],
      "text/plain": [
       "        total_sales  total_sales\n",
       "4                 1            0\n",
       "8                 1            0\n",
       "10                1            0\n",
       "11                1            0\n",
       "12                1            0\n",
       "...             ...          ...\n",
       "596119            1            0\n",
       "596123            1            0\n",
       "596125            1            0\n",
       "596126            1            0\n",
       "596128            1            0\n",
       "\n",
       "[7044 rows x 2 columns]"
      ]
     },
     "execution_count": 482,
     "metadata": {},
     "output_type": "execute_result"
    }
   ],
   "source": [
    "all_demands = pd.concat([no_demand, yes_demand], axis = 1)*1 #axis=1 specifies horizontal stacking\n",
    "all_demands"
   ]
  },
  {
   "cell_type": "code",
   "execution_count": 483,
   "metadata": {},
   "outputs": [
    {
     "data": {
      "text/html": [
       "<div>\n",
       "<style scoped>\n",
       "    .dataframe tbody tr th:only-of-type {\n",
       "        vertical-align: middle;\n",
       "    }\n",
       "\n",
       "    .dataframe tbody tr th {\n",
       "        vertical-align: top;\n",
       "    }\n",
       "\n",
       "    .dataframe thead th {\n",
       "        text-align: right;\n",
       "    }\n",
       "</style>\n",
       "<table border=\"1\" class=\"dataframe\">\n",
       "  <thead>\n",
       "    <tr style=\"text-align: right;\">\n",
       "      <th></th>\n",
       "      <th>category</th>\n",
       "      <th>NFT_collection_count</th>\n",
       "    </tr>\n",
       "  </thead>\n",
       "  <tbody>\n",
       "    <tr>\n",
       "      <th>0</th>\n",
       "      <td>total_sales</td>\n",
       "      <td>6683</td>\n",
       "    </tr>\n",
       "    <tr>\n",
       "      <th>1</th>\n",
       "      <td>total_sales</td>\n",
       "      <td>361</td>\n",
       "    </tr>\n",
       "  </tbody>\n",
       "</table>\n",
       "</div>"
      ],
      "text/plain": [
       "      category  NFT_collection_count\n",
       "0  total_sales                  6683\n",
       "1  total_sales                   361"
      ]
     },
     "execution_count": 483,
     "metadata": {},
     "output_type": "execute_result"
    }
   ],
   "source": [
    "prep_classes = all_demands['total_sales'].sum().reset_index()\n",
    "prep_classes.rename(columns={0:'NFT_collection_count'},inplace=True)\n",
    "prep_classes.rename(columns={'index': 'category'}, inplace=True)\n",
    "prep_classes"
   ]
  },
  {
   "cell_type": "code",
   "execution_count": 484,
   "metadata": {},
   "outputs": [
    {
     "data": {
      "text/html": [
       "<div>\n",
       "<style scoped>\n",
       "    .dataframe tbody tr th:only-of-type {\n",
       "        vertical-align: middle;\n",
       "    }\n",
       "\n",
       "    .dataframe tbody tr th {\n",
       "        vertical-align: top;\n",
       "    }\n",
       "\n",
       "    .dataframe thead th {\n",
       "        text-align: right;\n",
       "    }\n",
       "</style>\n",
       "<table border=\"1\" class=\"dataframe\">\n",
       "  <thead>\n",
       "    <tr style=\"text-align: right;\">\n",
       "      <th></th>\n",
       "      <th>demand</th>\n",
       "      <th>NFT_collection_count</th>\n",
       "    </tr>\n",
       "  </thead>\n",
       "  <tbody>\n",
       "    <tr>\n",
       "      <th>0</th>\n",
       "      <td>not_exists</td>\n",
       "      <td>6683</td>\n",
       "    </tr>\n",
       "    <tr>\n",
       "      <th>1</th>\n",
       "      <td>exists</td>\n",
       "      <td>361</td>\n",
       "    </tr>\n",
       "  </tbody>\n",
       "</table>\n",
       "</div>"
      ],
      "text/plain": [
       "       demand  NFT_collection_count\n",
       "0  not_exists                  6683\n",
       "1      exists                   361"
      ]
     },
     "execution_count": 484,
     "metadata": {},
     "output_type": "execute_result"
    }
   ],
   "source": [
    "demand_classes = pd.DataFrame({'demand': ['not_exists', 'exists'],\n",
    "                              'NFT_collection_count': [6683, 361]})\n",
    "demand_classes"
   ]
  },
  {
   "cell_type": "code",
   "execution_count": 485,
   "metadata": {},
   "outputs": [
    {
     "data": {
      "text/plain": [
       "([<matplotlib.patches.Wedge at 0x138e905b0>,\n",
       "  <matplotlib.patches.Wedge at 0x138e90a90>],\n",
       " [Text(-1.0857734575703282, 0.17634057626018695, 'not_exists'),\n",
       "  Text(1.0857734720167465, -0.1763404873099197, 'exists')])"
      ]
     },
     "execution_count": 485,
     "metadata": {},
     "output_type": "execute_result"
    },
    {
     "data": {
      "text/plain": [
       "Text(0.5, 1.0, 'Distribution of NFTs in demand and not')"
      ]
     },
     "execution_count": 485,
     "metadata": {},
     "output_type": "execute_result"
    },
    {
     "data": {
      "text/plain": [
       "Text(0.5, 1.0, 'Distribution of NFTs in demand and not')"
      ]
     },
     "execution_count": 485,
     "metadata": {},
     "output_type": "execute_result"
    },
    {
     "data": {
      "image/png": "[encoded data removed]",
      "text/plain": [
       "<Figure size 720x504 with 1 Axes>"
      ]
     },
     "metadata": {},
     "output_type": "display_data"
    }
   ],
   "source": [
    "fig = plt.figure(figsize =(10, 7))\n",
    "plt.pie(demand_classes['NFT_collection_count'], labels = demand_classes['demand'], colors=['lightblue','blue'])\n",
    "plt.title('Distribution of NFTs in demand and not', fontsize=20)\n",
    "plt.title('Distribution of NFTs in demand and not', fontsize=20)\n",
    "fig.savefig('Distribution of NFTs in demand and not.png', dpi=fig.dpi)"
   ]
  },
  {
   "cell_type": "code",
   "execution_count": 486,
   "metadata": {},
   "outputs": [
    {
     "data": {
      "text/html": [
       "<div>\n",
       "<style scoped>\n",
       "    .dataframe tbody tr th:only-of-type {\n",
       "        vertical-align: middle;\n",
       "    }\n",
       "\n",
       "    .dataframe tbody tr th {\n",
       "        vertical-align: top;\n",
       "    }\n",
       "\n",
       "    .dataframe thead th {\n",
       "        text-align: right;\n",
       "    }\n",
       "</style>\n",
       "<table border=\"1\" class=\"dataframe\">\n",
       "  <thead>\n",
       "    <tr style=\"text-align: right;\">\n",
       "      <th></th>\n",
       "      <th>collection_name</th>\n",
       "      <th>collection_status</th>\n",
       "      <th>nft_version</th>\n",
       "      <th>tokens</th>\n",
       "      <th>featured</th>\n",
       "      <th>hidden</th>\n",
       "      <th>nsfw</th>\n",
       "      <th>asset_contract_type</th>\n",
       "      <th>require_email</th>\n",
       "      <th>day_avg_price</th>\n",
       "      <th>week_avg_price</th>\n",
       "      <th>month_avg_price</th>\n",
       "      <th>total_volume</th>\n",
       "      <th>total_sales</th>\n",
       "      <th>total_supply</th>\n",
       "      <th>average_price</th>\n",
       "      <th>only_proxied_transfers</th>\n",
       "      <th>is_subject_to_whitelist</th>\n",
       "      <th>opensea_buyer_fee_basis_points</th>\n",
       "      <th>opensea_seller_fee_basis_points</th>\n",
       "      <th>demand_level</th>\n",
       "    </tr>\n",
       "  </thead>\n",
       "  <tbody>\n",
       "    <tr>\n",
       "      <th>0</th>\n",
       "      <td>test</td>\n",
       "      <td>0</td>\n",
       "      <td>3.0</td>\n",
       "      <td>1</td>\n",
       "      <td>False</td>\n",
       "      <td>False</td>\n",
       "      <td>False</td>\n",
       "      <td>0.0</td>\n",
       "      <td>False</td>\n",
       "      <td>0.0</td>\n",
       "      <td>0.0</td>\n",
       "      <td>0.0</td>\n",
       "      <td>0.0</td>\n",
       "      <td>0.0</td>\n",
       "      <td>1.0</td>\n",
       "      <td>0.0</td>\n",
       "      <td>False</td>\n",
       "      <td>False</td>\n",
       "      <td>0.0</td>\n",
       "      <td>250.0</td>\n",
       "      <td>0</td>\n",
       "    </tr>\n",
       "    <tr>\n",
       "      <th>1</th>\n",
       "      <td>test</td>\n",
       "      <td>0</td>\n",
       "      <td>3.0</td>\n",
       "      <td>1</td>\n",
       "      <td>False</td>\n",
       "      <td>False</td>\n",
       "      <td>False</td>\n",
       "      <td>0.0</td>\n",
       "      <td>False</td>\n",
       "      <td>0.0</td>\n",
       "      <td>0.0</td>\n",
       "      <td>0.0</td>\n",
       "      <td>0.0</td>\n",
       "      <td>0.0</td>\n",
       "      <td>3.0</td>\n",
       "      <td>0.0</td>\n",
       "      <td>False</td>\n",
       "      <td>False</td>\n",
       "      <td>0.0</td>\n",
       "      <td>250.0</td>\n",
       "      <td>0</td>\n",
       "    </tr>\n",
       "    <tr>\n",
       "      <th>2</th>\n",
       "      <td>test</td>\n",
       "      <td>0</td>\n",
       "      <td>3.0</td>\n",
       "      <td>1</td>\n",
       "      <td>False</td>\n",
       "      <td>False</td>\n",
       "      <td>False</td>\n",
       "      <td>0.0</td>\n",
       "      <td>False</td>\n",
       "      <td>0.0</td>\n",
       "      <td>0.0</td>\n",
       "      <td>0.0</td>\n",
       "      <td>0.0</td>\n",
       "      <td>0.0</td>\n",
       "      <td>4.0</td>\n",
       "      <td>0.0</td>\n",
       "      <td>False</td>\n",
       "      <td>False</td>\n",
       "      <td>0.0</td>\n",
       "      <td>250.0</td>\n",
       "      <td>0</td>\n",
       "    </tr>\n",
       "    <tr>\n",
       "      <th>3</th>\n",
       "      <td>test</td>\n",
       "      <td>0</td>\n",
       "      <td>3.0</td>\n",
       "      <td>1</td>\n",
       "      <td>False</td>\n",
       "      <td>False</td>\n",
       "      <td>False</td>\n",
       "      <td>0.0</td>\n",
       "      <td>False</td>\n",
       "      <td>0.0</td>\n",
       "      <td>0.0</td>\n",
       "      <td>0.0</td>\n",
       "      <td>0.0</td>\n",
       "      <td>0.0</td>\n",
       "      <td>2.0</td>\n",
       "      <td>0.0</td>\n",
       "      <td>False</td>\n",
       "      <td>False</td>\n",
       "      <td>0.0</td>\n",
       "      <td>250.0</td>\n",
       "      <td>0</td>\n",
       "    </tr>\n",
       "    <tr>\n",
       "      <th>4</th>\n",
       "      <td>test</td>\n",
       "      <td>0</td>\n",
       "      <td>3.0</td>\n",
       "      <td>1</td>\n",
       "      <td>False</td>\n",
       "      <td>False</td>\n",
       "      <td>False</td>\n",
       "      <td>0.0</td>\n",
       "      <td>False</td>\n",
       "      <td>0.0</td>\n",
       "      <td>0.0</td>\n",
       "      <td>0.0</td>\n",
       "      <td>0.0</td>\n",
       "      <td>0.0</td>\n",
       "      <td>10.0</td>\n",
       "      <td>0.0</td>\n",
       "      <td>False</td>\n",
       "      <td>False</td>\n",
       "      <td>0.0</td>\n",
       "      <td>250.0</td>\n",
       "      <td>0</td>\n",
       "    </tr>\n",
       "  </tbody>\n",
       "</table>\n",
       "</div>"
      ],
      "text/plain": [
       "  collection_name  collection_status  nft_version  tokens  featured  hidden  \\\n",
       "0            test                  0          3.0       1     False   False   \n",
       "1            test                  0          3.0       1     False   False   \n",
       "2            test                  0          3.0       1     False   False   \n",
       "3            test                  0          3.0       1     False   False   \n",
       "4            test                  0          3.0       1     False   False   \n",
       "\n",
       "    nsfw  asset_contract_type  require_email  day_avg_price  week_avg_price  \\\n",
       "0  False                  0.0          False            0.0             0.0   \n",
       "1  False                  0.0          False            0.0             0.0   \n",
       "2  False                  0.0          False            0.0             0.0   \n",
       "3  False                  0.0          False            0.0             0.0   \n",
       "4  False                  0.0          False            0.0             0.0   \n",
       "\n",
       "   month_avg_price  total_volume  total_sales  total_supply  average_price  \\\n",
       "0              0.0           0.0          0.0           1.0            0.0   \n",
       "1              0.0           0.0          0.0           3.0            0.0   \n",
       "2              0.0           0.0          0.0           4.0            0.0   \n",
       "3              0.0           0.0          0.0           2.0            0.0   \n",
       "4              0.0           0.0          0.0          10.0            0.0   \n",
       "\n",
       "   only_proxied_transfers  is_subject_to_whitelist  \\\n",
       "0                   False                    False   \n",
       "1                   False                    False   \n",
       "2                   False                    False   \n",
       "3                   False                    False   \n",
       "4                   False                    False   \n",
       "\n",
       "   opensea_buyer_fee_basis_points  opensea_seller_fee_basis_points  \\\n",
       "0                             0.0                            250.0   \n",
       "1                             0.0                            250.0   \n",
       "2                             0.0                            250.0   \n",
       "3                             0.0                            250.0   \n",
       "4                             0.0                            250.0   \n",
       "\n",
       "   demand_level  \n",
       "0             0  \n",
       "1             0  \n",
       "2             0  \n",
       "3             0  \n",
       "4             0  "
      ]
     },
     "execution_count": 486,
     "metadata": {},
     "output_type": "execute_result"
    },
    {
     "data": {
      "text/plain": [
       "7044"
      ]
     },
     "execution_count": 486,
     "metadata": {},
     "output_type": "execute_result"
    }
   ],
   "source": [
    "full_df = df.merge(demand_level_df,how='left', left_on='total_sales', right_on='total_sales')\n",
    "full_df.head()\n",
    "len(full_df)"
   ]
  },
  {
   "cell_type": "code",
   "execution_count": 487,
   "metadata": {},
   "outputs": [
    {
     "data": {
      "text/html": [
       "<div>\n",
       "<style scoped>\n",
       "    .dataframe tbody tr th:only-of-type {\n",
       "        vertical-align: middle;\n",
       "    }\n",
       "\n",
       "    .dataframe tbody tr th {\n",
       "        vertical-align: top;\n",
       "    }\n",
       "\n",
       "    .dataframe thead th {\n",
       "        text-align: right;\n",
       "    }\n",
       "</style>\n",
       "<table border=\"1\" class=\"dataframe\">\n",
       "  <thead>\n",
       "    <tr style=\"text-align: right;\">\n",
       "      <th></th>\n",
       "      <th>collection_status</th>\n",
       "      <th>nft_version</th>\n",
       "      <th>tokens</th>\n",
       "      <th>featured</th>\n",
       "      <th>hidden</th>\n",
       "      <th>nsfw</th>\n",
       "      <th>asset_contract_type</th>\n",
       "      <th>require_email</th>\n",
       "      <th>day_avg_price</th>\n",
       "      <th>week_avg_price</th>\n",
       "      <th>month_avg_price</th>\n",
       "      <th>total_volume</th>\n",
       "      <th>total_sales</th>\n",
       "      <th>total_supply</th>\n",
       "      <th>average_price</th>\n",
       "      <th>only_proxied_transfers</th>\n",
       "      <th>is_subject_to_whitelist</th>\n",
       "      <th>opensea_buyer_fee_basis_points</th>\n",
       "      <th>opensea_seller_fee_basis_points</th>\n",
       "    </tr>\n",
       "  </thead>\n",
       "  <tbody>\n",
       "    <tr>\n",
       "      <th>0</th>\n",
       "      <td>0.0</td>\n",
       "      <td>0.0</td>\n",
       "      <td>1.0</td>\n",
       "      <td>0.0</td>\n",
       "      <td>0.0</td>\n",
       "      <td>0.0</td>\n",
       "      <td>0.0</td>\n",
       "      <td>0.0</td>\n",
       "      <td>0.0</td>\n",
       "      <td>0.0</td>\n",
       "      <td>0.0</td>\n",
       "      <td>0.0</td>\n",
       "      <td>0.0</td>\n",
       "      <td>-0.363636</td>\n",
       "      <td>0.0</td>\n",
       "      <td>0.0</td>\n",
       "      <td>0.0</td>\n",
       "      <td>0.0</td>\n",
       "      <td>0.0</td>\n",
       "    </tr>\n",
       "    <tr>\n",
       "      <th>1</th>\n",
       "      <td>0.0</td>\n",
       "      <td>0.0</td>\n",
       "      <td>1.0</td>\n",
       "      <td>0.0</td>\n",
       "      <td>0.0</td>\n",
       "      <td>0.0</td>\n",
       "      <td>0.0</td>\n",
       "      <td>0.0</td>\n",
       "      <td>0.0</td>\n",
       "      <td>0.0</td>\n",
       "      <td>0.0</td>\n",
       "      <td>0.0</td>\n",
       "      <td>0.0</td>\n",
       "      <td>-0.181818</td>\n",
       "      <td>0.0</td>\n",
       "      <td>0.0</td>\n",
       "      <td>0.0</td>\n",
       "      <td>0.0</td>\n",
       "      <td>0.0</td>\n",
       "    </tr>\n",
       "    <tr>\n",
       "      <th>2</th>\n",
       "      <td>0.0</td>\n",
       "      <td>0.0</td>\n",
       "      <td>1.0</td>\n",
       "      <td>0.0</td>\n",
       "      <td>0.0</td>\n",
       "      <td>0.0</td>\n",
       "      <td>0.0</td>\n",
       "      <td>0.0</td>\n",
       "      <td>0.0</td>\n",
       "      <td>0.0</td>\n",
       "      <td>0.0</td>\n",
       "      <td>0.0</td>\n",
       "      <td>0.0</td>\n",
       "      <td>-0.090909</td>\n",
       "      <td>0.0</td>\n",
       "      <td>0.0</td>\n",
       "      <td>0.0</td>\n",
       "      <td>0.0</td>\n",
       "      <td>0.0</td>\n",
       "    </tr>\n",
       "    <tr>\n",
       "      <th>3</th>\n",
       "      <td>0.0</td>\n",
       "      <td>0.0</td>\n",
       "      <td>1.0</td>\n",
       "      <td>0.0</td>\n",
       "      <td>0.0</td>\n",
       "      <td>0.0</td>\n",
       "      <td>0.0</td>\n",
       "      <td>0.0</td>\n",
       "      <td>0.0</td>\n",
       "      <td>0.0</td>\n",
       "      <td>0.0</td>\n",
       "      <td>0.0</td>\n",
       "      <td>0.0</td>\n",
       "      <td>-0.272727</td>\n",
       "      <td>0.0</td>\n",
       "      <td>0.0</td>\n",
       "      <td>0.0</td>\n",
       "      <td>0.0</td>\n",
       "      <td>0.0</td>\n",
       "    </tr>\n",
       "    <tr>\n",
       "      <th>4</th>\n",
       "      <td>0.0</td>\n",
       "      <td>0.0</td>\n",
       "      <td>1.0</td>\n",
       "      <td>0.0</td>\n",
       "      <td>0.0</td>\n",
       "      <td>0.0</td>\n",
       "      <td>0.0</td>\n",
       "      <td>0.0</td>\n",
       "      <td>0.0</td>\n",
       "      <td>0.0</td>\n",
       "      <td>0.0</td>\n",
       "      <td>0.0</td>\n",
       "      <td>0.0</td>\n",
       "      <td>0.454545</td>\n",
       "      <td>0.0</td>\n",
       "      <td>0.0</td>\n",
       "      <td>0.0</td>\n",
       "      <td>0.0</td>\n",
       "      <td>0.0</td>\n",
       "    </tr>\n",
       "    <tr>\n",
       "      <th>...</th>\n",
       "      <td>...</td>\n",
       "      <td>...</td>\n",
       "      <td>...</td>\n",
       "      <td>...</td>\n",
       "      <td>...</td>\n",
       "      <td>...</td>\n",
       "      <td>...</td>\n",
       "      <td>...</td>\n",
       "      <td>...</td>\n",
       "      <td>...</td>\n",
       "      <td>...</td>\n",
       "      <td>...</td>\n",
       "      <td>...</td>\n",
       "      <td>...</td>\n",
       "      <td>...</td>\n",
       "      <td>...</td>\n",
       "      <td>...</td>\n",
       "      <td>...</td>\n",
       "      <td>...</td>\n",
       "    </tr>\n",
       "    <tr>\n",
       "      <th>7039</th>\n",
       "      <td>0.0</td>\n",
       "      <td>0.0</td>\n",
       "      <td>0.0</td>\n",
       "      <td>0.0</td>\n",
       "      <td>0.0</td>\n",
       "      <td>0.0</td>\n",
       "      <td>0.0</td>\n",
       "      <td>0.0</td>\n",
       "      <td>0.0</td>\n",
       "      <td>0.0</td>\n",
       "      <td>0.0</td>\n",
       "      <td>0.0</td>\n",
       "      <td>0.0</td>\n",
       "      <td>-0.181818</td>\n",
       "      <td>0.0</td>\n",
       "      <td>0.0</td>\n",
       "      <td>0.0</td>\n",
       "      <td>0.0</td>\n",
       "      <td>0.0</td>\n",
       "    </tr>\n",
       "    <tr>\n",
       "      <th>7040</th>\n",
       "      <td>0.0</td>\n",
       "      <td>0.0</td>\n",
       "      <td>2.0</td>\n",
       "      <td>0.0</td>\n",
       "      <td>0.0</td>\n",
       "      <td>0.0</td>\n",
       "      <td>0.0</td>\n",
       "      <td>0.0</td>\n",
       "      <td>0.0</td>\n",
       "      <td>0.0</td>\n",
       "      <td>0.0</td>\n",
       "      <td>0.0</td>\n",
       "      <td>0.0</td>\n",
       "      <td>-0.272727</td>\n",
       "      <td>0.0</td>\n",
       "      <td>0.0</td>\n",
       "      <td>0.0</td>\n",
       "      <td>0.0</td>\n",
       "      <td>0.0</td>\n",
       "    </tr>\n",
       "    <tr>\n",
       "      <th>7041</th>\n",
       "      <td>0.0</td>\n",
       "      <td>0.0</td>\n",
       "      <td>0.0</td>\n",
       "      <td>0.0</td>\n",
       "      <td>0.0</td>\n",
       "      <td>0.0</td>\n",
       "      <td>0.0</td>\n",
       "      <td>0.0</td>\n",
       "      <td>0.0</td>\n",
       "      <td>0.0</td>\n",
       "      <td>0.0</td>\n",
       "      <td>0.0</td>\n",
       "      <td>0.0</td>\n",
       "      <td>-0.181818</td>\n",
       "      <td>0.0</td>\n",
       "      <td>0.0</td>\n",
       "      <td>0.0</td>\n",
       "      <td>0.0</td>\n",
       "      <td>0.0</td>\n",
       "    </tr>\n",
       "    <tr>\n",
       "      <th>7042</th>\n",
       "      <td>0.0</td>\n",
       "      <td>0.0</td>\n",
       "      <td>0.0</td>\n",
       "      <td>0.0</td>\n",
       "      <td>0.0</td>\n",
       "      <td>0.0</td>\n",
       "      <td>0.0</td>\n",
       "      <td>0.0</td>\n",
       "      <td>0.0</td>\n",
       "      <td>0.0</td>\n",
       "      <td>0.0</td>\n",
       "      <td>0.0</td>\n",
       "      <td>0.0</td>\n",
       "      <td>-0.090909</td>\n",
       "      <td>0.0</td>\n",
       "      <td>0.0</td>\n",
       "      <td>0.0</td>\n",
       "      <td>0.0</td>\n",
       "      <td>0.0</td>\n",
       "    </tr>\n",
       "    <tr>\n",
       "      <th>7043</th>\n",
       "      <td>0.0</td>\n",
       "      <td>0.0</td>\n",
       "      <td>2.0</td>\n",
       "      <td>0.0</td>\n",
       "      <td>0.0</td>\n",
       "      <td>0.0</td>\n",
       "      <td>0.0</td>\n",
       "      <td>0.0</td>\n",
       "      <td>0.0</td>\n",
       "      <td>0.0</td>\n",
       "      <td>0.0</td>\n",
       "      <td>0.0</td>\n",
       "      <td>0.0</td>\n",
       "      <td>-0.272727</td>\n",
       "      <td>0.0</td>\n",
       "      <td>0.0</td>\n",
       "      <td>0.0</td>\n",
       "      <td>0.0</td>\n",
       "      <td>0.0</td>\n",
       "    </tr>\n",
       "  </tbody>\n",
       "</table>\n",
       "<p>7044 rows × 19 columns</p>\n",
       "</div>"
      ],
      "text/plain": [
       "      collection_status  nft_version  tokens  featured  hidden  nsfw  \\\n",
       "0                   0.0          0.0     1.0       0.0     0.0   0.0   \n",
       "1                   0.0          0.0     1.0       0.0     0.0   0.0   \n",
       "2                   0.0          0.0     1.0       0.0     0.0   0.0   \n",
       "3                   0.0          0.0     1.0       0.0     0.0   0.0   \n",
       "4                   0.0          0.0     1.0       0.0     0.0   0.0   \n",
       "...                 ...          ...     ...       ...     ...   ...   \n",
       "7039                0.0          0.0     0.0       0.0     0.0   0.0   \n",
       "7040                0.0          0.0     2.0       0.0     0.0   0.0   \n",
       "7041                0.0          0.0     0.0       0.0     0.0   0.0   \n",
       "7042                0.0          0.0     0.0       0.0     0.0   0.0   \n",
       "7043                0.0          0.0     2.0       0.0     0.0   0.0   \n",
       "\n",
       "      asset_contract_type  require_email  day_avg_price  week_avg_price  \\\n",
       "0                     0.0            0.0            0.0             0.0   \n",
       "1                     0.0            0.0            0.0             0.0   \n",
       "2                     0.0            0.0            0.0             0.0   \n",
       "3                     0.0            0.0            0.0             0.0   \n",
       "4                     0.0            0.0            0.0             0.0   \n",
       "...                   ...            ...            ...             ...   \n",
       "7039                  0.0            0.0            0.0             0.0   \n",
       "7040                  0.0            0.0            0.0             0.0   \n",
       "7041                  0.0            0.0            0.0             0.0   \n",
       "7042                  0.0            0.0            0.0             0.0   \n",
       "7043                  0.0            0.0            0.0             0.0   \n",
       "\n",
       "      month_avg_price  total_volume  total_sales  total_supply  average_price  \\\n",
       "0                 0.0           0.0          0.0     -0.363636            0.0   \n",
       "1                 0.0           0.0          0.0     -0.181818            0.0   \n",
       "2                 0.0           0.0          0.0     -0.090909            0.0   \n",
       "3                 0.0           0.0          0.0     -0.272727            0.0   \n",
       "4                 0.0           0.0          0.0      0.454545            0.0   \n",
       "...               ...           ...          ...           ...            ...   \n",
       "7039              0.0           0.0          0.0     -0.181818            0.0   \n",
       "7040              0.0           0.0          0.0     -0.272727            0.0   \n",
       "7041              0.0           0.0          0.0     -0.181818            0.0   \n",
       "7042              0.0           0.0          0.0     -0.090909            0.0   \n",
       "7043              0.0           0.0          0.0     -0.272727            0.0   \n",
       "\n",
       "      only_proxied_transfers  is_subject_to_whitelist  \\\n",
       "0                        0.0                      0.0   \n",
       "1                        0.0                      0.0   \n",
       "2                        0.0                      0.0   \n",
       "3                        0.0                      0.0   \n",
       "4                        0.0                      0.0   \n",
       "...                      ...                      ...   \n",
       "7039                     0.0                      0.0   \n",
       "7040                     0.0                      0.0   \n",
       "7041                     0.0                      0.0   \n",
       "7042                     0.0                      0.0   \n",
       "7043                     0.0                      0.0   \n",
       "\n",
       "      opensea_buyer_fee_basis_points  opensea_seller_fee_basis_points  \n",
       "0                                0.0                              0.0  \n",
       "1                                0.0                              0.0  \n",
       "2                                0.0                              0.0  \n",
       "3                                0.0                              0.0  \n",
       "4                                0.0                              0.0  \n",
       "...                              ...                              ...  \n",
       "7039                             0.0                              0.0  \n",
       "7040                             0.0                              0.0  \n",
       "7041                             0.0                              0.0  \n",
       "7042                             0.0                              0.0  \n",
       "7043                             0.0                              0.0  \n",
       "\n",
       "[7044 rows x 19 columns]"
      ]
     },
     "execution_count": 487,
     "metadata": {},
     "output_type": "execute_result"
    }
   ],
   "source": [
    "# Scale the explanatory variables\n",
    "from sklearn.preprocessing import RobustScaler\n",
    "stratified_df = full_df.drop(columns = ['demand_level', 'collection_name'])\n",
    "stratified_df = pd.DataFrame(RobustScaler().fit_transform(stratified_df), columns=stratified_df.columns)\n",
    "stratified_df "
   ]
  },
  {
   "cell_type": "code",
   "execution_count": 488,
   "metadata": {},
   "outputs": [],
   "source": [
    "demands = full_df[['demand_level']].copy()"
   ]
  },
  {
   "cell_type": "code",
   "execution_count": 489,
   "metadata": {},
   "outputs": [
    {
     "data": {
      "text/html": [
       "<div>\n",
       "<style scoped>\n",
       "    .dataframe tbody tr th:only-of-type {\n",
       "        vertical-align: middle;\n",
       "    }\n",
       "\n",
       "    .dataframe tbody tr th {\n",
       "        vertical-align: top;\n",
       "    }\n",
       "\n",
       "    .dataframe thead th {\n",
       "        text-align: right;\n",
       "    }\n",
       "</style>\n",
       "<table border=\"1\" class=\"dataframe\">\n",
       "  <thead>\n",
       "    <tr style=\"text-align: right;\">\n",
       "      <th></th>\n",
       "      <th>collection_index</th>\n",
       "      <th>collection_status</th>\n",
       "      <th>nft_version</th>\n",
       "      <th>tokens</th>\n",
       "      <th>featured</th>\n",
       "      <th>hidden</th>\n",
       "      <th>nsfw</th>\n",
       "      <th>asset_contract_type</th>\n",
       "      <th>require_email</th>\n",
       "      <th>day_avg_price</th>\n",
       "      <th>week_avg_price</th>\n",
       "      <th>month_avg_price</th>\n",
       "      <th>total_volume</th>\n",
       "      <th>total_sales</th>\n",
       "      <th>total_supply</th>\n",
       "      <th>average_price</th>\n",
       "      <th>only_proxied_transfers</th>\n",
       "      <th>is_subject_to_whitelist</th>\n",
       "      <th>opensea_buyer_fee_basis_points</th>\n",
       "      <th>opensea_seller_fee_basis_points</th>\n",
       "      <th>demand_level</th>\n",
       "    </tr>\n",
       "  </thead>\n",
       "  <tbody>\n",
       "    <tr>\n",
       "      <th>0</th>\n",
       "      <td>0</td>\n",
       "      <td>0.0</td>\n",
       "      <td>0.0</td>\n",
       "      <td>1.0</td>\n",
       "      <td>0.0</td>\n",
       "      <td>0.0</td>\n",
       "      <td>0.0</td>\n",
       "      <td>0.0</td>\n",
       "      <td>0.0</td>\n",
       "      <td>0.0</td>\n",
       "      <td>0.0</td>\n",
       "      <td>0.0</td>\n",
       "      <td>0.0</td>\n",
       "      <td>0.0</td>\n",
       "      <td>-0.363636</td>\n",
       "      <td>0.0</td>\n",
       "      <td>0.0</td>\n",
       "      <td>0.0</td>\n",
       "      <td>0.0</td>\n",
       "      <td>0.0</td>\n",
       "      <td>0</td>\n",
       "    </tr>\n",
       "    <tr>\n",
       "      <th>1</th>\n",
       "      <td>1</td>\n",
       "      <td>0.0</td>\n",
       "      <td>0.0</td>\n",
       "      <td>1.0</td>\n",
       "      <td>0.0</td>\n",
       "      <td>0.0</td>\n",
       "      <td>0.0</td>\n",
       "      <td>0.0</td>\n",
       "      <td>0.0</td>\n",
       "      <td>0.0</td>\n",
       "      <td>0.0</td>\n",
       "      <td>0.0</td>\n",
       "      <td>0.0</td>\n",
       "      <td>0.0</td>\n",
       "      <td>-0.181818</td>\n",
       "      <td>0.0</td>\n",
       "      <td>0.0</td>\n",
       "      <td>0.0</td>\n",
       "      <td>0.0</td>\n",
       "      <td>0.0</td>\n",
       "      <td>0</td>\n",
       "    </tr>\n",
       "    <tr>\n",
       "      <th>2</th>\n",
       "      <td>2</td>\n",
       "      <td>0.0</td>\n",
       "      <td>0.0</td>\n",
       "      <td>1.0</td>\n",
       "      <td>0.0</td>\n",
       "      <td>0.0</td>\n",
       "      <td>0.0</td>\n",
       "      <td>0.0</td>\n",
       "      <td>0.0</td>\n",
       "      <td>0.0</td>\n",
       "      <td>0.0</td>\n",
       "      <td>0.0</td>\n",
       "      <td>0.0</td>\n",
       "      <td>0.0</td>\n",
       "      <td>-0.090909</td>\n",
       "      <td>0.0</td>\n",
       "      <td>0.0</td>\n",
       "      <td>0.0</td>\n",
       "      <td>0.0</td>\n",
       "      <td>0.0</td>\n",
       "      <td>0</td>\n",
       "    </tr>\n",
       "    <tr>\n",
       "      <th>3</th>\n",
       "      <td>3</td>\n",
       "      <td>0.0</td>\n",
       "      <td>0.0</td>\n",
       "      <td>1.0</td>\n",
       "      <td>0.0</td>\n",
       "      <td>0.0</td>\n",
       "      <td>0.0</td>\n",
       "      <td>0.0</td>\n",
       "      <td>0.0</td>\n",
       "      <td>0.0</td>\n",
       "      <td>0.0</td>\n",
       "      <td>0.0</td>\n",
       "      <td>0.0</td>\n",
       "      <td>0.0</td>\n",
       "      <td>-0.272727</td>\n",
       "      <td>0.0</td>\n",
       "      <td>0.0</td>\n",
       "      <td>0.0</td>\n",
       "      <td>0.0</td>\n",
       "      <td>0.0</td>\n",
       "      <td>0</td>\n",
       "    </tr>\n",
       "    <tr>\n",
       "      <th>4</th>\n",
       "      <td>4</td>\n",
       "      <td>0.0</td>\n",
       "      <td>0.0</td>\n",
       "      <td>1.0</td>\n",
       "      <td>0.0</td>\n",
       "      <td>0.0</td>\n",
       "      <td>0.0</td>\n",
       "      <td>0.0</td>\n",
       "      <td>0.0</td>\n",
       "      <td>0.0</td>\n",
       "      <td>0.0</td>\n",
       "      <td>0.0</td>\n",
       "      <td>0.0</td>\n",
       "      <td>0.0</td>\n",
       "      <td>0.454545</td>\n",
       "      <td>0.0</td>\n",
       "      <td>0.0</td>\n",
       "      <td>0.0</td>\n",
       "      <td>0.0</td>\n",
       "      <td>0.0</td>\n",
       "      <td>0</td>\n",
       "    </tr>\n",
       "    <tr>\n",
       "      <th>...</th>\n",
       "      <td>...</td>\n",
       "      <td>...</td>\n",
       "      <td>...</td>\n",
       "      <td>...</td>\n",
       "      <td>...</td>\n",
       "      <td>...</td>\n",
       "      <td>...</td>\n",
       "      <td>...</td>\n",
       "      <td>...</td>\n",
       "      <td>...</td>\n",
       "      <td>...</td>\n",
       "      <td>...</td>\n",
       "      <td>...</td>\n",
       "      <td>...</td>\n",
       "      <td>...</td>\n",
       "      <td>...</td>\n",
       "      <td>...</td>\n",
       "      <td>...</td>\n",
       "      <td>...</td>\n",
       "      <td>...</td>\n",
       "      <td>...</td>\n",
       "    </tr>\n",
       "    <tr>\n",
       "      <th>7039</th>\n",
       "      <td>7039</td>\n",
       "      <td>0.0</td>\n",
       "      <td>0.0</td>\n",
       "      <td>0.0</td>\n",
       "      <td>0.0</td>\n",
       "      <td>0.0</td>\n",
       "      <td>0.0</td>\n",
       "      <td>0.0</td>\n",
       "      <td>0.0</td>\n",
       "      <td>0.0</td>\n",
       "      <td>0.0</td>\n",
       "      <td>0.0</td>\n",
       "      <td>0.0</td>\n",
       "      <td>0.0</td>\n",
       "      <td>-0.181818</td>\n",
       "      <td>0.0</td>\n",
       "      <td>0.0</td>\n",
       "      <td>0.0</td>\n",
       "      <td>0.0</td>\n",
       "      <td>0.0</td>\n",
       "      <td>0</td>\n",
       "    </tr>\n",
       "    <tr>\n",
       "      <th>7040</th>\n",
       "      <td>7040</td>\n",
       "      <td>0.0</td>\n",
       "      <td>0.0</td>\n",
       "      <td>2.0</td>\n",
       "      <td>0.0</td>\n",
       "      <td>0.0</td>\n",
       "      <td>0.0</td>\n",
       "      <td>0.0</td>\n",
       "      <td>0.0</td>\n",
       "      <td>0.0</td>\n",
       "      <td>0.0</td>\n",
       "      <td>0.0</td>\n",
       "      <td>0.0</td>\n",
       "      <td>0.0</td>\n",
       "      <td>-0.272727</td>\n",
       "      <td>0.0</td>\n",
       "      <td>0.0</td>\n",
       "      <td>0.0</td>\n",
       "      <td>0.0</td>\n",
       "      <td>0.0</td>\n",
       "      <td>0</td>\n",
       "    </tr>\n",
       "    <tr>\n",
       "      <th>7041</th>\n",
       "      <td>7041</td>\n",
       "      <td>0.0</td>\n",
       "      <td>0.0</td>\n",
       "      <td>0.0</td>\n",
       "      <td>0.0</td>\n",
       "      <td>0.0</td>\n",
       "      <td>0.0</td>\n",
       "      <td>0.0</td>\n",
       "      <td>0.0</td>\n",
       "      <td>0.0</td>\n",
       "      <td>0.0</td>\n",
       "      <td>0.0</td>\n",
       "      <td>0.0</td>\n",
       "      <td>0.0</td>\n",
       "      <td>-0.181818</td>\n",
       "      <td>0.0</td>\n",
       "      <td>0.0</td>\n",
       "      <td>0.0</td>\n",
       "      <td>0.0</td>\n",
       "      <td>0.0</td>\n",
       "      <td>0</td>\n",
       "    </tr>\n",
       "    <tr>\n",
       "      <th>7042</th>\n",
       "      <td>7042</td>\n",
       "      <td>0.0</td>\n",
       "      <td>0.0</td>\n",
       "      <td>0.0</td>\n",
       "      <td>0.0</td>\n",
       "      <td>0.0</td>\n",
       "      <td>0.0</td>\n",
       "      <td>0.0</td>\n",
       "      <td>0.0</td>\n",
       "      <td>0.0</td>\n",
       "      <td>0.0</td>\n",
       "      <td>0.0</td>\n",
       "      <td>0.0</td>\n",
       "      <td>0.0</td>\n",
       "      <td>-0.090909</td>\n",
       "      <td>0.0</td>\n",
       "      <td>0.0</td>\n",
       "      <td>0.0</td>\n",
       "      <td>0.0</td>\n",
       "      <td>0.0</td>\n",
       "      <td>0</td>\n",
       "    </tr>\n",
       "    <tr>\n",
       "      <th>7043</th>\n",
       "      <td>7043</td>\n",
       "      <td>0.0</td>\n",
       "      <td>0.0</td>\n",
       "      <td>2.0</td>\n",
       "      <td>0.0</td>\n",
       "      <td>0.0</td>\n",
       "      <td>0.0</td>\n",
       "      <td>0.0</td>\n",
       "      <td>0.0</td>\n",
       "      <td>0.0</td>\n",
       "      <td>0.0</td>\n",
       "      <td>0.0</td>\n",
       "      <td>0.0</td>\n",
       "      <td>0.0</td>\n",
       "      <td>-0.272727</td>\n",
       "      <td>0.0</td>\n",
       "      <td>0.0</td>\n",
       "      <td>0.0</td>\n",
       "      <td>0.0</td>\n",
       "      <td>0.0</td>\n",
       "      <td>0</td>\n",
       "    </tr>\n",
       "  </tbody>\n",
       "</table>\n",
       "<p>7044 rows × 21 columns</p>\n",
       "</div>"
      ],
      "text/plain": [
       "      collection_index  collection_status  nft_version  tokens  featured  \\\n",
       "0                    0                0.0          0.0     1.0       0.0   \n",
       "1                    1                0.0          0.0     1.0       0.0   \n",
       "2                    2                0.0          0.0     1.0       0.0   \n",
       "3                    3                0.0          0.0     1.0       0.0   \n",
       "4                    4                0.0          0.0     1.0       0.0   \n",
       "...                ...                ...          ...     ...       ...   \n",
       "7039              7039                0.0          0.0     0.0       0.0   \n",
       "7040              7040                0.0          0.0     2.0       0.0   \n",
       "7041              7041                0.0          0.0     0.0       0.0   \n",
       "7042              7042                0.0          0.0     0.0       0.0   \n",
       "7043              7043                0.0          0.0     2.0       0.0   \n",
       "\n",
       "      hidden  nsfw  asset_contract_type  require_email  day_avg_price  \\\n",
       "0        0.0   0.0                  0.0            0.0            0.0   \n",
       "1        0.0   0.0                  0.0            0.0            0.0   \n",
       "2        0.0   0.0                  0.0            0.0            0.0   \n",
       "3        0.0   0.0                  0.0            0.0            0.0   \n",
       "4        0.0   0.0                  0.0            0.0            0.0   \n",
       "...      ...   ...                  ...            ...            ...   \n",
       "7039     0.0   0.0                  0.0            0.0            0.0   \n",
       "7040     0.0   0.0                  0.0            0.0            0.0   \n",
       "7041     0.0   0.0                  0.0            0.0            0.0   \n",
       "7042     0.0   0.0                  0.0            0.0            0.0   \n",
       "7043     0.0   0.0                  0.0            0.0            0.0   \n",
       "\n",
       "      week_avg_price  month_avg_price  total_volume  total_sales  \\\n",
       "0                0.0              0.0           0.0          0.0   \n",
       "1                0.0              0.0           0.0          0.0   \n",
       "2                0.0              0.0           0.0          0.0   \n",
       "3                0.0              0.0           0.0          0.0   \n",
       "4                0.0              0.0           0.0          0.0   \n",
       "...              ...              ...           ...          ...   \n",
       "7039             0.0              0.0           0.0          0.0   \n",
       "7040             0.0              0.0           0.0          0.0   \n",
       "7041             0.0              0.0           0.0          0.0   \n",
       "7042             0.0              0.0           0.0          0.0   \n",
       "7043             0.0              0.0           0.0          0.0   \n",
       "\n",
       "      total_supply  average_price  only_proxied_transfers  \\\n",
       "0        -0.363636            0.0                     0.0   \n",
       "1        -0.181818            0.0                     0.0   \n",
       "2        -0.090909            0.0                     0.0   \n",
       "3        -0.272727            0.0                     0.0   \n",
       "4         0.454545            0.0                     0.0   \n",
       "...            ...            ...                     ...   \n",
       "7039     -0.181818            0.0                     0.0   \n",
       "7040     -0.272727            0.0                     0.0   \n",
       "7041     -0.181818            0.0                     0.0   \n",
       "7042     -0.090909            0.0                     0.0   \n",
       "7043     -0.272727            0.0                     0.0   \n",
       "\n",
       "      is_subject_to_whitelist  opensea_buyer_fee_basis_points  \\\n",
       "0                         0.0                             0.0   \n",
       "1                         0.0                             0.0   \n",
       "2                         0.0                             0.0   \n",
       "3                         0.0                             0.0   \n",
       "4                         0.0                             0.0   \n",
       "...                       ...                             ...   \n",
       "7039                      0.0                             0.0   \n",
       "7040                      0.0                             0.0   \n",
       "7041                      0.0                             0.0   \n",
       "7042                      0.0                             0.0   \n",
       "7043                      0.0                             0.0   \n",
       "\n",
       "      opensea_seller_fee_basis_points  demand_level  \n",
       "0                                 0.0             0  \n",
       "1                                 0.0             0  \n",
       "2                                 0.0             0  \n",
       "3                                 0.0             0  \n",
       "4                                 0.0             0  \n",
       "...                               ...           ...  \n",
       "7039                              0.0             0  \n",
       "7040                              0.0             0  \n",
       "7041                              0.0             0  \n",
       "7042                              0.0             0  \n",
       "7043                              0.0             0  \n",
       "\n",
       "[7044 rows x 21 columns]"
      ]
     },
     "execution_count": 489,
     "metadata": {},
     "output_type": "execute_result"
    }
   ],
   "source": [
    "df = pd.concat([stratified_df, demands], axis = 1)*1 #axis=1 specifies horizontal\n",
    "df.reset_index(inplace=True)\n",
    "df = df.rename(columns = {'index':'collection_index'})\n",
    "df"
   ]
  },
  {
   "cell_type": "code",
   "execution_count": 490,
   "metadata": {},
   "outputs": [
    {
     "data": {
      "text/html": [
       "<div>\n",
       "<style scoped>\n",
       "    .dataframe tbody tr th:only-of-type {\n",
       "        vertical-align: middle;\n",
       "    }\n",
       "\n",
       "    .dataframe tbody tr th {\n",
       "        vertical-align: top;\n",
       "    }\n",
       "\n",
       "    .dataframe thead th {\n",
       "        text-align: right;\n",
       "    }\n",
       "</style>\n",
       "<table border=\"1\" class=\"dataframe\">\n",
       "  <thead>\n",
       "    <tr style=\"text-align: right;\">\n",
       "      <th></th>\n",
       "      <th>collection_status</th>\n",
       "      <th>nft_version</th>\n",
       "      <th>tokens</th>\n",
       "      <th>featured</th>\n",
       "      <th>hidden</th>\n",
       "      <th>nsfw</th>\n",
       "      <th>asset_contract_type</th>\n",
       "      <th>require_email</th>\n",
       "      <th>day_avg_price</th>\n",
       "      <th>week_avg_price</th>\n",
       "      <th>month_avg_price</th>\n",
       "      <th>total_volume</th>\n",
       "      <th>total_sales</th>\n",
       "      <th>total_supply</th>\n",
       "      <th>average_price</th>\n",
       "      <th>only_proxied_transfers</th>\n",
       "      <th>is_subject_to_whitelist</th>\n",
       "      <th>opensea_buyer_fee_basis_points</th>\n",
       "      <th>opensea_seller_fee_basis_points</th>\n",
       "      <th>demand_level</th>\n",
       "    </tr>\n",
       "  </thead>\n",
       "  <tbody>\n",
       "    <tr>\n",
       "      <th>0</th>\n",
       "      <td>0.0</td>\n",
       "      <td>0.0</td>\n",
       "      <td>1.0</td>\n",
       "      <td>0.0</td>\n",
       "      <td>0.0</td>\n",
       "      <td>0.0</td>\n",
       "      <td>0.0</td>\n",
       "      <td>0.0</td>\n",
       "      <td>0.0</td>\n",
       "      <td>0.0</td>\n",
       "      <td>0.0</td>\n",
       "      <td>0.0</td>\n",
       "      <td>0.0</td>\n",
       "      <td>-0.363636</td>\n",
       "      <td>0.0</td>\n",
       "      <td>0.0</td>\n",
       "      <td>0.0</td>\n",
       "      <td>0.0</td>\n",
       "      <td>0.0</td>\n",
       "      <td>0</td>\n",
       "    </tr>\n",
       "    <tr>\n",
       "      <th>1</th>\n",
       "      <td>0.0</td>\n",
       "      <td>0.0</td>\n",
       "      <td>1.0</td>\n",
       "      <td>0.0</td>\n",
       "      <td>0.0</td>\n",
       "      <td>0.0</td>\n",
       "      <td>0.0</td>\n",
       "      <td>0.0</td>\n",
       "      <td>0.0</td>\n",
       "      <td>0.0</td>\n",
       "      <td>0.0</td>\n",
       "      <td>0.0</td>\n",
       "      <td>0.0</td>\n",
       "      <td>-0.181818</td>\n",
       "      <td>0.0</td>\n",
       "      <td>0.0</td>\n",
       "      <td>0.0</td>\n",
       "      <td>0.0</td>\n",
       "      <td>0.0</td>\n",
       "      <td>0</td>\n",
       "    </tr>\n",
       "    <tr>\n",
       "      <th>2</th>\n",
       "      <td>0.0</td>\n",
       "      <td>0.0</td>\n",
       "      <td>1.0</td>\n",
       "      <td>0.0</td>\n",
       "      <td>0.0</td>\n",
       "      <td>0.0</td>\n",
       "      <td>0.0</td>\n",
       "      <td>0.0</td>\n",
       "      <td>0.0</td>\n",
       "      <td>0.0</td>\n",
       "      <td>0.0</td>\n",
       "      <td>0.0</td>\n",
       "      <td>0.0</td>\n",
       "      <td>-0.090909</td>\n",
       "      <td>0.0</td>\n",
       "      <td>0.0</td>\n",
       "      <td>0.0</td>\n",
       "      <td>0.0</td>\n",
       "      <td>0.0</td>\n",
       "      <td>0</td>\n",
       "    </tr>\n",
       "    <tr>\n",
       "      <th>3</th>\n",
       "      <td>0.0</td>\n",
       "      <td>0.0</td>\n",
       "      <td>1.0</td>\n",
       "      <td>0.0</td>\n",
       "      <td>0.0</td>\n",
       "      <td>0.0</td>\n",
       "      <td>0.0</td>\n",
       "      <td>0.0</td>\n",
       "      <td>0.0</td>\n",
       "      <td>0.0</td>\n",
       "      <td>0.0</td>\n",
       "      <td>0.0</td>\n",
       "      <td>0.0</td>\n",
       "      <td>-0.272727</td>\n",
       "      <td>0.0</td>\n",
       "      <td>0.0</td>\n",
       "      <td>0.0</td>\n",
       "      <td>0.0</td>\n",
       "      <td>0.0</td>\n",
       "      <td>0</td>\n",
       "    </tr>\n",
       "    <tr>\n",
       "      <th>4</th>\n",
       "      <td>0.0</td>\n",
       "      <td>0.0</td>\n",
       "      <td>1.0</td>\n",
       "      <td>0.0</td>\n",
       "      <td>0.0</td>\n",
       "      <td>0.0</td>\n",
       "      <td>0.0</td>\n",
       "      <td>0.0</td>\n",
       "      <td>0.0</td>\n",
       "      <td>0.0</td>\n",
       "      <td>0.0</td>\n",
       "      <td>0.0</td>\n",
       "      <td>0.0</td>\n",
       "      <td>0.454545</td>\n",
       "      <td>0.0</td>\n",
       "      <td>0.0</td>\n",
       "      <td>0.0</td>\n",
       "      <td>0.0</td>\n",
       "      <td>0.0</td>\n",
       "      <td>0</td>\n",
       "    </tr>\n",
       "    <tr>\n",
       "      <th>...</th>\n",
       "      <td>...</td>\n",
       "      <td>...</td>\n",
       "      <td>...</td>\n",
       "      <td>...</td>\n",
       "      <td>...</td>\n",
       "      <td>...</td>\n",
       "      <td>...</td>\n",
       "      <td>...</td>\n",
       "      <td>...</td>\n",
       "      <td>...</td>\n",
       "      <td>...</td>\n",
       "      <td>...</td>\n",
       "      <td>...</td>\n",
       "      <td>...</td>\n",
       "      <td>...</td>\n",
       "      <td>...</td>\n",
       "      <td>...</td>\n",
       "      <td>...</td>\n",
       "      <td>...</td>\n",
       "      <td>...</td>\n",
       "    </tr>\n",
       "    <tr>\n",
       "      <th>7039</th>\n",
       "      <td>0.0</td>\n",
       "      <td>0.0</td>\n",
       "      <td>0.0</td>\n",
       "      <td>0.0</td>\n",
       "      <td>0.0</td>\n",
       "      <td>0.0</td>\n",
       "      <td>0.0</td>\n",
       "      <td>0.0</td>\n",
       "      <td>0.0</td>\n",
       "      <td>0.0</td>\n",
       "      <td>0.0</td>\n",
       "      <td>0.0</td>\n",
       "      <td>0.0</td>\n",
       "      <td>-0.181818</td>\n",
       "      <td>0.0</td>\n",
       "      <td>0.0</td>\n",
       "      <td>0.0</td>\n",
       "      <td>0.0</td>\n",
       "      <td>0.0</td>\n",
       "      <td>0</td>\n",
       "    </tr>\n",
       "    <tr>\n",
       "      <th>7040</th>\n",
       "      <td>0.0</td>\n",
       "      <td>0.0</td>\n",
       "      <td>2.0</td>\n",
       "      <td>0.0</td>\n",
       "      <td>0.0</td>\n",
       "      <td>0.0</td>\n",
       "      <td>0.0</td>\n",
       "      <td>0.0</td>\n",
       "      <td>0.0</td>\n",
       "      <td>0.0</td>\n",
       "      <td>0.0</td>\n",
       "      <td>0.0</td>\n",
       "      <td>0.0</td>\n",
       "      <td>-0.272727</td>\n",
       "      <td>0.0</td>\n",
       "      <td>0.0</td>\n",
       "      <td>0.0</td>\n",
       "      <td>0.0</td>\n",
       "      <td>0.0</td>\n",
       "      <td>0</td>\n",
       "    </tr>\n",
       "    <tr>\n",
       "      <th>7041</th>\n",
       "      <td>0.0</td>\n",
       "      <td>0.0</td>\n",
       "      <td>0.0</td>\n",
       "      <td>0.0</td>\n",
       "      <td>0.0</td>\n",
       "      <td>0.0</td>\n",
       "      <td>0.0</td>\n",
       "      <td>0.0</td>\n",
       "      <td>0.0</td>\n",
       "      <td>0.0</td>\n",
       "      <td>0.0</td>\n",
       "      <td>0.0</td>\n",
       "      <td>0.0</td>\n",
       "      <td>-0.181818</td>\n",
       "      <td>0.0</td>\n",
       "      <td>0.0</td>\n",
       "      <td>0.0</td>\n",
       "      <td>0.0</td>\n",
       "      <td>0.0</td>\n",
       "      <td>0</td>\n",
       "    </tr>\n",
       "    <tr>\n",
       "      <th>7042</th>\n",
       "      <td>0.0</td>\n",
       "      <td>0.0</td>\n",
       "      <td>0.0</td>\n",
       "      <td>0.0</td>\n",
       "      <td>0.0</td>\n",
       "      <td>0.0</td>\n",
       "      <td>0.0</td>\n",
       "      <td>0.0</td>\n",
       "      <td>0.0</td>\n",
       "      <td>0.0</td>\n",
       "      <td>0.0</td>\n",
       "      <td>0.0</td>\n",
       "      <td>0.0</td>\n",
       "      <td>-0.090909</td>\n",
       "      <td>0.0</td>\n",
       "      <td>0.0</td>\n",
       "      <td>0.0</td>\n",
       "      <td>0.0</td>\n",
       "      <td>0.0</td>\n",
       "      <td>0</td>\n",
       "    </tr>\n",
       "    <tr>\n",
       "      <th>7043</th>\n",
       "      <td>0.0</td>\n",
       "      <td>0.0</td>\n",
       "      <td>2.0</td>\n",
       "      <td>0.0</td>\n",
       "      <td>0.0</td>\n",
       "      <td>0.0</td>\n",
       "      <td>0.0</td>\n",
       "      <td>0.0</td>\n",
       "      <td>0.0</td>\n",
       "      <td>0.0</td>\n",
       "      <td>0.0</td>\n",
       "      <td>0.0</td>\n",
       "      <td>0.0</td>\n",
       "      <td>-0.272727</td>\n",
       "      <td>0.0</td>\n",
       "      <td>0.0</td>\n",
       "      <td>0.0</td>\n",
       "      <td>0.0</td>\n",
       "      <td>0.0</td>\n",
       "      <td>0</td>\n",
       "    </tr>\n",
       "  </tbody>\n",
       "</table>\n",
       "<p>7044 rows × 20 columns</p>\n",
       "</div>"
      ],
      "text/plain": [
       "      collection_status  nft_version  tokens  featured  hidden  nsfw  \\\n",
       "0                   0.0          0.0     1.0       0.0     0.0   0.0   \n",
       "1                   0.0          0.0     1.0       0.0     0.0   0.0   \n",
       "2                   0.0          0.0     1.0       0.0     0.0   0.0   \n",
       "3                   0.0          0.0     1.0       0.0     0.0   0.0   \n",
       "4                   0.0          0.0     1.0       0.0     0.0   0.0   \n",
       "...                 ...          ...     ...       ...     ...   ...   \n",
       "7039                0.0          0.0     0.0       0.0     0.0   0.0   \n",
       "7040                0.0          0.0     2.0       0.0     0.0   0.0   \n",
       "7041                0.0          0.0     0.0       0.0     0.0   0.0   \n",
       "7042                0.0          0.0     0.0       0.0     0.0   0.0   \n",
       "7043                0.0          0.0     2.0       0.0     0.0   0.0   \n",
       "\n",
       "      asset_contract_type  require_email  day_avg_price  week_avg_price  \\\n",
       "0                     0.0            0.0            0.0             0.0   \n",
       "1                     0.0            0.0            0.0             0.0   \n",
       "2                     0.0            0.0            0.0             0.0   \n",
       "3                     0.0            0.0            0.0             0.0   \n",
       "4                     0.0            0.0            0.0             0.0   \n",
       "...                   ...            ...            ...             ...   \n",
       "7039                  0.0            0.0            0.0             0.0   \n",
       "7040                  0.0            0.0            0.0             0.0   \n",
       "7041                  0.0            0.0            0.0             0.0   \n",
       "7042                  0.0            0.0            0.0             0.0   \n",
       "7043                  0.0            0.0            0.0             0.0   \n",
       "\n",
       "      month_avg_price  total_volume  total_sales  total_supply  average_price  \\\n",
       "0                 0.0           0.0          0.0     -0.363636            0.0   \n",
       "1                 0.0           0.0          0.0     -0.181818            0.0   \n",
       "2                 0.0           0.0          0.0     -0.090909            0.0   \n",
       "3                 0.0           0.0          0.0     -0.272727            0.0   \n",
       "4                 0.0           0.0          0.0      0.454545            0.0   \n",
       "...               ...           ...          ...           ...            ...   \n",
       "7039              0.0           0.0          0.0     -0.181818            0.0   \n",
       "7040              0.0           0.0          0.0     -0.272727            0.0   \n",
       "7041              0.0           0.0          0.0     -0.181818            0.0   \n",
       "7042              0.0           0.0          0.0     -0.090909            0.0   \n",
       "7043              0.0           0.0          0.0     -0.272727            0.0   \n",
       "\n",
       "      only_proxied_transfers  is_subject_to_whitelist  \\\n",
       "0                        0.0                      0.0   \n",
       "1                        0.0                      0.0   \n",
       "2                        0.0                      0.0   \n",
       "3                        0.0                      0.0   \n",
       "4                        0.0                      0.0   \n",
       "...                      ...                      ...   \n",
       "7039                     0.0                      0.0   \n",
       "7040                     0.0                      0.0   \n",
       "7041                     0.0                      0.0   \n",
       "7042                     0.0                      0.0   \n",
       "7043                     0.0                      0.0   \n",
       "\n",
       "      opensea_buyer_fee_basis_points  opensea_seller_fee_basis_points  \\\n",
       "0                                0.0                              0.0   \n",
       "1                                0.0                              0.0   \n",
       "2                                0.0                              0.0   \n",
       "3                                0.0                              0.0   \n",
       "4                                0.0                              0.0   \n",
       "...                              ...                              ...   \n",
       "7039                             0.0                              0.0   \n",
       "7040                             0.0                              0.0   \n",
       "7041                             0.0                              0.0   \n",
       "7042                             0.0                              0.0   \n",
       "7043                             0.0                              0.0   \n",
       "\n",
       "      demand_level  \n",
       "0                0  \n",
       "1                0  \n",
       "2                0  \n",
       "3                0  \n",
       "4                0  \n",
       "...            ...  \n",
       "7039             0  \n",
       "7040             0  \n",
       "7041             0  \n",
       "7042             0  \n",
       "7043             0  \n",
       "\n",
       "[7044 rows x 20 columns]"
      ]
     },
     "execution_count": 490,
     "metadata": {},
     "output_type": "execute_result"
    }
   ],
   "source": [
    "final_df = df.drop(columns = 'collection_index')\n",
    "final_df"
   ]
  },
  {
   "cell_type": "markdown",
   "metadata": {},
   "source": [
    "####"
   ]
  },
  {
   "cell_type": "markdown",
   "metadata": {},
   "source": [
    "#### 2.3.2  <a class=\"anchor\" id=\"2_3_2\"></a>  Data splitting and scaling"
   ]
  },
  {
   "cell_type": "markdown",
   "metadata": {},
   "source": [
    "Let's start by [splitting](https://docs.scipy.org/doc/numpy/reference/generated/numpy.split.html) in training, validation and test sets.  This will allow us to estimate the model's accuracy on videos our customers rated, but wasn't included in our training. We will use validation data set specifically for tuning model hyper-parameters."
   ]
  },
  {
   "cell_type": "code",
   "execution_count": 491,
   "metadata": {},
   "outputs": [],
   "source": [
    "train_df, validate_df, test_df = np.split(final_df.sample(frac=1), [int(.6*len(final_df)), int(.8*len(final_df))])"
   ]
  },
  {
   "cell_type": "code",
   "execution_count": 492,
   "metadata": {},
   "outputs": [
    {
     "name": "stdout",
     "output_type": "stream",
     "text": [
      "Number of rows in the training data set   =       4226\n",
      "Number of rows in the validation data set =       1409\n",
      "Number of rows in the test data set       =       1409\n"
     ]
    }
   ],
   "source": [
    "print(\"Number of rows in the training data set   = {:10d}\".format(train_df.shape[0]))\n",
    "print(\"Number of rows in the validation data set = {:10d}\".format(validate_df.shape[0]))\n",
    "print(\"Number of rows in the test data set       = {:10d}\".format(test_df.shape[0]))"
   ]
  },
  {
   "cell_type": "code",
   "execution_count": 493,
   "metadata": {},
   "outputs": [
    {
     "name": "stdout",
     "output_type": "stream",
     "text": [
      "Number of demand levels          =          2\n",
      "Number of independent variables  =        220\n",
      "Number of features               =        222\n"
     ]
    }
   ],
   "source": [
    "# get feature dimension\n",
    "\n",
    "all_df = pd.concat([train_df, validate_df, test_df])\n",
    "# Choose a response variable\n",
    "Y = all_df['demand_level']\n",
    "\n",
    "# Drop a response variable and collection name from the feature data set\n",
    "X = all_df.drop(columns = ['demand_level'])\n",
    "\n",
    "nb_demand_levels = np.unique(Y.values).shape[0]\n",
    "nb_independent_vars = np.unique(X.values).shape[0]\n",
    "feature_dim = nb_demand_levels + nb_independent_vars\n",
    "print(\"Number of demand levels          = {:10d}\".format(nb_demand_levels))\n",
    "print(\"Number of independent variables  = {:10d}\".format(nb_independent_vars))\n",
    "print(\"Number of features               = {:10d}\".format(feature_dim))"
   ]
  },
  {
   "cell_type": "markdown",
   "metadata": {},
   "source": [
    "#### 2.3.3  <a class=\"anchor\" id=\"2_3_3\"></a>  Building Sparse One-Hot Encoded Matrix"
   ]
  },
  {
   "cell_type": "markdown",
   "metadata": {},
   "source": [
    "Let's define a function that takes the data set and returns a sparse feature matrix and numpy array with ratings."
   ]
  },
  {
   "cell_type": "code",
   "execution_count": 494,
   "metadata": {},
   "outputs": [],
   "source": [
    "def convert_sparse_matrix(df, nb_rows, nb_demand_levels, nb_independent_vars):\n",
    "    # dataframe to array\n",
    "    df_val = df.values\n",
    "\n",
    "    # determine feature size\n",
    "    nb_cols = nb_demand_levels + nb_independent_vars\n",
    "    print(\"# of rows = {}\".format(str(nb_rows)))\n",
    "    print(\"# of cols = {}\".format(str(nb_cols)))\n",
    "\n",
    "    # extract customers and ratings\n",
    "    df_X = df_val[:, 0:2]\n",
    "    # Features are one-hot encoded in a sparse matrix\n",
    "    X = lil_matrix((nb_rows, nb_cols)).astype('float32')\n",
    "    df_X[:, 1] = nb_demand_levels + df_X[:, 1]\n",
    "    coords = df_X[:, 0:2]\n",
    "    X[np.arange(nb_rows), coords[:, 0]] = 1\n",
    "    X[np.arange(nb_rows), coords[:, 1]] = 1\n",
    "\n",
    "    # create label with ratings\n",
    "    Y = df_val[:, 2].astype('float32')\n",
    "\n",
    "    # validate size and shape\n",
    "    print(X.shape)\n",
    "    print(Y.shape)\n",
    "    assert X.shape == (nb_rows, nb_cols)\n",
    "    assert Y.shape == (nb_rows, )\n",
    "\n",
    "    return X, Y"
   ]
  },
  {
   "cell_type": "code",
   "execution_count": 495,
   "metadata": {},
   "outputs": [
    {
     "name": "stdout",
     "output_type": "stream",
     "text": [
      "Convert training data set to one-hot encoded sparse matrix\n",
      "# of rows = 4226\n",
      "# of cols = 222\n",
      "(4226, 222)\n",
      "(4226,)\n",
      "Convert validation data set to one-hot encoded sparse matrix\n",
      "# of rows = 1409\n",
      "# of cols = 222\n",
      "(1409, 222)\n",
      "(1409,)\n",
      "Convert test data set to one-hot encoded sparse matrix\n",
      "# of rows = 1409\n",
      "# of cols = 222\n",
      "(1409, 222)\n",
      "(1409,)\n"
     ]
    }
   ],
   "source": [
    "print(\"Convert training data set to one-hot encoded sparse matrix\")\n",
    "train_X, train_Y = convert_sparse_matrix(train_df, train_df.shape[0], nb_demand_levels, nb_independent_vars)\n",
    "print(\"Convert validation data set to one-hot encoded sparse matrix\")\n",
    "validate_X, validate_Y = convert_sparse_matrix(validate_df, validate_df.shape[0], nb_demand_levels, nb_independent_vars)\n",
    "print(\"Convert test data set to one-hot encoded sparse matrix\")\n",
    "test_X, test_Y = convert_sparse_matrix(test_df, test_df.shape[0], nb_demand_levels, nb_independent_vars)"
   ]
  },
  {
   "cell_type": "markdown",
   "metadata": {},
   "source": [
    "#### 2.3.4  <a class=\"anchor\" id=\"2_3_4\"></a> Convert to Protobuf format and Upload to S3"
   ]
  },
  {
   "cell_type": "markdown",
   "metadata": {},
   "source": [
    "We will use Sagemaker's utility function [`write_spmatrix_to_sparse_tensor`](https://github.com/aws/sagemaker-python-sdk/blob/master/src/sagemaker/amazon/common.py) to convert scipy sparse matrix to protobuf format."
   ]
  },
  {
   "cell_type": "code",
   "execution_count": 496,
   "metadata": {},
   "outputs": [],
   "source": [
    "def save_as_protobuf(X, Y, bucket, key):\n",
    "    \"\"\"Converts features and predictions matrices to recordio protobuf and\n",
    "       writes to S3\n",
    "\n",
    "    Args:\n",
    "        X:\n",
    "          2D numpy matrix with features\n",
    "        Y:\n",
    "          1D numpy matrix with predictions\n",
    "        bucket:\n",
    "          s3 bucket where recordio protobuf file will be staged\n",
    "        prefix:\n",
    "          s3 url prefix to stage prepared data to use for training the model\n",
    "        key:\n",
    "          protobuf file name to be staged\n",
    "\n",
    "    Returns:\n",
    "        s3 url with key to the protobuf data\n",
    "    \"\"\"\n",
    "    buf = io.BytesIO()\n",
    "    smac.write_spmatrix_to_sparse_tensor(buf, X, Y)\n",
    "    buf.seek(0)\n",
    "    obj = '{}'.format(key)\n",
    "    boto3.resource('s3', region_name='us-west-2').Bucket(bucket).Object(obj).upload_fileobj(buf)\n",
    "    return 's3://{}/{}'.format(bucket, obj)"
   ]
  },
  {
   "cell_type": "code",
   "execution_count": 497,
   "metadata": {},
   "outputs": [
    {
     "name": "stdout",
     "output_type": "stream",
     "text": [
      "Training data set in protobuf format uploaded at s3://sagemaker-us-west-2-369454669781/prepare/train/train.protobuf\n",
      "Validation data set in protobuf format uploaded at s3://sagemaker-us-west-2-369454669781/prepare/validate/validate.protobuf\n"
     ]
    }
   ],
   "source": [
    "s3_train_path = save_as_protobuf(train_X, train_Y, bucket, 'prepare/train/train.protobuf')\n",
    "print(\"Training data set in protobuf format uploaded at {}\".format(s3_train_path))\n",
    "s3_val_path = save_as_protobuf(validate_X, validate_Y, bucket, 'prepare/validate/validate.protobuf')\n",
    "print(\"Validation data set in protobuf format uploaded at {}\".format(s3_val_path))"
   ]
  },
  {
   "cell_type": "code",
   "execution_count": 498,
   "metadata": {},
   "outputs": [],
   "source": [
    "def chunk(x, batch_size):\n",
    "    \"\"\"split array into chunks of batch_size\n",
    "    \"\"\"\n",
    "    chunk_range = range(0, x.shape[0], batch_size)\n",
    "    chunks = [x[p: p + batch_size] for p in chunk_range]\n",
    "    return chunks"
   ]
  },
  {
   "cell_type": "code",
   "execution_count": 499,
   "metadata": {},
   "outputs": [
    {
     "name": "stdout",
     "output_type": "stream",
     "text": [
      "s3://sagemaker-us-west-2-369454669781/prepare/test/test_0.protobuf\n"
     ]
    }
   ],
   "source": [
    "test_x_chunks = chunk(test_X, 10000)\n",
    "test_y_chunks = chunk(test_Y, 10000)\n",
    "N = len(test_x_chunks)\n",
    "for i in range(N):\n",
    "    test_data = save_as_protobuf(\n",
    "        test_x_chunks[i],\n",
    "        test_y_chunks[i],\n",
    "        bucket,\n",
    "        \"prepare/test/test_\" + str(i) + \".protobuf\")\n",
    "    print(test_data)"
   ]
  },
  {
   "cell_type": "markdown",
   "metadata": {},
   "source": [
    "## Chapter 3: <a class=\"anchor\" id=\"chapter3\"></a> Model Training"
   ]
  },
  {
   "cell_type": "markdown",
   "metadata": {},
   "source": [
    "Once we have the data preprocessed and available in the correct format for training, the next step is to actually train the model using the data. We'll use the Amazon SageMaker Python SDK to kick off training and monitor status until it is completed. In this example that takes between 4-7 minutes for 3-10 epochs. \n",
    "\n",
    "First, let's get the Sagemaker Factorization Machine container"
   ]
  },
  {
   "cell_type": "code",
   "execution_count": 500,
   "metadata": {},
   "outputs": [
    {
     "name": "stderr",
     "output_type": "stream",
     "text": [
      "The method get_image_uri has been renamed in sagemaker>=2.\n",
      "See: https://sagemaker.readthedocs.io/en/stable/v2.html for details.\n",
      "Defaulting to the only supported framework/algorithm version: 1. Ignoring framework/algorithm version: 1.\n"
     ]
    }
   ],
   "source": [
    "from sagemaker.amazon.amazon_estimator import get_image_uri\n",
    "container = get_image_uri(boto3.Session().region_name, 'factorization-machines')"
   ]
  },
  {
   "cell_type": "markdown",
   "metadata": {},
   "source": [
    "Next kick off the base estimator, making sure to pass in the necessary hyperparameters. Notice:\n",
    "\n",
    "- `feature_dim` is set to 178729, which is the number of customers + products in the training data set.\n",
    "- `predictor_type` is set to 'regressor' since we are trying to predict the rating\n",
    "- `mini_batch_size` is set to 200. This value can be tuned for relatively minor improvements in fit and speed, but selecting a reasonable value relative to the dataset is appropriate in most cases.\n",
    "- `num_factors` is set to 64. Factorization machines find a lower dimensional representation of the interactions for all features. Making this value smaller provides a more parsimonious model, closer to a linear model, but may sacrifice information about interactions. Making it larger provides a higher-dimensional representation of feature interactions, but adds computational complexity and can lead to overfitting. In a practical application, time should be invested to tune this parameter to the appropriate value."
   ]
  },
  {
   "cell_type": "code",
   "execution_count": 501,
   "metadata": {},
   "outputs": [
    {
     "name": "stderr",
     "output_type": "stream",
     "text": [
      "train_instance_count has been renamed in sagemaker>=2.\n",
      "See: https://sagemaker.readthedocs.io/en/stable/v2.html for details.\n",
      "train_instance_type has been renamed in sagemaker>=2.\n",
      "See: https://sagemaker.readthedocs.io/en/stable/v2.html for details.\n"
     ]
    },
    {
     "name": "stdout",
     "output_type": "stream",
     "text": [
      "CPU times: user 3 µs, sys: 1e+03 ns, total: 4 µs\n",
      "Wall time: 5.96 µs\n"
     ]
    }
   ],
   "source": [
    "%time\n",
    "\n",
    "output_location = 's3://{}/train/'.format(bucket)\n",
    "s3_train_path = 's3://{}/prepare/train/train.protobuf'.format(bucket)\n",
    "s3_val_path = 's3://{}/prepare/validate/validate.protobuf'.format(bucket)\n",
    "\n",
    "fm = sagemaker.estimator.Estimator(container,\n",
    "                                   role, \n",
    "                                   train_instance_count=1, \n",
    "                                   train_instance_type='ml.c5.4xlarge',\n",
    "                                   output_path=output_location,\n",
    "                                   sagemaker_session=sess)\n",
    "\n",
    "fm.set_hyperparameters(feature_dim=feature_dim,\n",
    "                      predictor_type='regressor',\n",
    "                      mini_batch_size=200,\n",
    "                      num_factors=512,\n",
    "                      bias_lr=0.02,\n",
    "                      epochs=10)"
   ]
  },
  {
   "cell_type": "code",
   "execution_count": 502,
   "metadata": {},
   "outputs": [],
   "source": [
    "fm.fit({'train': s3_train_path,'test': s3_val_path}, wait=False)"
   ]
  },
  {
   "cell_type": "markdown",
   "metadata": {},
   "source": [
    "Amazon SageMaker built-in algorithms automatically compute and emit a variety of model training, evaluation, and validation metrics that can be captured from Cloudwatch using Sagemaker SDK. Since we are using FM built-in algorithm with predictor type as `regressor`, we can capture RMSE (root-mean-square error) of the model that measures the differences between the predicted values and the actual values.\n",
    "\n",
    "Let's capture the RMSE of the model"
   ]
  },
  {
   "cell_type": "code",
   "execution_count": 503,
   "metadata": {},
   "outputs": [],
   "source": [
    "training_job_name = fm._current_job_name\n",
    "metric_name = 'train:rmse:epoch'"
   ]
  },
  {
   "cell_type": "code",
   "execution_count": 506,
   "metadata": {},
   "outputs": [
    {
     "name": "stdout",
     "output_type": "stream",
     "text": [
      "The training job is completed\n"
     ]
    }
   ],
   "source": [
    "# run this cell to check current status of training job\n",
    "fm_training_job_result = smclient.describe_training_job(TrainingJobName=training_job_name)\n",
    "\n",
    "status = fm_training_job_result['TrainingJobStatus']\n",
    "if status != 'Completed':\n",
    "    print('Reminder: the training job has not been completed.')\n",
    "else:\n",
    "    print('The training job is completed')"
   ]
  },
  {
   "cell_type": "code",
   "execution_count": 507,
   "metadata": {},
   "outputs": [
    {
     "data": {
      "text/html": [
       "<div>\n",
       "<style scoped>\n",
       "    .dataframe tbody tr th:only-of-type {\n",
       "        vertical-align: middle;\n",
       "    }\n",
       "\n",
       "    .dataframe tbody tr th {\n",
       "        vertical-align: top;\n",
       "    }\n",
       "\n",
       "    .dataframe thead th {\n",
       "        text-align: right;\n",
       "    }\n",
       "</style>\n",
       "<table border=\"1\" class=\"dataframe\">\n",
       "  <thead>\n",
       "    <tr style=\"text-align: right;\">\n",
       "      <th></th>\n",
       "      <th>timestamp</th>\n",
       "      <th>metric_name</th>\n",
       "      <th>value</th>\n",
       "    </tr>\n",
       "  </thead>\n",
       "  <tbody>\n",
       "    <tr>\n",
       "      <th>0</th>\n",
       "      <td>0.0</td>\n",
       "      <td>train:rmse:epoch</td>\n",
       "      <td>1727.099022</td>\n",
       "    </tr>\n",
       "  </tbody>\n",
       "</table>\n",
       "</div>"
      ],
      "text/plain": [
       "   timestamp       metric_name        value\n",
       "0        0.0  train:rmse:epoch  1727.099022"
      ]
     },
     "execution_count": 507,
     "metadata": {},
     "output_type": "execute_result"
    }
   ],
   "source": [
    "# plug-in the training job name and metrics to be captured\n",
    "metrics_dataframe = TrainingJobAnalytics(training_job_name=training_job_name,metric_names=[metric_name]).dataframe()\n",
    "metrics_dataframe"
   ]
  },
  {
   "cell_type": "code",
   "execution_count": 508,
   "metadata": {},
   "outputs": [
    {
     "data": {
      "image/png": "[encoded data removed]",
      "text/plain": [
       "<Figure size 864x360 with 1 Axes>"
      ]
     },
     "metadata": {},
     "output_type": "display_data"
    }
   ],
   "source": [
    "plt = metrics_dataframe.plot(kind='line', figsize=(12,5), x='timestamp', y='value', style='b.', legend=False)\n",
    "plt.set_ylabel(metric_name);"
   ]
  },
  {
   "cell_type": "markdown",
   "metadata": {},
   "source": [
    "As the number of epochs increased, RMSE goes down which is a good sign that the predicted values are getting closer to the actual values from the test set. We can increase number of epochs or change the hyperparameters and try to tweak the model. Let's try to deploy this model and make predictions to see how close the predictions are. Then we can run a hyper-parameter tuning job to determine the best model."
   ]
  },
  {
   "cell_type": "markdown",
   "metadata": {},
   "source": [
    "Lastly, we will define some common utility functions here that will be used during inference and evaluating results."
   ]
  },
  {
   "cell_type": "code",
   "execution_count": 509,
   "metadata": {},
   "outputs": [],
   "source": [
    "def convert_to_protobuf(X, Y=None):\n",
    "    buf = io.BytesIO()\n",
    "    smac.write_spmatrix_to_sparse_tensor(buf, X, Y)\n",
    "    buf.seek(0)\n",
    "    return buf"
   ]
  },
  {
   "cell_type": "code",
   "execution_count": 510,
   "metadata": {},
   "outputs": [],
   "source": [
    "def convert_sparse_matrix_X(df, nb_rows, nb_demand_levels, nb_independent_vars):\n",
    "    # dataframe to array\n",
    "    df_val = df.values\n",
    "\n",
    "    # determine feature size\n",
    "    nb_cols = nb_demand_levels + nb_independent_vars\n",
    "    \n",
    "    # extract customers and ratings\n",
    "    df_X = df_val[:,0:2]\n",
    "    # Features are one-hot encoded in a sparse matrix\n",
    "    X = lil_matrix((nb_rows, nb_cols)).astype('float32')\n",
    "    df_X[:,1] = nb_demand_levels + df_X[:,1]\n",
    "    coords = df_X[:,0:2]\n",
    "    X[np.arange(nb_rows), coords[:, 0]] = 1\n",
    "    X[np.arange(nb_rows), coords[:, 1]] = 1\n",
    "\n",
    "    # validate size and shape\n",
    "    assert X.shape == (nb_rows, nb_cols)\n",
    "    \n",
    "    return X"
   ]
  },
  {
   "cell_type": "markdown",
   "metadata": {},
   "source": [
    "---"
   ]
  },
  {
   "cell_type": "markdown",
   "metadata": {},
   "source": [
    "## Chapter 4: <a class=\"anchor\" id=\"chapter4\"></a> Inference"
   ]
  },
  {
   "cell_type": "markdown",
   "metadata": {},
   "source": [
    "### 4.1  <a class=\"anchor\" id=\"4_1\"></a> Real-Time Inference"
   ]
  },
  {
   "cell_type": "code",
   "execution_count": 639,
   "metadata": {},
   "outputs": [],
   "source": [
    "#fm_predictor = fm.deploy(initial_instance_count=1, instance_type=\"ml.m4.xlarge\")"
   ]
  },
  {
   "cell_type": "code",
   "execution_count": 629,
   "metadata": {},
   "outputs": [
    {
     "name": "stdout",
     "output_type": "stream",
     "text": [
      "-------!"
     ]
    }
   ],
   "source": [
    "fm_predictor = fm.deploy(\n",
    "    initial_instance_count=1,\n",
    "    instance_type=\"ml.m4.xlarge\"\n",
    ")"
   ]
  },
  {
   "cell_type": "code",
   "execution_count": 640,
   "metadata": {},
   "outputs": [],
   "source": [
    "#fm_predictor.content_type = 'application/x-recordio-protobuf'"
   ]
  },
  {
   "cell_type": "code",
   "execution_count": 633,
   "metadata": {},
   "outputs": [],
   "source": [
    "test_pb = convert_to_protobuf(test_X[1000:1010]).getvalue()"
   ]
  },
  {
   "cell_type": "markdown",
   "metadata": {},
   "source": [
    "ModelError: An error occurred (ModelError) when calling the InvokeEndpoint operation: Received client error (415) from primary with message \"content-type application/octet-stream not supported\". See https://us-west-2.console.aws.amazon.com/cloudwatch/home?region=us-west-2#logEventViewer:group=/aws/sagemaker/Endpoints/factorization-machines-2022-04-19-14-56-40-628 in account 369454669781 for more information."
   ]
  },
  {
   "cell_type": "code",
   "execution_count": 641,
   "metadata": {},
   "outputs": [],
   "source": [
    "#response = fm_predictor.predict(test_pb)\n",
    "#predicted = [round(r['score'], 2) for r in json.loads(response)['predictions']]\n",
    "#results_df = pd.DataFrame(zip(test_Y[1000:1010], predicted), columns = [\"actual_rating\", \"predicted_rating\"])\n",
    "#results_df"
   ]
  },
  {
   "cell_type": "markdown",
   "metadata": {},
   "source": [
    "### 4.2  <a class=\"anchor\" id=\"4_2\"></a> Batch Inference"
   ]
  },
  {
   "cell_type": "markdown",
   "metadata": {},
   "source": [
    "Here we will perform batch inference on the test data set prepared earlier (chunking into multiple protobuf files). To run batch transform, create a model package for the transform endpoint "
   ]
  },
  {
   "cell_type": "markdown",
   "metadata": {},
   "source": [
    "- Create the model from the training estimator"
   ]
  },
  {
   "cell_type": "code",
   "execution_count": 511,
   "metadata": {},
   "outputs": [],
   "source": [
    "fm_model = fm.create_model()"
   ]
  },
  {
   "cell_type": "markdown",
   "metadata": {},
   "source": [
    "- Perform batch inference on the test data set and save results to S3"
   ]
  },
  {
   "cell_type": "code",
   "execution_count": 512,
   "metadata": {},
   "outputs": [],
   "source": [
    "fm_transformer = fm_model.transformer(\n",
    "    instance_type='ml.c4.xlarge', \n",
    "    instance_count=1, \n",
    "    strategy=\"MultiRecord\", \n",
    "    output_path=\"s3://{}/transform/\".format(bucket)\n",
    ")"
   ]
  },
  {
   "cell_type": "code",
   "execution_count": 513,
   "metadata": {},
   "outputs": [
    {
     "name": "stdout",
     "output_type": "stream",
     "text": [
      "..................................Docker entrypoint called with argument(s): serve\n",
      "Running default environment configuration script\n",
      "/opt/amazon/lib/python3.7/site-packages/jsonref.py:8: DeprecationWarning: Using or importing the ABCs from 'collections' instead of from 'collections.abc' is deprecated since Python 3.3,and in 3.9 it will stop working\n",
      "  from collections import Mapping, MutableMapping, Sequence\n",
      "/opt/amazon/lib/python3.7/site-packages/algorithm/network_builder.py:87: DeprecationWarning: invalid escape sequence \\s\n",
      "  \"\"\"\n",
      "/opt/amazon/lib/python3.7/site-packages/algorithm/network_builder.py:120: DeprecationWarning: invalid escape sequence \\s\n",
      "  \"\"\"\n",
      "/opt/amazon/lib/python3.7/site-packages/google/protobuf/internal/api_implementation.py:151: DeprecationWarning: Using or importing the ABCs from 'collections' instead of from 'collections.abc' is deprecated since Python 3.3,and in 3.9 it will stop working\n",
      "  from google.protobuf.pyext import _message\n",
      "[04/19/2022 14:10:41 INFO 140648623220544] loaded entry point class algorithm.serve.server_config:config_api\n",
      "[04/19/2022 14:10:41 INFO 140648623220544] loading entry points\n",
      "/opt/amazon/lib/python3.7/site-packages/ai_algorithms_sdk/serve.py:221: DeprecationWarning: entrypoint algorithm.request_iterators is deprecated in favor of algorithm.io.data_handlers.serve\n",
      "  \"in favor of algorithm.io.data_handlers.serve\", DeprecationWarning)\n",
      "[04/19/2022 14:10:41 INFO 140648623220544] loaded request iterator application/json\n",
      "[04/19/2022 14:10:41 INFO 140648623220544] loaded request iterator application/jsonlines\n",
      "[04/19/2022 14:10:41 INFO 140648623220544] loaded request iterator application/x-recordio-protobuf\n",
      "[04/19/2022 14:10:41 INFO 140648623220544] loaded response encoder application/json\n",
      "[04/19/2022 14:10:41 INFO 140648623220544] loaded response encoder application/jsonlines\n",
      "[04/19/2022 14:10:41 INFO 140648623220544] loaded response encoder application/x-recordio-protobuf\n",
      "[04/19/2022 14:10:41 INFO 140648623220544] loaded entry point class algorithm:model\n",
      "[04/19/2022 14:10:41 INFO 140648623220544] Model Size: 463281 bytes\n",
      "[04/19/2022 14:10:41 INFO 140648623220544] Number of vCPUs: 4\n",
      "[04/19/2022 14:10:41 INFO 140648623220544] Number of server workers: 4\n",
      "[2022-04-19 14:10:41 +0000] [1] [INFO] Starting gunicorn 20.1.0\n",
      "[2022-04-19 14:10:41 +0000] [1] [INFO] Listening at: http://0.0.0.0:8080 (1)\n",
      "[2022-04-19 14:10:41 +0000] [1] [INFO] Using worker: sync\n",
      "[2022-04-19 14:10:41 +0000] [31] [INFO] Booting worker with pid: 31\n",
      "[04/19/2022 14:10:41 INFO 140648623220544] loading model...\n",
      "[04/19/2022 14:10:41 WARNING 140648623220544] Requesting context without setting the requested num of gpus. Using 'auto'\n",
      "[04/19/2022 14:10:41 INFO 140648623220544] nvidia-smi: took 0.029 seconds to run.\n",
      "[04/19/2022 14:10:41 INFO 140648623220544] nvidia-smi identified 0 GPUs.\n",
      "[04/19/2022 14:10:41 INFO 140648623220544] Number of GPUs being used: 0\n",
      "[04/19/2022 14:10:41 INFO 140648623220544] Loading regression model.\n",
      "[04/19/2022 14:10:41 INFO 140648623220544] ...model loaded.\n",
      "[2022-04-19 14:10:41 +0000] [40] [INFO] Booting worker with pid: 40\n",
      "[04/19/2022 14:10:41 INFO 140648623220544] loading model...\n",
      "[04/19/2022 14:10:41 WARNING 140648623220544] Requesting context without setting the requested num of gpus. Using 'auto'\n",
      "[2022-04-19 14:10:41 +0000] [45] [INFO] Booting worker with pid: 45\n",
      "[04/19/2022 14:10:41 INFO 140648623220544] loading model...\n",
      "[04/19/2022 14:10:41 INFO 140648623220544] nvidia-smi: took 0.030 seconds to run.\n",
      "[04/19/2022 14:10:41 INFO 140648623220544] nvidia-smi identified 0 GPUs.\n",
      "[04/19/2022 14:10:41 INFO 140648623220544] Number of GPUs being used: 0\n",
      "[04/19/2022 14:10:41 WARNING 140648623220544] Requesting context without setting the requested num of gpus. Using 'auto'\n",
      "[04/19/2022 14:10:41 INFO 140648623220544] Loading regression model.\n",
      "[04/19/2022 14:10:41 INFO 140648623220544] ...model loaded.\n",
      "[04/19/2022 14:10:41 INFO 140648623220544] nvidia-smi: took 0.029 seconds to run.\n",
      "[04/19/2022 14:10:41 INFO 140648623220544] nvidia-smi identified 0 GPUs.\n",
      "[04/19/2022 14:10:41 INFO 140648623220544] Number of GPUs being used: 0\n",
      "[04/19/2022 14:10:41 INFO 140648623220544] Loading regression model.\n",
      "[04/19/2022 14:10:41 INFO 140648623220544] ...model loaded.\n",
      "[2022-04-19 14:10:41 +0000] [58] [INFO] Booting worker with pid: 58\n",
      "[04/19/2022 14:10:41 INFO 140648623220544] loading model...\n",
      "[04/19/2022 14:10:41 WARNING 140648623220544] Requesting context without setting the requested num of gpus. Using 'auto'\n",
      "[04/19/2022 14:10:41 INFO 140648623220544] nvidia-smi: took 0.030 seconds to run.\n",
      "[04/19/2022 14:10:41 INFO 140648623220544] nvidia-smi identified 0 GPUs.\n",
      "[04/19/2022 14:10:41 INFO 140648623220544] Number of GPUs being used: 0\n",
      "[04/19/2022 14:10:41 INFO 140648623220544] Loading regression model.\n",
      "[04/19/2022 14:10:41 INFO 140648623220544] ...model loaded.\n",
      "[04/19/2022 14:10:44 INFO 140648623220544] Model Size: 463281 bytes\n",
      "[04/19/2022 14:10:44 INFO 140648623220544] Number of vCPUs: 4\n",
      "#metrics {\"StartTime\": 1650377441.4026248, \"EndTime\": 1650377444.241357, \"Dimensions\": {\"Algorithm\": \"AlgorithmModel\", \"Host\": \"UNKNOWN\", \"Operation\": \"scoring\"}, \"Metrics\": {\"execution_parameters.count\": {\"sum\": 1.0, \"count\": 1, \"min\": 1, \"max\": 1}}}\n",
      "/opt/amazon/lib/python3.7/site-packages/mxnet/module/base_module.py:65: UserWarning: Data provided by label_shapes don't match names specified by label_names ([] vs. ['out_label'])\n",
      "  warnings.warn(msg)\n",
      "[2022-04-19 14:10:44.370] [tensorio] [info] epoch_stats={\"data_pipeline\": \"/tmp/tmpundfzr8m/tmp8q993qv7\", \"epoch\": 0, \"duration\": 33, \"num_examples\": 1, \"num_bytes\": 84540}\n",
      "#metrics {\"StartTime\": 1650377441.3214073, \"EndTime\": 1650377444.377752, \"Dimensions\": {\"Algorithm\": \"AlgorithmModel\", \"Host\": \"UNKNOWN\", \"Operation\": \"scoring\"}, \"Metrics\": {\"invocations.count\": {\"sum\": 1.0, \"count\": 1, \"min\": 1, \"max\": 1}}}\n",
      "2022-04-19T14:10:44.246:[sagemaker logs]: MaxConcurrentTransforms=4, MaxPayloadInMB=6, BatchStrategy=MULTI_RECORD\n",
      "\n"
     ]
    }
   ],
   "source": [
    "fm_transformer.transform(\n",
    "    data=\"s3://{}/prepare/test/\".format(bucket), \n",
    "    data_type='S3Prefix', \n",
    "    content_type=\"application/x-recordio-protobuf\")"
   ]
  },
  {
   "cell_type": "code",
   "execution_count": 514,
   "metadata": {},
   "outputs": [
    {
     "name": "stdout",
     "output_type": "stream",
     "text": [
      "Waiting for transform job: factorization-machines-2022-04-19-14-04-35-515\n",
      "Docker entrypoint called with argument(s): serve\n",
      "Running default environment configuration script\n",
      "/opt/amazon/lib/python3.7/site-packages/jsonref.py:8: DeprecationWarning: Using or importing the ABCs from 'collections' instead of from 'collections.abc' is deprecated since Python 3.3,and in 3.9 it will stop working\n",
      "  from collections import Mapping, MutableMapping, Sequence\n",
      "/opt/amazon/lib/python3.7/site-packages/algorithm/network_builder.py:87: DeprecationWarning: invalid escape sequence \\s\n",
      "  \"\"\"\n",
      "/opt/amazon/lib/python3.7/site-packages/algorithm/network_builder.py:120: DeprecationWarning: invalid escape sequence \\s\n",
      "  \"\"\"\n",
      "/opt/amazon/lib/python3.7/site-packages/google/protobuf/internal/api_implementation.py:151: DeprecationWarning: Using or importing the ABCs from 'collections' instead of from 'collections.abc' is deprecated since Python 3.3,and in 3.9 it will stop working\n",
      "  from google.protobuf.pyext import _message\n",
      "[04/19/2022 14:10:41 INFO 140648623220544] loaded entry point class algorithm.serve.server_config:config_api\n",
      "[04/19/2022 14:10:41 INFO 140648623220544] loading entry points\n",
      "/opt/amazon/lib/python3.7/site-packages/ai_algorithms_sdk/serve.py:221: DeprecationWarning: entrypoint algorithm.request_iterators is deprecated in favor of algorithm.io.data_handlers.serve\n",
      "  \"in favor of algorithm.io.data_handlers.serve\", DeprecationWarning)\n",
      "[04/19/2022 14:10:41 INFO 140648623220544] loaded request iterator application/json\n",
      "[04/19/2022 14:10:41 INFO 140648623220544] loaded request iterator application/jsonlines\n",
      "[04/19/2022 14:10:41 INFO 140648623220544] loaded request iterator application/x-recordio-protobuf\n",
      "[04/19/2022 14:10:41 INFO 140648623220544] loaded response encoder application/json\n",
      "[04/19/2022 14:10:41 INFO 140648623220544] loaded response encoder application/jsonlines\n",
      "[04/19/2022 14:10:41 INFO 140648623220544] loaded response encoder application/x-recordio-protobuf\n",
      "[04/19/2022 14:10:41 INFO 140648623220544] loaded entry point class algorithm:model\n",
      "[04/19/2022 14:10:41 INFO 140648623220544] Model Size: 463281 bytes\n",
      "[04/19/2022 14:10:41 INFO 140648623220544] Number of vCPUs: 4\n",
      "[04/19/2022 14:10:41 INFO 140648623220544] Number of server workers: 4\n",
      "[2022-04-19 14:10:41 +0000] [1] [INFO] Starting gunicorn 20.1.0\n",
      "[2022-04-19 14:10:41 +0000] [1] [INFO] Listening at: http://0.0.0.0:8080 (1)\n",
      "[2022-04-19 14:10:41 +0000] [1] [INFO] Using worker: sync\n",
      "[2022-04-19 14:10:41 +0000] [31] [INFO] Booting worker with pid: 31\n",
      "[04/19/2022 14:10:41 INFO 140648623220544] loading model...\n",
      "Docker entrypoint called with argument(s): serve\n",
      "Running default environment configuration script\n",
      "/opt/amazon/lib/python3.7/site-packages/jsonref.py:8: DeprecationWarning: Using or importing the ABCs from 'collections' instead of from 'collections.abc' is deprecated since Python 3.3,and in 3.9 it will stop working\n",
      "  from collections import Mapping, MutableMapping, Sequence\n",
      "/opt/amazon/lib/python3.7/site-packages/algorithm/network_builder.py:87: DeprecationWarning: invalid escape sequence \\s\n",
      "  \"\"\"\n",
      "/opt/amazon/lib/python3.7/site-packages/algorithm/network_builder.py:120: DeprecationWarning: invalid escape sequence \\s\n",
      "  \"\"\"\n",
      "/opt/amazon/lib/python3.7/site-packages/google/protobuf/internal/api_implementation.py:151: DeprecationWarning: Using or importing the ABCs from 'collections' instead of from 'collections.abc' is deprecated since Python 3.3,and in 3.9 it will stop working\n",
      "  from google.protobuf.pyext import _message\n",
      "[04/19/2022 14:10:41 INFO 140648623220544] loaded entry point class algorithm.serve.server_config:config_api\n",
      "[04/19/2022 14:10:41 INFO 140648623220544] loading entry points\n",
      "/opt/amazon/lib/python3.7/site-packages/ai_algorithms_sdk/serve.py:221: DeprecationWarning: entrypoint algorithm.request_iterators is deprecated in favor of algorithm.io.data_handlers.serve\n",
      "  \"in favor of algorithm.io.data_handlers.serve\", DeprecationWarning)\n",
      "[04/19/2022 14:10:41 INFO 140648623220544] loaded request iterator application/json\n",
      "[04/19/2022 14:10:41 INFO 140648623220544] loaded request iterator application/jsonlines\n",
      "[04/19/2022 14:10:41 INFO 140648623220544] loaded request iterator application/x-recordio-protobuf\n",
      "[04/19/2022 14:10:41 INFO 140648623220544] loaded response encoder application/json\n",
      "[04/19/2022 14:10:41 INFO 140648623220544] loaded response encoder application/jsonlines\n",
      "[04/19/2022 14:10:41 INFO 140648623220544] loaded response encoder application/x-recordio-protobuf\n",
      "[04/19/2022 14:10:41 INFO 140648623220544] loaded entry point class algorithm:model\n",
      "[04/19/2022 14:10:41 INFO 140648623220544] Model Size: 463281 bytes\n",
      "[04/19/2022 14:10:41 INFO 140648623220544] Number of vCPUs: 4\n",
      "[04/19/2022 14:10:41 INFO 140648623220544] Number of server workers: 4\n",
      "[2022-04-19 14:10:41 +0000] [1] [INFO] Starting gunicorn 20.1.0\n",
      "[2022-04-19 14:10:41 +0000] [1] [INFO] Listening at: http://0.0.0.0:8080 (1)\n",
      "[2022-04-19 14:10:41 +0000] [1] [INFO] Using worker: sync\n",
      "[2022-04-19 14:10:41 +0000] [31] [INFO] Booting worker with pid: 31\n",
      "[04/19/2022 14:10:41 INFO 140648623220544] loading model...\n",
      "[04/19/2022 14:10:41 WARNING 140648623220544] Requesting context without setting the requested num of gpus. Using 'auto'\n",
      "[04/19/2022 14:10:41 INFO 140648623220544] nvidia-smi: took 0.029 seconds to run.\n",
      "[04/19/2022 14:10:41 INFO 140648623220544] nvidia-smi identified 0 GPUs.\n",
      "[04/19/2022 14:10:41 INFO 140648623220544] Number of GPUs being used: 0\n",
      "[04/19/2022 14:10:41 INFO 140648623220544] Loading regression model.\n",
      "[04/19/2022 14:10:41 INFO 140648623220544] ...model loaded.\n",
      "[2022-04-19 14:10:41 +0000] [40] [INFO] Booting worker with pid: 40\n",
      "[04/19/2022 14:10:41 INFO 140648623220544] loading model...\n",
      "[04/19/2022 14:10:41 WARNING 140648623220544] Requesting context without setting the requested num of gpus. Using 'auto'\n",
      "[2022-04-19 14:10:41 +0000] [45] [INFO] Booting worker with pid: 45\n",
      "[04/19/2022 14:10:41 INFO 140648623220544] loading model...\n",
      "[04/19/2022 14:10:41 INFO 140648623220544] nvidia-smi: took 0.030 seconds to run.\n",
      "[04/19/2022 14:10:41 INFO 140648623220544] nvidia-smi identified 0 GPUs.\n",
      "[04/19/2022 14:10:41 INFO 140648623220544] Number of GPUs being used: 0\n",
      "[04/19/2022 14:10:41 WARNING 140648623220544] Requesting context without setting the requested num of gpus. Using 'auto'\n",
      "[04/19/2022 14:10:41 INFO 140648623220544] Loading regression model.\n",
      "[04/19/2022 14:10:41 INFO 140648623220544] ...model loaded.\n",
      "[04/19/2022 14:10:41 WARNING 140648623220544] Requesting context without setting the requested num of gpus. Using 'auto'\n",
      "[04/19/2022 14:10:41 INFO 140648623220544] nvidia-smi: took 0.029 seconds to run.\n",
      "[04/19/2022 14:10:41 INFO 140648623220544] nvidia-smi identified 0 GPUs.\n",
      "[04/19/2022 14:10:41 INFO 140648623220544] Number of GPUs being used: 0\n",
      "[04/19/2022 14:10:41 INFO 140648623220544] Loading regression model.\n",
      "[04/19/2022 14:10:41 INFO 140648623220544] ...model loaded.\n",
      "[2022-04-19 14:10:41 +0000] [40] [INFO] Booting worker with pid: 40\n",
      "[04/19/2022 14:10:41 INFO 140648623220544] loading model...\n",
      "[04/19/2022 14:10:41 WARNING 140648623220544] Requesting context without setting the requested num of gpus. Using 'auto'\n",
      "[2022-04-19 14:10:41 +0000] [45] [INFO] Booting worker with pid: 45\n",
      "[04/19/2022 14:10:41 INFO 140648623220544] loading model...\n",
      "[04/19/2022 14:10:41 INFO 140648623220544] nvidia-smi: took 0.030 seconds to run.\n",
      "[04/19/2022 14:10:41 INFO 140648623220544] nvidia-smi identified 0 GPUs.\n",
      "[04/19/2022 14:10:41 INFO 140648623220544] Number of GPUs being used: 0\n",
      "[04/19/2022 14:10:41 WARNING 140648623220544] Requesting context without setting the requested num of gpus. Using 'auto'\n",
      "[04/19/2022 14:10:41 INFO 140648623220544] Loading regression model.\n",
      "[04/19/2022 14:10:41 INFO 140648623220544] ...model loaded.\n",
      "[04/19/2022 14:10:41 INFO 140648623220544] nvidia-smi: took 0.029 seconds to run.\n",
      "[04/19/2022 14:10:41 INFO 140648623220544] nvidia-smi identified 0 GPUs.\n",
      "[04/19/2022 14:10:41 INFO 140648623220544] Number of GPUs being used: 0\n",
      "[04/19/2022 14:10:41 INFO 140648623220544] Loading regression model.\n",
      "[04/19/2022 14:10:41 INFO 140648623220544] nvidia-smi: took 0.029 seconds to run.\n",
      "[04/19/2022 14:10:41 INFO 140648623220544] nvidia-smi identified 0 GPUs.\n",
      "[04/19/2022 14:10:41 INFO 140648623220544] Number of GPUs being used: 0\n",
      "[04/19/2022 14:10:41 INFO 140648623220544] Loading regression model.\n",
      "[04/19/2022 14:10:41 INFO 140648623220544] ...model loaded.\n",
      "[2022-04-19 14:10:41 +0000] [58] [INFO] Booting worker with pid: 58\n",
      "[04/19/2022 14:10:41 INFO 140648623220544] loading model...\n",
      "[04/19/2022 14:10:41 WARNING 140648623220544] Requesting context without setting the requested num of gpus. Using 'auto'\n",
      "[04/19/2022 14:10:41 INFO 140648623220544] nvidia-smi: took 0.030 seconds to run.\n",
      "[04/19/2022 14:10:41 INFO 140648623220544] nvidia-smi identified 0 GPUs.\n",
      "[04/19/2022 14:10:41 INFO 140648623220544] Number of GPUs being used: 0\n",
      "[04/19/2022 14:10:41 INFO 140648623220544] Loading regression model.\n",
      "[04/19/2022 14:10:41 INFO 140648623220544] ...model loaded.\n",
      "[04/19/2022 14:10:41 INFO 140648623220544] ...model loaded.\n",
      "[2022-04-19 14:10:41 +0000] [58] [INFO] Booting worker with pid: 58\n",
      "[04/19/2022 14:10:41 INFO 140648623220544] loading model...\n",
      "[04/19/2022 14:10:41 WARNING 140648623220544] Requesting context without setting the requested num of gpus. Using 'auto'\n",
      "[04/19/2022 14:10:41 INFO 140648623220544] nvidia-smi: took 0.030 seconds to run.\n",
      "[04/19/2022 14:10:41 INFO 140648623220544] nvidia-smi identified 0 GPUs.\n",
      "[04/19/2022 14:10:41 INFO 140648623220544] Number of GPUs being used: 0\n",
      "[04/19/2022 14:10:41 INFO 140648623220544] Loading regression model.\n",
      "[04/19/2022 14:10:41 INFO 140648623220544] ...model loaded.\n",
      "[04/19/2022 14:10:44 INFO 140648623220544] Model Size: 463281 bytes\n",
      "[04/19/2022 14:10:44 INFO 140648623220544] Number of vCPUs: 4\n",
      "#metrics {\"StartTime\": 1650377441.4026248, \"EndTime\": 1650377444.241357, \"Dimensions\": {\"Algorithm\": \"AlgorithmModel\", \"Host\": \"UNKNOWN\", \"Operation\": \"scoring\"}, \"Metrics\": {\"execution_parameters.count\": {\"sum\": 1.0, \"count\": 1, \"min\": 1, \"max\": 1}}}\n",
      "/opt/amazon/lib/python3.7/site-packages/mxnet/module/base_module.py:65: UserWarning: Data provided by label_shapes don't match names specified by label_names ([] vs. ['out_label'])\n",
      "  warnings.warn(msg)\n",
      "[2022-04-19 14:10:44.370] [tensorio] [info] epoch_stats={\"data_pipeline\": \"/tmp/tmpundfzr8m/tmp8q993qv7\", \"epoch\": 0, \"duration\": 33, \"num_examples\": 1, \"num_bytes\": 84540}\n",
      "#metrics {\"StartTime\": 1650377441.3214073, \"EndTime\": 1650377444.377752, \"Dimensions\": {\"Algorithm\": \"AlgorithmModel\", \"Host\": \"UNKNOWN\", \"Operation\": \"scoring\"}, \"Metrics\": {\"invocations.count\": {\"sum\": 1.0, \"count\": 1, \"min\": 1, \"max\": 1}}}\n",
      "[04/19/2022 14:10:44 INFO 140648623220544] Model Size: 463281 bytes\n",
      "[04/19/2022 14:10:44 INFO 140648623220544] Number of vCPUs: 4\n",
      "#metrics {\"StartTime\": 1650377441.4026248, \"EndTime\": 1650377444.241357, \"Dimensions\": {\"Algorithm\": \"AlgorithmModel\", \"Host\": \"UNKNOWN\", \"Operation\": \"scoring\"}, \"Metrics\": {\"execution_parameters.count\": {\"sum\": 1.0, \"count\": 1, \"min\": 1, \"max\": 1}}}\n",
      "/opt/amazon/lib/python3.7/site-packages/mxnet/module/base_module.py:65: UserWarning: Data provided by label_shapes don't match names specified by label_names ([] vs. ['out_label'])\n",
      "  warnings.warn(msg)\n",
      "[2022-04-19 14:10:44.370] [tensorio] [info] epoch_stats={\"data_pipeline\": \"/tmp/tmpundfzr8m/tmp8q993qv7\", \"epoch\": 0, \"duration\": 33, \"num_examples\": 1, \"num_bytes\": 84540}\n",
      "#metrics {\"StartTime\": 1650377441.3214073, \"EndTime\": 1650377444.377752, \"Dimensions\": {\"Algorithm\": \"AlgorithmModel\", \"Host\": \"UNKNOWN\", \"Operation\": \"scoring\"}, \"Metrics\": {\"invocations.count\": {\"sum\": 1.0, \"count\": 1, \"min\": 1, \"max\": 1}}}\n",
      "2022-04-19T14:10:44.246:[sagemaker logs]: MaxConcurrentTransforms=4, MaxPayloadInMB=6, BatchStrategy=MULTI_RECORD\n"
     ]
    }
   ],
   "source": [
    "print('Waiting for transform job: ' + fm_transformer.latest_transform_job.job_name)\n",
    "fm_transformer.wait()"
   ]
  },
  {
   "cell_type": "markdown",
   "metadata": {},
   "source": [
    "- Inference results will be stored in a separate file for each test file chunk. Let's download the results from S3 and merge them"
   ]
  },
  {
   "cell_type": "code",
   "execution_count": 515,
   "metadata": {},
   "outputs": [],
   "source": [
    "def download_from_s3(bucket, key):\n",
    "    s3 = boto3.resource('s3')\n",
    "    obj = s3.Object( bucket, key)\n",
    "    content = obj.get()['Body'].read()\n",
    "    return content"
   ]
  },
  {
   "cell_type": "code",
   "execution_count": 516,
   "metadata": {},
   "outputs": [],
   "source": [
    "test_preds = []\n",
    "for i in range(N):\n",
    "    key = 'transform/test_' + str(i) + '.protobuf.out'\n",
    "    response = download_from_s3(bucket, key)\n",
    "    result = [json.loads(row)['score'] for row in response.split(b'\\n') if len(row) > 0]\n",
    "    test_preds.extend(result)"
   ]
  },
  {
   "cell_type": "code",
   "execution_count": 517,
   "metadata": {},
   "outputs": [],
   "source": [
    "test_preds = np.array(test_preds)"
   ]
  },
  {
   "cell_type": "code",
   "execution_count": 518,
   "metadata": {},
   "outputs": [
    {
     "data": {
      "text/plain": [
       "(1409,)"
      ]
     },
     "execution_count": 518,
     "metadata": {},
     "output_type": "execute_result"
    }
   ],
   "source": [
    "test_preds.shape"
   ]
  },
  {
   "cell_type": "markdown",
   "metadata": {},
   "source": [
    "---"
   ]
  },
  {
   "cell_type": "markdown",
   "metadata": {},
   "source": [
    "## Chapter 5: <a class=\"anchor\" id=\"chapter5\"></a> Evaluate Model Performance"
   ]
  },
  {
   "cell_type": "markdown",
   "metadata": {},
   "source": [
    "Let's start by calculating a naive baseline to approximate how well our model is doing.  The simplest estimate would be to assume every user item rating is just the average rating over all ratings.\n",
    "\n",
    "*Note, we could do better by using each individual video's average, however, in this case it doesn't really matter as the same conclusions would hold.*"
   ]
  },
  {
   "cell_type": "code",
   "execution_count": 523,
   "metadata": {},
   "outputs": [
    {
     "name": "stdout",
     "output_type": "stream",
     "text": [
      "Naive MSE: 0.018799840404193316\n"
     ]
    }
   ],
   "source": [
    "print('Naive MSE:', np.mean((test_df['demand_level'] - np.mean(train_df['demand_level'])) ** 2))"
   ]
  },
  {
   "cell_type": "markdown",
   "metadata": {},
   "source": [
    "Now, we'll calculate predictions for our test dataset."
   ]
  },
  {
   "cell_type": "code",
   "execution_count": 524,
   "metadata": {},
   "outputs": [
    {
     "name": "stdout",
     "output_type": "stream",
     "text": [
      "MSE: 311040.7091966924\n"
     ]
    }
   ],
   "source": [
    "print('MSE:', np.mean((test_Y - test_preds) ** 2))"
   ]
  },
  {
   "cell_type": "markdown",
   "metadata": {},
   "source": [
    "We can see that our neural network and embedding model produces substantially better results (~1.44 vs 1.13 on the mean square error).\n",
    "\n",
    "For recommender systems, subjective accuracy also matters.  Let's get some recommendations for a random user to see if they make intuitive sense."
   ]
  },
  {
   "cell_type": "code",
   "execution_count": 525,
   "metadata": {},
   "outputs": [
    {
     "data": {
      "text/html": [
       "<div>\n",
       "<style scoped>\n",
       "    .dataframe tbody tr th:only-of-type {\n",
       "        vertical-align: middle;\n",
       "    }\n",
       "\n",
       "    .dataframe tbody tr th {\n",
       "        vertical-align: top;\n",
       "    }\n",
       "\n",
       "    .dataframe thead th {\n",
       "        text-align: right;\n",
       "    }\n",
       "</style>\n",
       "<table border=\"1\" class=\"dataframe\">\n",
       "  <thead>\n",
       "    <tr style=\"text-align: right;\">\n",
       "      <th></th>\n",
       "      <th>collection_index</th>\n",
       "      <th>collection_status</th>\n",
       "      <th>nft_version</th>\n",
       "      <th>tokens</th>\n",
       "      <th>featured</th>\n",
       "      <th>hidden</th>\n",
       "      <th>nsfw</th>\n",
       "      <th>asset_contract_type</th>\n",
       "      <th>require_email</th>\n",
       "      <th>day_avg_price</th>\n",
       "      <th>week_avg_price</th>\n",
       "      <th>month_avg_price</th>\n",
       "      <th>total_volume</th>\n",
       "      <th>total_sales</th>\n",
       "      <th>total_supply</th>\n",
       "      <th>average_price</th>\n",
       "      <th>only_proxied_transfers</th>\n",
       "      <th>is_subject_to_whitelist</th>\n",
       "      <th>opensea_buyer_fee_basis_points</th>\n",
       "      <th>opensea_seller_fee_basis_points</th>\n",
       "      <th>demand_level</th>\n",
       "    </tr>\n",
       "  </thead>\n",
       "  <tbody>\n",
       "    <tr>\n",
       "      <th>6</th>\n",
       "      <td>6</td>\n",
       "      <td>0.0</td>\n",
       "      <td>0.0</td>\n",
       "      <td>1.0</td>\n",
       "      <td>0.0</td>\n",
       "      <td>0.0</td>\n",
       "      <td>0.0</td>\n",
       "      <td>0.0</td>\n",
       "      <td>0.0</td>\n",
       "      <td>0.0</td>\n",
       "      <td>0.0</td>\n",
       "      <td>0.0</td>\n",
       "      <td>0.0</td>\n",
       "      <td>0.0</td>\n",
       "      <td>-0.454545</td>\n",
       "      <td>0.0</td>\n",
       "      <td>0.0</td>\n",
       "      <td>0.0</td>\n",
       "      <td>0.0</td>\n",
       "      <td>0.0</td>\n",
       "      <td>0</td>\n",
       "    </tr>\n",
       "  </tbody>\n",
       "</table>\n",
       "</div>"
      ],
      "text/plain": [
       "   collection_index  collection_status  nft_version  tokens  featured  hidden  \\\n",
       "6                 6                0.0          0.0     1.0       0.0     0.0   \n",
       "\n",
       "   nsfw  asset_contract_type  require_email  day_avg_price  week_avg_price  \\\n",
       "6   0.0                  0.0            0.0            0.0             0.0   \n",
       "\n",
       "   month_avg_price  total_volume  total_sales  total_supply  average_price  \\\n",
       "6              0.0           0.0          0.0     -0.454545            0.0   \n",
       "\n",
       "   only_proxied_transfers  is_subject_to_whitelist  \\\n",
       "6                     0.0                      0.0   \n",
       "\n",
       "   opensea_buyer_fee_basis_points  opensea_seller_fee_basis_points  \\\n",
       "6                             0.0                              0.0   \n",
       "\n",
       "   demand_level  \n",
       "6             0  "
      ]
     },
     "execution_count": 525,
     "metadata": {},
     "output_type": "execute_result"
    }
   ],
   "source": [
    "NFT_6 = df.loc[df['collection_index'] == 6]\n",
    "NFT_6"
   ]
  },
  {
   "cell_type": "code",
   "execution_count": null,
   "metadata": {},
   "outputs": [],
   "source": [
    "df_customer_6 = reduced_df[reduced_df['customer'] == 6].sort_values(['star_rating', 'product'], ascending=[False, True])\n",
    "pd.concat((df_customer_6.head(10), df_customer_6.tail(10)))"
   ]
  },
  {
   "cell_type": "markdown",
   "metadata": {},
   "source": [
    "As we can see, user #6 seems to like sprawling dramamtic television series and sci-fi, but they dislike silly comedies.\n",
    "\n",
    "Now we'll loop through and predict user #6's ratings for every common video in the catalog, to see which ones we'd recommend and which ones we wouldn't."
   ]
  },
  {
   "cell_type": "code",
   "execution_count": 526,
   "metadata": {},
   "outputs": [],
   "source": [
    "def create_payload(collection_index, nb_demand_levels, nb_independent_vars, demand_level):\n",
    "    # prepare payload for NFT collection #6\n",
    "    c = [collection_index] * nb_independent_vars\n",
    "    d = df['demand_level'].values\n",
    "    x = pd.DataFrame(zip(c,d))\n",
    "    p_x = convert_sparse_matrix_X(x, x.shape[0], nb_demand_levels, nb_independent_vars)\n",
    "    x_pb = convert_to_protobuf(p_x)\n",
    "    return x_pb"
   ]
  },
  {
   "cell_type": "code",
   "execution_count": 527,
   "metadata": {},
   "outputs": [
    {
     "data": {
      "text/plain": [
       "<_io.BytesIO at 0x135254590>"
      ]
     },
     "execution_count": 527,
     "metadata": {},
     "output_type": "execute_result"
    }
   ],
   "source": [
    "x_pb = create_payload(6, nb_demand_levels, nb_independent_vars, demand_level)\n",
    "x_pb"
   ]
  },
  {
   "cell_type": "code",
   "execution_count": null,
   "metadata": {},
   "outputs": [],
   "source": [
    "# make predictions using end-point created in real-time inference\n",
    "#response = fm_predictor.predict(x_pb)\n",
    "#predictions = [round(r['score'], 2) for r in json.loads(response)['predictions']]"
   ]
  },
  {
   "cell_type": "code",
   "execution_count": null,
   "metadata": {},
   "outputs": [],
   "source": [
    "#predictions_df = pd.DataFrame({'collection_number': df['collection_index'], 'prediction': predictions})"
   ]
  },
  {
   "cell_type": "code",
   "execution_count": null,
   "metadata": {},
   "outputs": [],
   "source": [
    "#df_results_cust_6 = NFT_6.merge(predictions_df, on=['demand_level'])[['collection_index', 'collection_status', 'nft_version', 'tokens', 'featured',\n",
    "# 'hidden', 'nsfw', 'asset_contract_type', 'require_email', 'day_avg_price', 'week_avg_price', 'month_avg_price', 'total_volume',\n",
    "# 'total_sales', 'total_supply', 'average_price', 'only_proxied_transfers', 'is_subject_to_whitelist',\n",
    "# 'opensea_buyer_fee_basis_points', 'opensea_seller_fee_basis_points']]\n",
    "#df_results_cust_6.sort_values(['prediction', 'product'], ascending=[False, True])"
   ]
  },
  {
   "cell_type": "markdown",
   "metadata": {},
   "source": [
    "Indeed, our predicted highly rated shows have some well-reviewed TV dramas and some sci-fi.  Meanwhile, our bottom rated shows include goofball comedies.\n",
    "\n",
    "*Note, because of random initialization in the weights, results on subsequent runs may differ slightly.*\n",
    "\n",
    "Let's confirm that we no longer have almost perfect correlation in recommendations with user #7."
   ]
  },
  {
   "cell_type": "code",
   "execution_count": null,
   "metadata": {},
   "outputs": [],
   "source": [
    "#x_pb = create_payload(7, nb_demand_levels, nb_independent_vars, collection_index)\n",
    "#response = fm_predictor.predict(x_pb)\n",
    "#predictions_user7 = [round(r['score'], 2) for r in json.loads(response)['predictions']]"
   ]
  },
  {
   "cell_type": "code",
   "execution_count": null,
   "metadata": {},
   "outputs": [],
   "source": [
    "#plt.scatter(predictions_df['prediction'], np.array(predictions_user7))\n",
    "#plt.show()"
   ]
  },
  {
   "cell_type": "markdown",
   "metadata": {},
   "source": [
    "---"
   ]
  },
  {
   "cell_type": "markdown",
   "metadata": {},
   "source": [
    "## Chapter 6: <a class=\"anchor\" id=\"chapter\"></a> Model Tuning"
   ]
  },
  {
   "cell_type": "markdown",
   "metadata": {},
   "source": [
    "So far, we have developed a deep learning model to predict customer ratings but the model could be improved further by various techniques. In this section, let's see if tuning the hyper-parameters of Factorization Machine is going to make the model any better."
   ]
  },
  {
   "cell_type": "code",
   "execution_count": 577,
   "metadata": {},
   "outputs": [],
   "source": [
    "output_location = 's3://{}/train/'.format(bucket)\n",
    "s3_train_path = 's3://{}/prepare/train/train.protobuf'.format(bucket)\n",
    "s3_val_path = 's3://{}/prepare/validate/validate.protobuf'.format(bucket)"
   ]
  },
  {
   "cell_type": "markdown",
   "metadata": {},
   "source": [
    "- Let's create the estimator with Factorization Machines container similar to how we defined in training the model. Also, set the initial hyper-parameters that we know worked before."
   ]
  },
  {
   "cell_type": "code",
   "execution_count": 578,
   "metadata": {},
   "outputs": [
    {
     "name": "stderr",
     "output_type": "stream",
     "text": [
      "train_instance_count has been renamed in sagemaker>=2.\n",
      "See: https://sagemaker.readthedocs.io/en/stable/v2.html for details.\n",
      "train_instance_type has been renamed in sagemaker>=2.\n",
      "See: https://sagemaker.readthedocs.io/en/stable/v2.html for details.\n"
     ]
    }
   ],
   "source": [
    "fm_estimator = sagemaker.estimator.Estimator(container,\n",
    "                                   role, \n",
    "                                   train_instance_count=1, \n",
    "                                   train_instance_type='ml.c5.4xlarge',\n",
    "                                   output_path=output_location,\n",
    "                                   sagemaker_session=sess)"
   ]
  },
  {
   "cell_type": "code",
   "execution_count": 579,
   "metadata": {},
   "outputs": [],
   "source": [
    "fm_estimator.set_hyperparameters(\n",
    "    feature_dim=feature_dim,\n",
    "    predictor_type='binary_classifier',\n",
    "    mini_batch_size=200,\n",
    "    num_factors=512,\n",
    "    bias_lr=0.02,\n",
    "    epochs=20)"
   ]
  },
  {
   "cell_type": "markdown",
   "metadata": {},
   "source": [
    "- Find best hyperparameters with Sagemaker's Automatic Model Tuning. Following hyperparameters will be tuned\n",
    "    - ***factors_lr:*** The learning rate for factorization terms.\n",
    "    - ***factors_init_sigma:*** The standard deviation for initialization of factorization terms. Takes effect if factors_init_method is set to normal.\n",
    "    \n",
    "\n",
    "- Define the hyperparameter tuning ranges to be searched and set the objective metric"
   ]
  },
  {
   "cell_type": "code",
   "execution_count": 580,
   "metadata": {},
   "outputs": [],
   "source": [
    "hyperparameter_ranges=  {\n",
    "    \"factors_lr\": ContinuousParameter(0.0001, 0.2),\n",
    "    \"factors_init_sigma\": ContinuousParameter(0.0001, 1)\n",
    "}"
   ]
  },
  {
   "cell_type": "markdown",
   "metadata": {},
   "source": [
    "- Now that we have our ranges defined we want to define our success metric"
   ]
  },
  {
   "cell_type": "code",
   "execution_count": 583,
   "metadata": {},
   "outputs": [],
   "source": [
    "objective_metric_name = \"test:rmse\"\n",
    "objective_type = \"Minimize\""
   ]
  },
  {
   "cell_type": "markdown",
   "metadata": {},
   "source": [
    "- Start hyperparameter tuning job with the ranges defined"
   ]
  },
  {
   "cell_type": "code",
   "execution_count": 584,
   "metadata": {},
   "outputs": [],
   "source": [
    "fm_tuner = HyperparameterTuner(\n",
    "    estimator=fm_estimator,\n",
    "    objective_metric_name=objective_metric_name, \n",
    "    hyperparameter_ranges=hyperparameter_ranges,\n",
    "    objective_type=objective_type,\n",
    "    max_jobs=10,\n",
    "    max_parallel_jobs=2\n",
    ")"
   ]
  },
  {
   "cell_type": "code",
   "execution_count": 585,
   "metadata": {},
   "outputs": [],
   "source": [
    "timestamp_prefix = time.strftime(\"%Y%m%d-%H%M%S\", time.gmtime())\n",
    "fm_tuner_job_name = 'hpo-fm-' + timestamp_prefix"
   ]
  },
  {
   "cell_type": "code",
   "execution_count": 586,
   "metadata": {},
   "outputs": [],
   "source": [
    "fm_tuner.fit({'train': s3_train_path, 'test': s3_val_path}, job_name=fm_tuner_job_name, wait=False)"
   ]
  },
  {
   "cell_type": "markdown",
   "metadata": {},
   "source": [
    "- Track hyperparameter tuning job progress"
   ]
  },
  {
   "cell_type": "code",
   "execution_count": 587,
   "metadata": {},
   "outputs": [
    {
     "name": "stdout",
     "output_type": "stream",
     "text": [
      "Reminder: the tuning job has not been completed.\n",
      "0 training jobs have completed\n"
     ]
    }
   ],
   "source": [
    "# run this cell to check current status of hyperparameter tuning job\n",
    "tuning_job_result = smclient.describe_hyper_parameter_tuning_job(HyperParameterTuningJobName=fm_tuner_job_name)\n",
    "\n",
    "status = tuning_job_result['HyperParameterTuningJobStatus']\n",
    "if status != 'Completed':\n",
    "    print('Reminder: the tuning job has not been completed.')\n",
    "    \n",
    "job_count = tuning_job_result['TrainingJobStatusCounters']['Completed']\n",
    "print(\"%d training jobs have completed\" % job_count)\n",
    "    \n",
    "is_minimize = (tuning_job_result['HyperParameterTuningJobConfig']['HyperParameterTuningJobObjective']['Type'] != 'Maximize')\n",
    "objective_name = tuning_job_result['HyperParameterTuningJobConfig']['HyperParameterTuningJobObjective']['MetricName']"
   ]
  },
  {
   "cell_type": "markdown",
   "metadata": {},
   "source": [
    "* Analyze Hyper-Parameter Tuning Job Results"
   ]
  },
  {
   "cell_type": "code",
   "execution_count": 143,
   "metadata": {},
   "outputs": [
    {
     "data": {
      "text/html": [
       "<div>\n",
       "<style scoped>\n",
       "    .dataframe tbody tr th:only-of-type {\n",
       "        vertical-align: middle;\n",
       "    }\n",
       "\n",
       "    .dataframe tbody tr th {\n",
       "        vertical-align: top;\n",
       "    }\n",
       "\n",
       "    .dataframe thead th {\n",
       "        text-align: right;\n",
       "    }\n",
       "</style>\n",
       "<table border=\"1\" class=\"dataframe\">\n",
       "  <thead>\n",
       "    <tr style=\"text-align: right;\">\n",
       "      <th></th>\n",
       "      <th>factors_init_sigma</th>\n",
       "      <th>factors_lr</th>\n",
       "      <th>TrainingJobName</th>\n",
       "      <th>TrainingJobStatus</th>\n",
       "      <th>FinalObjectiveValue</th>\n",
       "      <th>TrainingStartTime</th>\n",
       "      <th>TrainingEndTime</th>\n",
       "      <th>TrainingElapsedTimeSeconds</th>\n",
       "    </tr>\n",
       "  </thead>\n",
       "  <tbody>\n",
       "    <tr>\n",
       "      <th>0</th>\n",
       "      <td>0.000100</td>\n",
       "      <td>0.046716</td>\n",
       "      <td>hpo-fm-20220418-155615-006-f9ccb1e5</td>\n",
       "      <td>InProgress</td>\n",
       "      <td>NaN</td>\n",
       "      <td>2022-04-18 17:03:08+01:00</td>\n",
       "      <td>NaT</td>\n",
       "      <td>NaN</td>\n",
       "    </tr>\n",
       "    <tr>\n",
       "      <th>1</th>\n",
       "      <td>0.000104</td>\n",
       "      <td>0.045867</td>\n",
       "      <td>hpo-fm-20220418-155615-005-b960ea3a</td>\n",
       "      <td>InProgress</td>\n",
       "      <td>NaN</td>\n",
       "      <td>2022-04-18 17:02:58+01:00</td>\n",
       "      <td>NaT</td>\n",
       "      <td>NaN</td>\n",
       "    </tr>\n",
       "    <tr>\n",
       "      <th>2</th>\n",
       "      <td>0.000201</td>\n",
       "      <td>0.074177</td>\n",
       "      <td>hpo-fm-20220418-155615-004-6cbf4eee</td>\n",
       "      <td>Completed</td>\n",
       "      <td>721.809448</td>\n",
       "      <td>2022-04-18 17:00:22+01:00</td>\n",
       "      <td>2022-04-18 17:01:24+01:00</td>\n",
       "      <td>62.0</td>\n",
       "    </tr>\n",
       "    <tr>\n",
       "      <th>3</th>\n",
       "      <td>0.057890</td>\n",
       "      <td>0.000256</td>\n",
       "      <td>hpo-fm-20220418-155615-003-b73f9b1d</td>\n",
       "      <td>Completed</td>\n",
       "      <td>723.710327</td>\n",
       "      <td>2022-04-18 17:00:17+01:00</td>\n",
       "      <td>2022-04-18 17:01:24+01:00</td>\n",
       "      <td>67.0</td>\n",
       "    </tr>\n",
       "    <tr>\n",
       "      <th>4</th>\n",
       "      <td>0.036339</td>\n",
       "      <td>0.173522</td>\n",
       "      <td>hpo-fm-20220418-155615-002-348b36e9</td>\n",
       "      <td>Completed</td>\n",
       "      <td>722.341370</td>\n",
       "      <td>2022-04-18 16:57:55+01:00</td>\n",
       "      <td>2022-04-18 16:58:52+01:00</td>\n",
       "      <td>57.0</td>\n",
       "    </tr>\n",
       "    <tr>\n",
       "      <th>5</th>\n",
       "      <td>0.000598</td>\n",
       "      <td>0.121754</td>\n",
       "      <td>hpo-fm-20220418-155615-001-6f5a4dc1</td>\n",
       "      <td>Completed</td>\n",
       "      <td>721.893433</td>\n",
       "      <td>2022-04-18 16:57:39+01:00</td>\n",
       "      <td>2022-04-18 16:58:57+01:00</td>\n",
       "      <td>78.0</td>\n",
       "    </tr>\n",
       "  </tbody>\n",
       "</table>\n",
       "</div>"
      ],
      "text/plain": [
       "   factors_init_sigma  factors_lr                      TrainingJobName  \\\n",
       "0            0.000100    0.046716  hpo-fm-20220418-155615-006-f9ccb1e5   \n",
       "1            0.000104    0.045867  hpo-fm-20220418-155615-005-b960ea3a   \n",
       "2            0.000201    0.074177  hpo-fm-20220418-155615-004-6cbf4eee   \n",
       "3            0.057890    0.000256  hpo-fm-20220418-155615-003-b73f9b1d   \n",
       "4            0.036339    0.173522  hpo-fm-20220418-155615-002-348b36e9   \n",
       "5            0.000598    0.121754  hpo-fm-20220418-155615-001-6f5a4dc1   \n",
       "\n",
       "  TrainingJobStatus  FinalObjectiveValue         TrainingStartTime  \\\n",
       "0        InProgress                  NaN 2022-04-18 17:03:08+01:00   \n",
       "1        InProgress                  NaN 2022-04-18 17:02:58+01:00   \n",
       "2         Completed           721.809448 2022-04-18 17:00:22+01:00   \n",
       "3         Completed           723.710327 2022-04-18 17:00:17+01:00   \n",
       "4         Completed           722.341370 2022-04-18 16:57:55+01:00   \n",
       "5         Completed           721.893433 2022-04-18 16:57:39+01:00   \n",
       "\n",
       "            TrainingEndTime  TrainingElapsedTimeSeconds  \n",
       "0                       NaT                         NaN  \n",
       "1                       NaT                         NaN  \n",
       "2 2022-04-18 17:01:24+01:00                        62.0  \n",
       "3 2022-04-18 17:01:24+01:00                        67.0  \n",
       "4 2022-04-18 16:58:52+01:00                        57.0  \n",
       "5 2022-04-18 16:58:57+01:00                        78.0  "
      ]
     },
     "execution_count": 143,
     "metadata": {},
     "output_type": "execute_result"
    }
   ],
   "source": [
    "# plug-in the training job name and metrics to be captured\n",
    "fm_tuner_analytics = HyperparameterTuningJobAnalytics(hyperparameter_tuning_job_name=fm_tuner_job_name)\n",
    "df_fm_tuner_metrics = fm_tuner_analytics.dataframe()\n",
    "df_fm_tuner_metrics"
   ]
  },
  {
   "cell_type": "code",
   "execution_count": 144,
   "metadata": {},
   "outputs": [
    {
     "data": {
      "image/png": "[encoded data removed]",
      "text/plain": [
       "<Figure size 864x360 with 1 Axes>"
      ]
     },
     "metadata": {},
     "output_type": "display_data"
    }
   ],
   "source": [
    "# analyze using seaborn\n",
    "plt = df_fm_tuner_metrics.plot(kind='line', figsize=(12,5), x='TrainingStartTime', \n",
    "                             y='FinalObjectiveValue', \n",
    "                             style='b.', legend=False)\n",
    "plt.set_ylabel(objective_metric_name);"
   ]
  },
  {
   "cell_type": "markdown",
   "metadata": {},
   "source": [
    "- Best Factorization Machine Model after Hyper-Parameter Optimization"
   ]
  },
  {
   "cell_type": "code",
   "execution_count": 145,
   "metadata": {},
   "outputs": [
    {
     "name": "stdout",
     "output_type": "stream",
     "text": [
      "fm_tuner_job_name: hpo-fm-20220418-155615\n",
      "fm_best_model_name: hpo-fm-20220418-155615-005-b960ea3a\n"
     ]
    }
   ],
   "source": [
    "print(\"fm_tuner_job_name: \" + fm_tuner_job_name)\n",
    "fm_tuner = HyperparameterTuner.attach(fm_tuner_job_name)\n",
    "\n",
    "fm_tuner_analytics = HyperparameterTuningJobAnalytics(hyperparameter_tuning_job_name=fm_tuner_job_name)\n",
    "df_fm_tuner_metrics = fm_tuner_analytics.dataframe()\n",
    "\n",
    "fm_best_model_name = fm_tuner.best_training_job()\n",
    "print(\"fm_best_model_name: \" + fm_best_model_name)\n",
    "\n",
    "fm_model_info = smclient.describe_training_job(TrainingJobName=fm_best_model_name)"
   ]
  },
  {
   "cell_type": "code",
   "execution_count": 146,
   "metadata": {},
   "outputs": [
    {
     "data": {
      "text/html": [
       "<div>\n",
       "<style scoped>\n",
       "    .dataframe tbody tr th:only-of-type {\n",
       "        vertical-align: middle;\n",
       "    }\n",
       "\n",
       "    .dataframe tbody tr th {\n",
       "        vertical-align: top;\n",
       "    }\n",
       "\n",
       "    .dataframe thead th {\n",
       "        text-align: right;\n",
       "    }\n",
       "</style>\n",
       "<table border=\"1\" class=\"dataframe\">\n",
       "  <thead>\n",
       "    <tr style=\"text-align: right;\">\n",
       "      <th></th>\n",
       "      <th>factors_init_sigma</th>\n",
       "      <th>factors_lr</th>\n",
       "      <th>TrainingJobName</th>\n",
       "      <th>TrainingJobStatus</th>\n",
       "      <th>FinalObjectiveValue</th>\n",
       "      <th>TrainingStartTime</th>\n",
       "      <th>TrainingEndTime</th>\n",
       "      <th>TrainingElapsedTimeSeconds</th>\n",
       "    </tr>\n",
       "  </thead>\n",
       "  <tbody>\n",
       "    <tr>\n",
       "      <th>3</th>\n",
       "      <td>0.000104</td>\n",
       "      <td>0.045867</td>\n",
       "      <td>hpo-fm-20220418-155615-005-b960ea3a</td>\n",
       "      <td>Completed</td>\n",
       "      <td>721.698364</td>\n",
       "      <td>2022-04-18 17:02:58+01:00</td>\n",
       "      <td>2022-04-18 17:04:00+01:00</td>\n",
       "      <td>62.0</td>\n",
       "    </tr>\n",
       "  </tbody>\n",
       "</table>\n",
       "</div>"
      ],
      "text/plain": [
       "   factors_init_sigma  factors_lr                      TrainingJobName  \\\n",
       "3            0.000104    0.045867  hpo-fm-20220418-155615-005-b960ea3a   \n",
       "\n",
       "  TrainingJobStatus  FinalObjectiveValue         TrainingStartTime  \\\n",
       "3         Completed           721.698364 2022-04-18 17:02:58+01:00   \n",
       "\n",
       "            TrainingEndTime  TrainingElapsedTimeSeconds  \n",
       "3 2022-04-18 17:04:00+01:00                        62.0  "
      ]
     },
     "execution_count": 146,
     "metadata": {},
     "output_type": "execute_result"
    }
   ],
   "source": [
    "df_fm_tuner_metrics[df_fm_tuner_metrics['TrainingJobName']==fm_best_model_name]"
   ]
  },
  {
   "cell_type": "markdown",
   "metadata": {},
   "source": [
    "- Let's evaluate the results with the best training job from hyper-parameter tuning job."
   ]
  },
  {
   "cell_type": "markdown",
   "metadata": {},
   "source": [
    "We can deploy the endpoint using hyper-parameter tuning job and test the predictions. "
   ]
  },
  {
   "cell_type": "code",
   "execution_count": 147,
   "metadata": {},
   "outputs": [
    {
     "name": "stdout",
     "output_type": "stream",
     "text": [
      "\n",
      "2022-04-18 16:04:00 Starting - Preparing the instances for training\n",
      "2022-04-18 16:04:00 Downloading - Downloading input data\n",
      "2022-04-18 16:04:00 Training - Training image download completed. Training in progress.\n",
      "2022-04-18 16:04:00 Uploading - Uploading generated training model\n",
      "2022-04-18 16:04:00 Completed - Training job completed\n"
     ]
    }
   ],
   "source": [
    "fm = sagemaker.estimator.Estimator.attach(fm_best_model_name)"
   ]
  },
  {
   "cell_type": "markdown",
   "metadata": {},
   "source": [
    "We can re-run the cells in Batch Inference and Evaluation section to evaluate the performance of the model with tuned hyper-parameters. \n",
    "\n",
    "Assuming batch inference is carried out, let's calculate predictions for our test dataset and see if we do better than the training job with default hyper-parameters."
   ]
  },
  {
   "cell_type": "code",
   "execution_count": 148,
   "metadata": {},
   "outputs": [
    {
     "name": "stdout",
     "output_type": "stream",
     "text": [
      "MSE: 311040.55647930625\n"
     ]
    }
   ],
   "source": [
    "print('MSE:', np.mean((test_Y - test_preds) ** 2))"
   ]
  },
  {
   "cell_type": "code",
   "execution_count": 643,
   "metadata": {},
   "outputs": [],
   "source": [
    "#TypeError: Cannot clone object '<sagemaker.estimator.Estimator object at 0x137ad2dc0>' (type <class 'sagemaker.estimator.Estimator'>):\n",
    "# it does not seem to be a scikit-learn estimator as it does not implement a 'get_params' method.\n",
    "# cv = cross_val_score(fm, train_X, train_Y, cv=3, scoring='accuracy')\n",
    "# print('Accuracy score is ' + str(round(cv[1],3)*100) + '%')"
   ]
  },
  {
   "cell_type": "markdown",
   "metadata": {},
   "source": [
    "## Chapter 7: <a class=\"anchor\" id=\"chapter7\"></a> Clean-up"
   ]
  },
  {
   "cell_type": "markdown",
   "metadata": {},
   "source": [
    "Let's finish by deleting our endpoint to avoid stray hosting charges."
   ]
  },
  {
   "cell_type": "code",
   "execution_count": 644,
   "metadata": {},
   "outputs": [
    {
     "name": "stdout",
     "output_type": "stream",
     "text": [
      "Deleting endpoint: factorization-machines-2022-04-19-15-36-01-334\n"
     ]
    },
    {
     "data": {
      "text/plain": [
       "{'ResponseMetadata': {'RequestId': 'cc956902-e237-465e-896b-d8c1b83f8aae',\n",
       "  'HTTPStatusCode': 200,\n",
       "  'HTTPHeaders': {'x-amzn-requestid': 'cc956902-e237-465e-896b-d8c1b83f8aae',\n",
       "   'content-type': 'application/x-amz-json-1.1',\n",
       "   'content-length': '0',\n",
       "   'date': 'Wed, 20 Apr 2022 08:27:32 GMT'},\n",
       "  'RetryAttempts': 0}}"
      ]
     },
     "execution_count": 644,
     "metadata": {},
     "output_type": "execute_result"
    },
    {
     "name": "stdout",
     "output_type": "stream",
     "text": [
      "Deleting endpoint: factorization-machines-2022-04-19-15-29-40-020\n"
     ]
    },
    {
     "data": {
      "text/plain": [
       "{'ResponseMetadata': {'RequestId': '2cded9ca-43ec-4fca-bb61-5d82480ff389',\n",
       "  'HTTPStatusCode': 200,\n",
       "  'HTTPHeaders': {'x-amzn-requestid': '2cded9ca-43ec-4fca-bb61-5d82480ff389',\n",
       "   'content-type': 'application/x-amz-json-1.1',\n",
       "   'content-length': '0',\n",
       "   'date': 'Wed, 20 Apr 2022 08:27:34 GMT'},\n",
       "  'RetryAttempts': 1}}"
      ]
     },
     "execution_count": 644,
     "metadata": {},
     "output_type": "execute_result"
    },
    {
     "name": "stdout",
     "output_type": "stream",
     "text": [
      "Deleting endpoint: factorization-machines-2022-04-19-15-08-06-331\n"
     ]
    },
    {
     "data": {
      "text/plain": [
       "{'ResponseMetadata': {'RequestId': '6570e9c2-fd7f-4a33-b4ef-5556678596a8',\n",
       "  'HTTPStatusCode': 200,\n",
       "  'HTTPHeaders': {'x-amzn-requestid': '6570e9c2-fd7f-4a33-b4ef-5556678596a8',\n",
       "   'content-type': 'application/x-amz-json-1.1',\n",
       "   'content-length': '0',\n",
       "   'date': 'Wed, 20 Apr 2022 08:27:36 GMT'},\n",
       "  'RetryAttempts': 1}}"
      ]
     },
     "execution_count": 644,
     "metadata": {},
     "output_type": "execute_result"
    },
    {
     "name": "stdout",
     "output_type": "stream",
     "text": [
      "Deleting endpoint: factorization-machines-2022-04-19-14-56-40-628\n"
     ]
    },
    {
     "data": {
      "text/plain": [
       "{'ResponseMetadata': {'RequestId': '06283c19-cfa9-44f5-b455-e9353525c366',\n",
       "  'HTTPStatusCode': 200,\n",
       "  'HTTPHeaders': {'x-amzn-requestid': '06283c19-cfa9-44f5-b455-e9353525c366',\n",
       "   'content-type': 'application/x-amz-json-1.1',\n",
       "   'content-length': '0',\n",
       "   'date': 'Wed, 20 Apr 2022 08:27:37 GMT'},\n",
       "  'RetryAttempts': 1}}"
      ]
     },
     "execution_count": 644,
     "metadata": {},
     "output_type": "execute_result"
    },
    {
     "name": "stdout",
     "output_type": "stream",
     "text": [
      "Deleting endpoint: factorization-machines-2022-04-19-14-50-14-768\n"
     ]
    },
    {
     "data": {
      "text/plain": [
       "{'ResponseMetadata': {'RequestId': 'aab5a66d-95b5-4c40-ab13-12ed08c6aa83',\n",
       "  'HTTPStatusCode': 200,\n",
       "  'HTTPHeaders': {'x-amzn-requestid': 'aab5a66d-95b5-4c40-ab13-12ed08c6aa83',\n",
       "   'content-type': 'application/x-amz-json-1.1',\n",
       "   'content-length': '0',\n",
       "   'date': 'Wed, 20 Apr 2022 08:27:38 GMT'},\n",
       "  'RetryAttempts': 1}}"
      ]
     },
     "execution_count": 644,
     "metadata": {},
     "output_type": "execute_result"
    },
    {
     "name": "stdout",
     "output_type": "stream",
     "text": [
      "Deleting endpoint: factorization-machines-2022-04-19-14-31-48-744\n"
     ]
    },
    {
     "data": {
      "text/plain": [
       "{'ResponseMetadata': {'RequestId': 'f4990226-6fe9-48f7-837d-901ec219b8e2',\n",
       "  'HTTPStatusCode': 200,\n",
       "  'HTTPHeaders': {'x-amzn-requestid': 'f4990226-6fe9-48f7-837d-901ec219b8e2',\n",
       "   'content-type': 'application/x-amz-json-1.1',\n",
       "   'content-length': '0',\n",
       "   'date': 'Wed, 20 Apr 2022 08:27:39 GMT'},\n",
       "  'RetryAttempts': 1}}"
      ]
     },
     "execution_count": 644,
     "metadata": {},
     "output_type": "execute_result"
    },
    {
     "name": "stdout",
     "output_type": "stream",
     "text": [
      "Deleting endpoint: factorization-machines-2022-04-19-14-13-29-128\n"
     ]
    },
    {
     "data": {
      "text/plain": [
       "{'ResponseMetadata': {'RequestId': '37053041-5b08-435d-8ac3-f67e4accfd21',\n",
       "  'HTTPStatusCode': 200,\n",
       "  'HTTPHeaders': {'x-amzn-requestid': '37053041-5b08-435d-8ac3-f67e4accfd21',\n",
       "   'content-type': 'application/x-amz-json-1.1',\n",
       "   'content-length': '0',\n",
       "   'date': 'Wed, 20 Apr 2022 08:27:41 GMT'},\n",
       "  'RetryAttempts': 1}}"
      ]
     },
     "execution_count": 644,
     "metadata": {},
     "output_type": "execute_result"
    },
    {
     "name": "stdout",
     "output_type": "stream",
     "text": [
      "Deleting endpoint: factorization-machines-2022-04-19-13-59-22-067\n"
     ]
    },
    {
     "data": {
      "text/plain": [
       "{'ResponseMetadata': {'RequestId': '75ded127-62da-4af1-8890-c7b493218241',\n",
       "  'HTTPStatusCode': 200,\n",
       "  'HTTPHeaders': {'x-amzn-requestid': '75ded127-62da-4af1-8890-c7b493218241',\n",
       "   'content-type': 'application/x-amz-json-1.1',\n",
       "   'content-length': '0',\n",
       "   'date': 'Wed, 20 Apr 2022 08:27:42 GMT'},\n",
       "  'RetryAttempts': 1}}"
      ]
     },
     "execution_count": 644,
     "metadata": {},
     "output_type": "execute_result"
    },
    {
     "name": "stdout",
     "output_type": "stream",
     "text": [
      "Deleting endpoint: factorization-machines-2022-04-19-13-16-01-777\n"
     ]
    },
    {
     "data": {
      "text/plain": [
       "{'ResponseMetadata': {'RequestId': 'f61587f0-a3aa-4d10-9224-bafc285ef65e',\n",
       "  'HTTPStatusCode': 200,\n",
       "  'HTTPHeaders': {'x-amzn-requestid': 'f61587f0-a3aa-4d10-9224-bafc285ef65e',\n",
       "   'content-type': 'application/x-amz-json-1.1',\n",
       "   'content-length': '0',\n",
       "   'date': 'Wed, 20 Apr 2022 08:27:44 GMT'},\n",
       "  'RetryAttempts': 1}}"
      ]
     },
     "execution_count": 644,
     "metadata": {},
     "output_type": "execute_result"
    }
   ],
   "source": [
    "endpoint_name_contains = ['-fm-', 'factorization-machines-']\n",
    "for name in endpoint_name_contains:\n",
    "    endpoints = smclient.list_endpoints(NameContains=name, StatusEquals='InService')\n",
    "    endpoint_names = [r['EndpointName'] for r in endpoints['Endpoints']]\n",
    "    for endpoint_name in endpoint_names:\n",
    "        print(\"Deleting endpoint: \" + endpoint_name)\n",
    "        smclient.delete_endpoint(EndpointName=endpoint_name)"
   ]
  }
 ],
 "metadata": {
  "interpreter": {
   "hash": "31f2aee4e71d21fbe5cf8b01ff0e069b9275f58929596ceb00d14d90e3e16cd6"
  },
  "kernelspec": {
   "display_name": "conda_python2",
   "language": "python",
   "name": "python3"
  },
  "language_info": {
   "codemirror_mode": {
    "name": "ipython",
    "version": 3
   },
   "file_extension": ".py",
   "mimetype": "text/x-python",
   "name": "python",
   "nbconvert_exporter": "python",
   "pygments_lexer": "ipython3",
   "version": "3.9.12"
  },
  "notice": "Copyright 2017 Amazon.com, Inc. or its affiliates. All Rights Reserved.  Licensed under the Apache License, Version 2.0 (the \"License\"). You may not use this file except in compliance with the License. A copy of the License is located at http://aws.amazon.com/apache2.0/ or in the \"license\" file accompanying this file. This file is distributed on an \"AS IS\" BASIS, WITHOUT WARRANTIES OR CONDITIONS OF ANY KIND, either express or implied. See the License for the specific language governing permissions and limitations under the License."
 },
 "nbformat": 4,
 "nbformat_minor": 2
}
