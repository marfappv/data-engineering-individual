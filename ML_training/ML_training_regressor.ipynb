{
 "cells": [
  {
   "cell_type": "markdown",
   "metadata": {},
   "source": [
    "# Implementing NFT Demand Prediction System with SageMaker Built-In Algorithm Using Factorization Machines: Part 2"
   ]
  },
  {
   "cell_type": "markdown",
   "metadata": {},
   "source": [
    "# Table of Contents\n",
    "\n",
    "* [Chapter 1](#chapter1): Setup\n",
    "\n",
    "* [Chapter 2](#chapter2): Data\n",
    "    * [2.1](#2_1): Explore\n",
    "    * [2.2](#2_2): Clean\n",
    "    * [2.3](#2_3): Preprocess\n",
    " \n",
    "* [Chapter 3](#chapter3): Regressor Training\n",
    "\n",
    "* [Chapter 4](#chapter4): Inference\n",
    "    * [4.1](#4_1): Batch inference\n",
    "    * [4.2](#4_2): Real-time inference\n",
    "\n",
    "* [Chapter 5](#chapter5): Model Performance Evaluation\n",
    "\n",
    "* [Chapter 6](#chapter5): Model Tuning\n",
    "    * [6.1](#6_1): Setting hyperparameters\n",
    "    * [6.2](#6_2): Tracking hyperparameter tuning job\n",
    "    * [6.3](#6_3): Analysis of fine-tuning\n",
    "\n",
    "* [Chapter 7](#chapter7): Clean-up"
   ]
  },
  {
   "cell_type": "markdown",
   "metadata": {},
   "source": [
    "---"
   ]
  },
  {
   "cell_type": "markdown",
   "metadata": {},
   "source": [
    "## Chapter 1: <a class=\"anchor\" id=\"chapter1\"></a> Setup"
   ]
  },
  {
   "cell_type": "code",
   "execution_count": 92,
   "metadata": {},
   "outputs": [],
   "source": [
    "import boto3\n",
    "import sagemaker\n",
    "\n",
    "from sagemaker.tuner import HyperparameterTuner, ContinuousParameter\n",
    "from sagemaker.analytics import HyperparameterTuningJobAnalytics, TrainingJobAnalytics\n",
    "\n",
    "bucket = 'sagemaker-us-west-2-369454669781'\n",
    "prefix = 'sagemaker/fm-recsys'\n",
    "role = 'arn:aws:iam::369454669781:role/service-role/AmazonSageMaker-ExecutionRole-20220415T151752'\n",
    "\n",
    "sess = sagemaker.Session()\n",
    "smclient = boto3.Session().client('sagemaker')"
   ]
  },
  {
   "cell_type": "code",
   "execution_count": 93,
   "metadata": {},
   "outputs": [],
   "source": [
    "#Essentials\n",
    "from IPython.core.interactiveshell import InteractiveShell\n",
    "InteractiveShell.ast_node_interactivity = \"all\"\n",
    "import pandas as pd\n",
    "from pandas import Series, DataFrame\n",
    "from pandas.api.types import CategoricalDtype\n",
    "pd.options.display.max_columns = None\n",
    "import numpy as np; np.random.seed(2022)\n",
    "import random\n",
    "\n",
    "#Image creation\n",
    "import seaborn as sns\n",
    "import matplotlib.pyplot as plt\n",
    "import matplotlib.ticker as mtick\n",
    "import matplotlib.patches as mpatches\n",
    "from matplotlib import pyplot\n",
    "import plotly.express as px\n",
    "import plotly.graph_objects as go\n",
    "\n",
    "#Image display\n",
    "from IPython.display import Image as image\n",
    "from IPython.display import display\n",
    "\n",
    "#Preprocessing\n",
    "from sklearn.model_selection import train_test_split\n",
    "from sklearn.preprocessing import StandardScaler\n",
    "from sklearn.preprocessing import LabelEncoder\n",
    "from sklearn.compose import ColumnTransformer\n",
    "from sklearn.compose import make_column_transformer\n",
    "from sklearn.pipeline import Pipeline\n",
    "from sklearn.pipeline import make_pipeline\n",
    "\n",
    "#Models\n",
    "from sklearn.linear_model import LogisticRegression\n",
    "from sklearn.neighbors import KNeighborsClassifier\n",
    "from sklearn.tree import DecisionTreeClassifier\n",
    "from sklearn.ensemble import RandomForestClassifier\n",
    "import xgboost\n",
    "from xgboost import XGBClassifier\n",
    "from sklearn.svm import SVC\n",
    "from sklearn import svm\n",
    "from sklearn.naive_bayes import GaussianNB\n",
    "from sklearn.base import clone\n",
    "from sklearn.ensemble import StackingClassifier\n",
    "from sklearn.ensemble import BaggingClassifier\n",
    "\n",
    "#Metrics of accuracy\n",
    "from sklearn import metrics\n",
    "from sklearn.model_selection import StratifiedKFold\n",
    "from sklearn.model_selection import RepeatedStratifiedKFold\n",
    "from sklearn.model_selection import cross_val_score\n",
    "from sklearn.model_selection import cross_val_predict\n",
    "from sklearn.metrics import confusion_matrix\n",
    "from sklearn.metrics import f1_score, precision_score, recall_score\n",
    "from sklearn.metrics import mean_absolute_error\n",
    "from sklearn.metrics import mean_squared_error\n",
    "from sklearn.metrics import r2_score\n",
    "from numpy import mean\n",
    "from numpy import std\n",
    "\n",
    "#Other\n",
    "import psycopg2 as pg\n",
    "from nbformat import current\n",
    "import itertools as it\n",
    "import io\n",
    "import os\n",
    "import sys\n",
    "import time\n",
    "from scipy.sparse import lil_matrix\n",
    "import boto3\n",
    "import json\n",
    "import sagemaker.amazon.common as smac\n",
    "from sagemaker.predictor import json_deserializer"
   ]
  },
  {
   "cell_type": "code",
   "execution_count": 94,
   "metadata": {},
   "outputs": [],
   "source": [
    "# plot aesthetics\n",
    "sns.set(color_codes=True)\n",
    "sns.set_context('paper')\n",
    "five_thirty_eight = [\"#30a2da\", \"#fc4f30\", \"#e5ae38\", \"#6d904f\", \"#8b8b8b\",]\n",
    "sns.set_palette(five_thirty_eight)\n",
    "\n",
    "%matplotlib inline"
   ]
  },
  {
   "cell_type": "markdown",
   "metadata": {},
   "source": [
    "## Chapter 2: <a class=\"anchor\" id=\"chapter2\"></a> Data"
   ]
  },
  {
   "cell_type": "markdown",
   "metadata": {},
   "source": [
    "### 2.1  <a class=\"anchor\" id=\"2_1\"></a> Explore"
   ]
  },
  {
   "cell_type": "code",
   "execution_count": 95,
   "metadata": {},
   "outputs": [
    {
     "name": "stderr",
     "output_type": "stream",
     "text": [
      "/usr/local/lib/python3.9/site-packages/pandas/io/sql.py:761: UserWarning: pandas only support SQLAlchemy connectable(engine/connection) ordatabase string URI or sqlite3 DBAPI2 connectionother DBAPI2 objects are not tested, please consider using SQLAlchemy\n",
      "  warnings.warn(\n"
     ]
    },
    {
     "data": {
      "text/html": [
       "<div>\n",
       "<style scoped>\n",
       "    .dataframe tbody tr th:only-of-type {\n",
       "        vertical-align: middle;\n",
       "    }\n",
       "\n",
       "    .dataframe tbody tr th {\n",
       "        vertical-align: top;\n",
       "    }\n",
       "\n",
       "    .dataframe thead th {\n",
       "        text-align: right;\n",
       "    }\n",
       "</style>\n",
       "<table border=\"1\" class=\"dataframe\">\n",
       "  <thead>\n",
       "    <tr style=\"text-align: right;\">\n",
       "      <th></th>\n",
       "      <th>collection_name</th>\n",
       "      <th>created_date</th>\n",
       "      <th>collection_status</th>\n",
       "      <th>nft_version</th>\n",
       "      <th>tokens</th>\n",
       "      <th>owner_number</th>\n",
       "      <th>featured</th>\n",
       "      <th>hidden</th>\n",
       "      <th>nsfw</th>\n",
       "    </tr>\n",
       "  </thead>\n",
       "  <tbody>\n",
       "    <tr>\n",
       "      <th>0</th>\n",
       "      <td>Dispatch-Messaging</td>\n",
       "      <td>2022-04-06T21:49:20.343522</td>\n",
       "      <td>not_requested</td>\n",
       "      <td>None</td>\n",
       "      <td>None</td>\n",
       "      <td>7356207.0</td>\n",
       "      <td>False</td>\n",
       "      <td>False</td>\n",
       "      <td>False</td>\n",
       "    </tr>\n",
       "    <tr>\n",
       "      <th>1</th>\n",
       "      <td>test</td>\n",
       "      <td>2022-04-12T17:54:03.412074</td>\n",
       "      <td>not_requested</td>\n",
       "      <td>3.0</td>\n",
       "      <td>1</td>\n",
       "      <td>3050053.0</td>\n",
       "      <td>False</td>\n",
       "      <td>False</td>\n",
       "      <td>False</td>\n",
       "    </tr>\n",
       "    <tr>\n",
       "      <th>2</th>\n",
       "      <td>3ASTER EGGZ</td>\n",
       "      <td>2022-04-12T17:49:14.605766</td>\n",
       "      <td>not_requested</td>\n",
       "      <td>None</td>\n",
       "      <td>0</td>\n",
       "      <td>7471608.0</td>\n",
       "      <td>False</td>\n",
       "      <td>False</td>\n",
       "      <td>False</td>\n",
       "    </tr>\n",
       "    <tr>\n",
       "      <th>3</th>\n",
       "      <td>Testv2chib2</td>\n",
       "      <td>2022-04-12T17:51:35.428359</td>\n",
       "      <td>not_requested</td>\n",
       "      <td>None</td>\n",
       "      <td>0</td>\n",
       "      <td>5909669.0</td>\n",
       "      <td>False</td>\n",
       "      <td>False</td>\n",
       "      <td>False</td>\n",
       "    </tr>\n",
       "    <tr>\n",
       "      <th>4</th>\n",
       "      <td>Test Model 4</td>\n",
       "      <td>2022-04-12T17:50:33.114878</td>\n",
       "      <td>not_requested</td>\n",
       "      <td>3.0</td>\n",
       "      <td>None</td>\n",
       "      <td>7396100.0</td>\n",
       "      <td>False</td>\n",
       "      <td>False</td>\n",
       "      <td>False</td>\n",
       "    </tr>\n",
       "  </tbody>\n",
       "</table>\n",
       "</div>"
      ],
      "text/plain": [
       "      collection_name                created_date collection_status  \\\n",
       "0  Dispatch-Messaging  2022-04-06T21:49:20.343522     not_requested   \n",
       "1                test  2022-04-12T17:54:03.412074     not_requested   \n",
       "2         3ASTER EGGZ  2022-04-12T17:49:14.605766     not_requested   \n",
       "3         Testv2chib2  2022-04-12T17:51:35.428359     not_requested   \n",
       "4        Test Model 4  2022-04-12T17:50:33.114878     not_requested   \n",
       "\n",
       "  nft_version tokens  owner_number  featured  hidden   nsfw  \n",
       "0        None   None     7356207.0     False   False  False  \n",
       "1         3.0      1     3050053.0     False   False  False  \n",
       "2        None      0     7471608.0     False   False  False  \n",
       "3        None      0     5909669.0     False   False  False  \n",
       "4         3.0   None     7396100.0     False   False  False  "
      ]
     },
     "execution_count": 95,
     "metadata": {},
     "output_type": "execute_result"
    },
    {
     "data": {
      "text/plain": [
       "7500"
      ]
     },
     "execution_count": 95,
     "metadata": {},
     "output_type": "execute_result"
    }
   ],
   "source": [
    "engine = pg.connect(\"dbname='opensea' user='marfapopova21' host='opensea.c5pkb2dzarva.us-west-2.rds.amazonaws.com' port='5432' password='qwerty123'\")\n",
    "df1 = pd.read_sql('select * from nfts.collections', con=engine)\n",
    "df1 = df1.dropna(how='all', axis=1)\n",
    "df1 = df1.dropna(how='all')\n",
    "df1.head()\n",
    "len(df1)"
   ]
  },
  {
   "cell_type": "code",
   "execution_count": 96,
   "metadata": {},
   "outputs": [
    {
     "name": "stderr",
     "output_type": "stream",
     "text": [
      "/usr/local/lib/python3.9/site-packages/pandas/io/sql.py:761: UserWarning: pandas only support SQLAlchemy connectable(engine/connection) ordatabase string URI or sqlite3 DBAPI2 connectionother DBAPI2 objects are not tested, please consider using SQLAlchemy\n",
      "  warnings.warn(\n"
     ]
    },
    {
     "data": {
      "text/html": [
       "<div>\n",
       "<style scoped>\n",
       "    .dataframe tbody tr th:only-of-type {\n",
       "        vertical-align: middle;\n",
       "    }\n",
       "\n",
       "    .dataframe tbody tr th {\n",
       "        vertical-align: top;\n",
       "    }\n",
       "\n",
       "    .dataframe thead th {\n",
       "        text-align: right;\n",
       "    }\n",
       "</style>\n",
       "<table border=\"1\" class=\"dataframe\">\n",
       "  <thead>\n",
       "    <tr style=\"text-align: right;\">\n",
       "      <th></th>\n",
       "      <th>collection_name</th>\n",
       "      <th>asset_contract_type</th>\n",
       "      <th>require_email</th>\n",
       "      <th>day_avg_price</th>\n",
       "      <th>week_avg_price</th>\n",
       "      <th>month_avg_price</th>\n",
       "      <th>total_volume</th>\n",
       "      <th>total_sales</th>\n",
       "      <th>total_supply</th>\n",
       "      <th>max_price</th>\n",
       "      <th>min_price</th>\n",
       "      <th>average_price</th>\n",
       "      <th>only_proxied_transfers</th>\n",
       "      <th>is_subject_to_whitelist</th>\n",
       "      <th>opensea_buyer_fee_basis_points</th>\n",
       "      <th>opensea_seller_fee_basis_points</th>\n",
       "    </tr>\n",
       "  </thead>\n",
       "  <tbody>\n",
       "    <tr>\n",
       "      <th>0</th>\n",
       "      <td>Dispatch-Messaging</td>\n",
       "      <td>semi-fungible</td>\n",
       "      <td>False</td>\n",
       "      <td>0.0</td>\n",
       "      <td>0.0</td>\n",
       "      <td>0.0</td>\n",
       "      <td>0.0</td>\n",
       "      <td>0.0</td>\n",
       "      <td>1.0</td>\n",
       "      <td>0.0</td>\n",
       "      <td>0.0</td>\n",
       "      <td>0.0</td>\n",
       "      <td>False</td>\n",
       "      <td>False</td>\n",
       "      <td>0</td>\n",
       "      <td>250</td>\n",
       "    </tr>\n",
       "    <tr>\n",
       "      <th>1</th>\n",
       "      <td>test</td>\n",
       "      <td>non-fungible</td>\n",
       "      <td>False</td>\n",
       "      <td>0.0</td>\n",
       "      <td>0.0</td>\n",
       "      <td>0.0</td>\n",
       "      <td>0.0</td>\n",
       "      <td>0.0</td>\n",
       "      <td>1.0</td>\n",
       "      <td>0.0</td>\n",
       "      <td>0.0</td>\n",
       "      <td>0.0</td>\n",
       "      <td>False</td>\n",
       "      <td>False</td>\n",
       "      <td>0</td>\n",
       "      <td>250</td>\n",
       "    </tr>\n",
       "    <tr>\n",
       "      <th>2</th>\n",
       "      <td>3ASTER EGGZ</td>\n",
       "      <td>non-fungible</td>\n",
       "      <td>False</td>\n",
       "      <td>0.0</td>\n",
       "      <td>0.0</td>\n",
       "      <td>0.0</td>\n",
       "      <td>0.0</td>\n",
       "      <td>0.0</td>\n",
       "      <td>2.0</td>\n",
       "      <td>0.0</td>\n",
       "      <td>0.0</td>\n",
       "      <td>0.0</td>\n",
       "      <td>False</td>\n",
       "      <td>False</td>\n",
       "      <td>0</td>\n",
       "      <td>250</td>\n",
       "    </tr>\n",
       "    <tr>\n",
       "      <th>3</th>\n",
       "      <td>Testv2chib2</td>\n",
       "      <td>non-fungible</td>\n",
       "      <td>False</td>\n",
       "      <td>0.0</td>\n",
       "      <td>0.0</td>\n",
       "      <td>0.0</td>\n",
       "      <td>0.0</td>\n",
       "      <td>0.0</td>\n",
       "      <td>50.0</td>\n",
       "      <td>0.0</td>\n",
       "      <td>0.0</td>\n",
       "      <td>0.0</td>\n",
       "      <td>False</td>\n",
       "      <td>False</td>\n",
       "      <td>0</td>\n",
       "      <td>250</td>\n",
       "    </tr>\n",
       "    <tr>\n",
       "      <th>4</th>\n",
       "      <td>Test Model 4</td>\n",
       "      <td>non-fungible</td>\n",
       "      <td>False</td>\n",
       "      <td>0.0</td>\n",
       "      <td>0.0</td>\n",
       "      <td>0.0</td>\n",
       "      <td>0.0</td>\n",
       "      <td>0.0</td>\n",
       "      <td>1.0</td>\n",
       "      <td>0.0</td>\n",
       "      <td>0.0</td>\n",
       "      <td>0.0</td>\n",
       "      <td>False</td>\n",
       "      <td>False</td>\n",
       "      <td>0</td>\n",
       "      <td>250</td>\n",
       "    </tr>\n",
       "  </tbody>\n",
       "</table>\n",
       "</div>"
      ],
      "text/plain": [
       "      collection_name asset_contract_type  require_email  day_avg_price  \\\n",
       "0  Dispatch-Messaging       semi-fungible          False            0.0   \n",
       "1                test        non-fungible          False            0.0   \n",
       "2         3ASTER EGGZ        non-fungible          False            0.0   \n",
       "3         Testv2chib2        non-fungible          False            0.0   \n",
       "4        Test Model 4        non-fungible          False            0.0   \n",
       "\n",
       "   week_avg_price  month_avg_price  total_volume  total_sales  total_supply  \\\n",
       "0             0.0              0.0           0.0          0.0           1.0   \n",
       "1             0.0              0.0           0.0          0.0           1.0   \n",
       "2             0.0              0.0           0.0          0.0           2.0   \n",
       "3             0.0              0.0           0.0          0.0          50.0   \n",
       "4             0.0              0.0           0.0          0.0           1.0   \n",
       "\n",
       "   max_price  min_price  average_price  only_proxied_transfers  \\\n",
       "0        0.0        0.0            0.0                   False   \n",
       "1        0.0        0.0            0.0                   False   \n",
       "2        0.0        0.0            0.0                   False   \n",
       "3        0.0        0.0            0.0                   False   \n",
       "4        0.0        0.0            0.0                   False   \n",
       "\n",
       "   is_subject_to_whitelist opensea_buyer_fee_basis_points  \\\n",
       "0                    False                              0   \n",
       "1                    False                              0   \n",
       "2                    False                              0   \n",
       "3                    False                              0   \n",
       "4                    False                              0   \n",
       "\n",
       "  opensea_seller_fee_basis_points  \n",
       "0                             250  \n",
       "1                             250  \n",
       "2                             250  \n",
       "3                             250  \n",
       "4                             250  "
      ]
     },
     "execution_count": 96,
     "metadata": {},
     "output_type": "execute_result"
    },
    {
     "data": {
      "text/plain": [
       "7500"
      ]
     },
     "execution_count": 96,
     "metadata": {},
     "output_type": "execute_result"
    }
   ],
   "source": [
    "engine = pg.connect(\"dbname='opensea' user='marfapopova21' host='opensea.c5pkb2dzarva.us-west-2.rds.amazonaws.com' port='5432' password='qwerty123'\")\n",
    "df2 = pd.read_sql('select * from nfts.finances', con=engine)\n",
    "df2 = df2.dropna(how='all', axis=1)\n",
    "df2 = df2.dropna(how='all')\n",
    "df2.head()\n",
    "len(df2)"
   ]
  },
  {
   "cell_type": "code",
   "execution_count": 97,
   "metadata": {},
   "outputs": [
    {
     "data": {
      "text/html": [
       "<div>\n",
       "<style scoped>\n",
       "    .dataframe tbody tr th:only-of-type {\n",
       "        vertical-align: middle;\n",
       "    }\n",
       "\n",
       "    .dataframe tbody tr th {\n",
       "        vertical-align: top;\n",
       "    }\n",
       "\n",
       "    .dataframe thead th {\n",
       "        text-align: right;\n",
       "    }\n",
       "</style>\n",
       "<table border=\"1\" class=\"dataframe\">\n",
       "  <thead>\n",
       "    <tr style=\"text-align: right;\">\n",
       "      <th></th>\n",
       "      <th>collection_name</th>\n",
       "      <th>created_date</th>\n",
       "      <th>collection_status</th>\n",
       "      <th>nft_version</th>\n",
       "      <th>tokens</th>\n",
       "      <th>owner_number</th>\n",
       "      <th>featured</th>\n",
       "      <th>hidden</th>\n",
       "      <th>nsfw</th>\n",
       "      <th>asset_contract_type</th>\n",
       "      <th>require_email</th>\n",
       "      <th>day_avg_price</th>\n",
       "      <th>week_avg_price</th>\n",
       "      <th>month_avg_price</th>\n",
       "      <th>total_volume</th>\n",
       "      <th>total_sales</th>\n",
       "      <th>total_supply</th>\n",
       "      <th>max_price</th>\n",
       "      <th>min_price</th>\n",
       "      <th>average_price</th>\n",
       "      <th>only_proxied_transfers</th>\n",
       "      <th>is_subject_to_whitelist</th>\n",
       "      <th>opensea_buyer_fee_basis_points</th>\n",
       "      <th>opensea_seller_fee_basis_points</th>\n",
       "    </tr>\n",
       "  </thead>\n",
       "  <tbody>\n",
       "    <tr>\n",
       "      <th>0</th>\n",
       "      <td>Dispatch-Messaging</td>\n",
       "      <td>2022-04-06T21:49:20.343522</td>\n",
       "      <td>not_requested</td>\n",
       "      <td>None</td>\n",
       "      <td>None</td>\n",
       "      <td>7356207.0</td>\n",
       "      <td>False</td>\n",
       "      <td>False</td>\n",
       "      <td>False</td>\n",
       "      <td>semi-fungible</td>\n",
       "      <td>False</td>\n",
       "      <td>0.0</td>\n",
       "      <td>0.0</td>\n",
       "      <td>0.0</td>\n",
       "      <td>0.0</td>\n",
       "      <td>0.0</td>\n",
       "      <td>1.0</td>\n",
       "      <td>0.0</td>\n",
       "      <td>0.0</td>\n",
       "      <td>0.0</td>\n",
       "      <td>False</td>\n",
       "      <td>False</td>\n",
       "      <td>0</td>\n",
       "      <td>250</td>\n",
       "    </tr>\n",
       "    <tr>\n",
       "      <th>1</th>\n",
       "      <td>Dispatch-Messaging</td>\n",
       "      <td>2022-04-06T21:49:20.343522</td>\n",
       "      <td>not_requested</td>\n",
       "      <td>None</td>\n",
       "      <td>None</td>\n",
       "      <td>7356207.0</td>\n",
       "      <td>False</td>\n",
       "      <td>False</td>\n",
       "      <td>False</td>\n",
       "      <td>semi-fungible</td>\n",
       "      <td>False</td>\n",
       "      <td>0.0</td>\n",
       "      <td>0.0</td>\n",
       "      <td>0.0</td>\n",
       "      <td>0.0</td>\n",
       "      <td>0.0</td>\n",
       "      <td>34.0</td>\n",
       "      <td>0.0</td>\n",
       "      <td>0.0</td>\n",
       "      <td>0.0</td>\n",
       "      <td>False</td>\n",
       "      <td>False</td>\n",
       "      <td>0</td>\n",
       "      <td>250</td>\n",
       "    </tr>\n",
       "    <tr>\n",
       "      <th>2</th>\n",
       "      <td>Dispatch-Messaging</td>\n",
       "      <td>2022-04-11T12:25:09.603872</td>\n",
       "      <td>not_requested</td>\n",
       "      <td>None</td>\n",
       "      <td>None</td>\n",
       "      <td>7461686.0</td>\n",
       "      <td>False</td>\n",
       "      <td>False</td>\n",
       "      <td>False</td>\n",
       "      <td>semi-fungible</td>\n",
       "      <td>False</td>\n",
       "      <td>0.0</td>\n",
       "      <td>0.0</td>\n",
       "      <td>0.0</td>\n",
       "      <td>0.0</td>\n",
       "      <td>0.0</td>\n",
       "      <td>1.0</td>\n",
       "      <td>0.0</td>\n",
       "      <td>0.0</td>\n",
       "      <td>0.0</td>\n",
       "      <td>False</td>\n",
       "      <td>False</td>\n",
       "      <td>0</td>\n",
       "      <td>250</td>\n",
       "    </tr>\n",
       "    <tr>\n",
       "      <th>3</th>\n",
       "      <td>Dispatch-Messaging</td>\n",
       "      <td>2022-04-11T12:25:09.603872</td>\n",
       "      <td>not_requested</td>\n",
       "      <td>None</td>\n",
       "      <td>None</td>\n",
       "      <td>7461686.0</td>\n",
       "      <td>False</td>\n",
       "      <td>False</td>\n",
       "      <td>False</td>\n",
       "      <td>semi-fungible</td>\n",
       "      <td>False</td>\n",
       "      <td>0.0</td>\n",
       "      <td>0.0</td>\n",
       "      <td>0.0</td>\n",
       "      <td>0.0</td>\n",
       "      <td>0.0</td>\n",
       "      <td>34.0</td>\n",
       "      <td>0.0</td>\n",
       "      <td>0.0</td>\n",
       "      <td>0.0</td>\n",
       "      <td>False</td>\n",
       "      <td>False</td>\n",
       "      <td>0</td>\n",
       "      <td>250</td>\n",
       "    </tr>\n",
       "    <tr>\n",
       "      <th>4</th>\n",
       "      <td>test</td>\n",
       "      <td>2022-04-12T17:54:03.412074</td>\n",
       "      <td>not_requested</td>\n",
       "      <td>3.0</td>\n",
       "      <td>1</td>\n",
       "      <td>3050053.0</td>\n",
       "      <td>False</td>\n",
       "      <td>False</td>\n",
       "      <td>False</td>\n",
       "      <td>non-fungible</td>\n",
       "      <td>False</td>\n",
       "      <td>0.0</td>\n",
       "      <td>0.0</td>\n",
       "      <td>0.0</td>\n",
       "      <td>0.0</td>\n",
       "      <td>0.0</td>\n",
       "      <td>1.0</td>\n",
       "      <td>0.0</td>\n",
       "      <td>0.0</td>\n",
       "      <td>0.0</td>\n",
       "      <td>False</td>\n",
       "      <td>False</td>\n",
       "      <td>0</td>\n",
       "      <td>250</td>\n",
       "    </tr>\n",
       "  </tbody>\n",
       "</table>\n",
       "</div>"
      ],
      "text/plain": [
       "      collection_name                created_date collection_status  \\\n",
       "0  Dispatch-Messaging  2022-04-06T21:49:20.343522     not_requested   \n",
       "1  Dispatch-Messaging  2022-04-06T21:49:20.343522     not_requested   \n",
       "2  Dispatch-Messaging  2022-04-11T12:25:09.603872     not_requested   \n",
       "3  Dispatch-Messaging  2022-04-11T12:25:09.603872     not_requested   \n",
       "4                test  2022-04-12T17:54:03.412074     not_requested   \n",
       "\n",
       "  nft_version tokens  owner_number  featured  hidden   nsfw  \\\n",
       "0        None   None     7356207.0     False   False  False   \n",
       "1        None   None     7356207.0     False   False  False   \n",
       "2        None   None     7461686.0     False   False  False   \n",
       "3        None   None     7461686.0     False   False  False   \n",
       "4         3.0      1     3050053.0     False   False  False   \n",
       "\n",
       "  asset_contract_type  require_email  day_avg_price  week_avg_price  \\\n",
       "0       semi-fungible          False            0.0             0.0   \n",
       "1       semi-fungible          False            0.0             0.0   \n",
       "2       semi-fungible          False            0.0             0.0   \n",
       "3       semi-fungible          False            0.0             0.0   \n",
       "4        non-fungible          False            0.0             0.0   \n",
       "\n",
       "   month_avg_price  total_volume  total_sales  total_supply  max_price  \\\n",
       "0              0.0           0.0          0.0           1.0        0.0   \n",
       "1              0.0           0.0          0.0          34.0        0.0   \n",
       "2              0.0           0.0          0.0           1.0        0.0   \n",
       "3              0.0           0.0          0.0          34.0        0.0   \n",
       "4              0.0           0.0          0.0           1.0        0.0   \n",
       "\n",
       "   min_price  average_price  only_proxied_transfers  is_subject_to_whitelist  \\\n",
       "0        0.0            0.0                   False                    False   \n",
       "1        0.0            0.0                   False                    False   \n",
       "2        0.0            0.0                   False                    False   \n",
       "3        0.0            0.0                   False                    False   \n",
       "4        0.0            0.0                   False                    False   \n",
       "\n",
       "  opensea_buyer_fee_basis_points opensea_seller_fee_basis_points  \n",
       "0                              0                             250  \n",
       "1                              0                             250  \n",
       "2                              0                             250  \n",
       "3                              0                             250  \n",
       "4                              0                             250  "
      ]
     },
     "execution_count": 97,
     "metadata": {},
     "output_type": "execute_result"
    },
    {
     "data": {
      "text/plain": [
       "596130"
      ]
     },
     "execution_count": 97,
     "metadata": {},
     "output_type": "execute_result"
    }
   ],
   "source": [
    "# Merge the 2 dataframes on collection name\n",
    "df = pd.merge(df1, df2, on = 'collection_name')\n",
    "df.head()\n",
    "len(df)"
   ]
  },
  {
   "cell_type": "code",
   "execution_count": 98,
   "metadata": {},
   "outputs": [
    {
     "data": {
      "text/plain": [
       "Index(['collection_name', 'created_date', 'collection_status', 'nft_version',\n",
       "       'tokens', 'owner_number', 'featured', 'hidden', 'nsfw',\n",
       "       'asset_contract_type', 'require_email', 'day_avg_price',\n",
       "       'week_avg_price', 'month_avg_price', 'total_volume', 'total_sales',\n",
       "       'total_supply', 'max_price', 'min_price', 'average_price',\n",
       "       'only_proxied_transfers', 'is_subject_to_whitelist',\n",
       "       'opensea_buyer_fee_basis_points', 'opensea_seller_fee_basis_points'],\n",
       "      dtype='object')"
      ]
     },
     "execution_count": 98,
     "metadata": {},
     "output_type": "execute_result"
    }
   ],
   "source": [
    "df.columns"
   ]
  },
  {
   "cell_type": "code",
   "execution_count": 99,
   "metadata": {},
   "outputs": [
    {
     "data": {
      "text/plain": [
       "596130"
      ]
     },
     "execution_count": 99,
     "metadata": {},
     "output_type": "execute_result"
    }
   ],
   "source": [
    "df = df.drop(['owner_number', 'max_price', 'min_price'], axis=1)\n",
    "len(df)"
   ]
  },
  {
   "cell_type": "code",
   "execution_count": 100,
   "metadata": {},
   "outputs": [
    {
     "name": "stdout",
     "output_type": "stream",
     "text": [
      "<class 'pandas.core.frame.DataFrame'>\n",
      "Int64Index: 596130 entries, 0 to 596129\n",
      "Data columns (total 21 columns):\n",
      " #   Column                           Non-Null Count   Dtype  \n",
      "---  ------                           --------------   -----  \n",
      " 0   collection_name                  455505 non-null  object \n",
      " 1   created_date                     455505 non-null  object \n",
      " 2   collection_status                596130 non-null  object \n",
      " 3   nft_version                      84029 non-null   object \n",
      " 4   tokens                           80345 non-null   object \n",
      " 5   featured                         596130 non-null  bool   \n",
      " 6   hidden                           596130 non-null  bool   \n",
      " 7   nsfw                             596130 non-null  bool   \n",
      " 8   asset_contract_type              455505 non-null  object \n",
      " 9   require_email                    596130 non-null  bool   \n",
      " 10  day_avg_price                    596130 non-null  float64\n",
      " 11  week_avg_price                   596130 non-null  float64\n",
      " 12  month_avg_price                  596130 non-null  float64\n",
      " 13  total_volume                     596130 non-null  float64\n",
      " 14  total_sales                      596130 non-null  float64\n",
      " 15  total_supply                     596130 non-null  float64\n",
      " 16  average_price                    596130 non-null  float64\n",
      " 17  only_proxied_transfers           596130 non-null  bool   \n",
      " 18  is_subject_to_whitelist          596130 non-null  bool   \n",
      " 19  opensea_buyer_fee_basis_points   596130 non-null  object \n",
      " 20  opensea_seller_fee_basis_points  596130 non-null  object \n",
      "dtypes: bool(6), float64(7), object(8)\n",
      "memory usage: 76.2+ MB\n"
     ]
    }
   ],
   "source": [
    "df.info()"
   ]
  },
  {
   "cell_type": "code",
   "execution_count": 101,
   "metadata": {},
   "outputs": [
    {
     "data": {
      "text/plain": [
       "3314"
      ]
     },
     "execution_count": 101,
     "metadata": {},
     "output_type": "execute_result"
    }
   ],
   "source": [
    "df['collection_name'].nunique()"
   ]
  },
  {
   "cell_type": "code",
   "execution_count": 102,
   "metadata": {},
   "outputs": [
    {
     "data": {
      "text/plain": [
       "Unidentified contract    326041\n",
       "CryptoPunks               26244\n",
       "Pawn Tickets              23409\n",
       "SquareNFT                 14641\n",
       "Pawn Loans                 9025\n",
       "                          ...  \n",
       "test collection               1\n",
       "Test NFT CORE                 1\n",
       "Lord Ganesha                  1\n",
       "OneCDNFT                      1\n",
       "TheImaginaryOnesNft           1\n",
       "Name: collection_name, Length: 3314, dtype: int64"
      ]
     },
     "execution_count": 102,
     "metadata": {},
     "output_type": "execute_result"
    }
   ],
   "source": [
    "df['collection_name'].value_counts(ascending=False)"
   ]
  },
  {
   "cell_type": "code",
   "execution_count": 103,
   "metadata": {},
   "outputs": [
    {
     "data": {
      "text/plain": [
       "CryptoPunks            26244\n",
       "Pawn Tickets           23409\n",
       "SquareNFT              14641\n",
       "Pawn Loans              9025\n",
       "UTPN                    7396\n",
       "                       ...  \n",
       "test collection            1\n",
       "Test NFT CORE              1\n",
       "Lord Ganesha               1\n",
       "OneCDNFT                   1\n",
       "TheImaginaryOnesNft        1\n",
       "Name: collection_name, Length: 3313, dtype: int64"
      ]
     },
     "execution_count": 103,
     "metadata": {},
     "output_type": "execute_result"
    }
   ],
   "source": [
    "df['collection_name'].value_counts().loc[lambda x : x<326041] "
   ]
  },
  {
   "cell_type": "code",
   "execution_count": 104,
   "metadata": {},
   "outputs": [
    {
     "data": {
      "text/plain": [
       "270089"
      ]
     },
     "execution_count": 104,
     "metadata": {},
     "output_type": "execute_result"
    }
   ],
   "source": [
    "# Difference between the number of all collection records in the dataset and unnamed ones\n",
    "596130 - 326041"
   ]
  },
  {
   "cell_type": "markdown",
   "metadata": {},
   "source": [
    "Collections named \"Unidentified contract\" mean that their creators did not add public variable string. Hence, there are only 3313 unique collection names in the dataset, that contain 270089 labelled records."
   ]
  },
  {
   "cell_type": "markdown",
   "metadata": {},
   "source": [
    "### 2.2  <a class=\"anchor\" id=\"2_2\"></a> Clean"
   ]
  },
  {
   "cell_type": "code",
   "execution_count": 105,
   "metadata": {},
   "outputs": [
    {
     "name": "stdout",
     "output_type": "stream",
     "text": [
      "Number of records after removing duplicates =      41681\n"
     ]
    }
   ],
   "source": [
    "df = df.drop_duplicates()\n",
    "print(\"Number of records after removing duplicates = {:10d}\".format(df.shape[0]))"
   ]
  },
  {
   "cell_type": "code",
   "execution_count": 106,
   "metadata": {},
   "outputs": [
    {
     "name": "stdout",
     "output_type": "stream",
     "text": [
      "object     8\n",
      "float64    7\n",
      "bool       6\n",
      "dtype: int64\n"
     ]
    }
   ],
   "source": [
    "# Show number of all existing data types in the dataframe\n",
    "print(df.dtypes.astype(str).value_counts())"
   ]
  },
  {
   "cell_type": "code",
   "execution_count": 107,
   "metadata": {},
   "outputs": [
    {
     "data": {
      "text/html": [
       "<div>\n",
       "<style scoped>\n",
       "    .dataframe tbody tr th:only-of-type {\n",
       "        vertical-align: middle;\n",
       "    }\n",
       "\n",
       "    .dataframe tbody tr th {\n",
       "        vertical-align: top;\n",
       "    }\n",
       "\n",
       "    .dataframe thead th {\n",
       "        text-align: right;\n",
       "    }\n",
       "</style>\n",
       "<table border=\"1\" class=\"dataframe\">\n",
       "  <thead>\n",
       "    <tr style=\"text-align: right;\">\n",
       "      <th></th>\n",
       "      <th>collection_name</th>\n",
       "      <th>created_date</th>\n",
       "      <th>collection_status</th>\n",
       "      <th>nft_version</th>\n",
       "      <th>tokens</th>\n",
       "      <th>asset_contract_type</th>\n",
       "      <th>opensea_buyer_fee_basis_points</th>\n",
       "      <th>opensea_seller_fee_basis_points</th>\n",
       "    </tr>\n",
       "  </thead>\n",
       "  <tbody>\n",
       "    <tr>\n",
       "      <th>0</th>\n",
       "      <td>Dispatch-Messaging</td>\n",
       "      <td>2022-04-06T21:49:20.343522</td>\n",
       "      <td>not_requested</td>\n",
       "      <td>None</td>\n",
       "      <td>None</td>\n",
       "      <td>semi-fungible</td>\n",
       "      <td>0</td>\n",
       "      <td>250</td>\n",
       "    </tr>\n",
       "    <tr>\n",
       "      <th>1</th>\n",
       "      <td>Dispatch-Messaging</td>\n",
       "      <td>2022-04-06T21:49:20.343522</td>\n",
       "      <td>not_requested</td>\n",
       "      <td>None</td>\n",
       "      <td>None</td>\n",
       "      <td>semi-fungible</td>\n",
       "      <td>0</td>\n",
       "      <td>250</td>\n",
       "    </tr>\n",
       "    <tr>\n",
       "      <th>2</th>\n",
       "      <td>Dispatch-Messaging</td>\n",
       "      <td>2022-04-11T12:25:09.603872</td>\n",
       "      <td>not_requested</td>\n",
       "      <td>None</td>\n",
       "      <td>None</td>\n",
       "      <td>semi-fungible</td>\n",
       "      <td>0</td>\n",
       "      <td>250</td>\n",
       "    </tr>\n",
       "    <tr>\n",
       "      <th>3</th>\n",
       "      <td>Dispatch-Messaging</td>\n",
       "      <td>2022-04-11T12:25:09.603872</td>\n",
       "      <td>not_requested</td>\n",
       "      <td>None</td>\n",
       "      <td>None</td>\n",
       "      <td>semi-fungible</td>\n",
       "      <td>0</td>\n",
       "      <td>250</td>\n",
       "    </tr>\n",
       "    <tr>\n",
       "      <th>4</th>\n",
       "      <td>test</td>\n",
       "      <td>2022-04-12T17:54:03.412074</td>\n",
       "      <td>not_requested</td>\n",
       "      <td>3.0</td>\n",
       "      <td>1</td>\n",
       "      <td>non-fungible</td>\n",
       "      <td>0</td>\n",
       "      <td>250</td>\n",
       "    </tr>\n",
       "    <tr>\n",
       "      <th>...</th>\n",
       "      <td>...</td>\n",
       "      <td>...</td>\n",
       "      <td>...</td>\n",
       "      <td>...</td>\n",
       "      <td>...</td>\n",
       "      <td>...</td>\n",
       "      <td>...</td>\n",
       "      <td>...</td>\n",
       "    </tr>\n",
       "    <tr>\n",
       "      <th>596125</th>\n",
       "      <td>AmazingToyMachine</td>\n",
       "      <td>2022-04-10T22:20:19.642343</td>\n",
       "      <td>not_requested</td>\n",
       "      <td>3.0</td>\n",
       "      <td>0</td>\n",
       "      <td>non-fungible</td>\n",
       "      <td>0</td>\n",
       "      <td>250</td>\n",
       "    </tr>\n",
       "    <tr>\n",
       "      <th>596126</th>\n",
       "      <td>SR49</td>\n",
       "      <td>2022-04-10T22:27:58.964315</td>\n",
       "      <td>not_requested</td>\n",
       "      <td>3.0</td>\n",
       "      <td>0</td>\n",
       "      <td>non-fungible</td>\n",
       "      <td>0</td>\n",
       "      <td>250</td>\n",
       "    </tr>\n",
       "    <tr>\n",
       "      <th>596127</th>\n",
       "      <td>Plunge2PO</td>\n",
       "      <td>2022-04-10T22:26:58.976898</td>\n",
       "      <td>not_requested</td>\n",
       "      <td>3.0</td>\n",
       "      <td>None</td>\n",
       "      <td>non-fungible</td>\n",
       "      <td>0</td>\n",
       "      <td>250</td>\n",
       "    </tr>\n",
       "    <tr>\n",
       "      <th>596128</th>\n",
       "      <td>Cheese</td>\n",
       "      <td>2022-04-10T22:26:03.694412</td>\n",
       "      <td>not_requested</td>\n",
       "      <td>3.0</td>\n",
       "      <td>2</td>\n",
       "      <td>non-fungible</td>\n",
       "      <td>0</td>\n",
       "      <td>250</td>\n",
       "    </tr>\n",
       "    <tr>\n",
       "      <th>596129</th>\n",
       "      <td>TheImaginaryOnesNft</td>\n",
       "      <td>2022-04-10T22:25:38.740942</td>\n",
       "      <td>not_requested</td>\n",
       "      <td>None</td>\n",
       "      <td>5</td>\n",
       "      <td>non-fungible</td>\n",
       "      <td>0</td>\n",
       "      <td>250</td>\n",
       "    </tr>\n",
       "  </tbody>\n",
       "</table>\n",
       "<p>41681 rows × 8 columns</p>\n",
       "</div>"
      ],
      "text/plain": [
       "            collection_name                created_date collection_status  \\\n",
       "0        Dispatch-Messaging  2022-04-06T21:49:20.343522     not_requested   \n",
       "1        Dispatch-Messaging  2022-04-06T21:49:20.343522     not_requested   \n",
       "2        Dispatch-Messaging  2022-04-11T12:25:09.603872     not_requested   \n",
       "3        Dispatch-Messaging  2022-04-11T12:25:09.603872     not_requested   \n",
       "4                      test  2022-04-12T17:54:03.412074     not_requested   \n",
       "...                     ...                         ...               ...   \n",
       "596125    AmazingToyMachine  2022-04-10T22:20:19.642343     not_requested   \n",
       "596126                 SR49  2022-04-10T22:27:58.964315     not_requested   \n",
       "596127            Plunge2PO  2022-04-10T22:26:58.976898     not_requested   \n",
       "596128               Cheese  2022-04-10T22:26:03.694412     not_requested   \n",
       "596129  TheImaginaryOnesNft  2022-04-10T22:25:38.740942     not_requested   \n",
       "\n",
       "       nft_version tokens asset_contract_type opensea_buyer_fee_basis_points  \\\n",
       "0             None   None       semi-fungible                              0   \n",
       "1             None   None       semi-fungible                              0   \n",
       "2             None   None       semi-fungible                              0   \n",
       "3             None   None       semi-fungible                              0   \n",
       "4              3.0      1        non-fungible                              0   \n",
       "...            ...    ...                 ...                            ...   \n",
       "596125         3.0      0        non-fungible                              0   \n",
       "596126         3.0      0        non-fungible                              0   \n",
       "596127         3.0   None        non-fungible                              0   \n",
       "596128         3.0      2        non-fungible                              0   \n",
       "596129        None      5        non-fungible                              0   \n",
       "\n",
       "       opensea_seller_fee_basis_points  \n",
       "0                                  250  \n",
       "1                                  250  \n",
       "2                                  250  \n",
       "3                                  250  \n",
       "4                                  250  \n",
       "...                                ...  \n",
       "596125                             250  \n",
       "596126                             250  \n",
       "596127                             250  \n",
       "596128                             250  \n",
       "596129                             250  \n",
       "\n",
       "[41681 rows x 8 columns]"
      ]
     },
     "execution_count": 107,
     "metadata": {},
     "output_type": "execute_result"
    }
   ],
   "source": [
    "df.select_dtypes(include='object')"
   ]
  },
  {
   "cell_type": "code",
   "execution_count": 108,
   "metadata": {},
   "outputs": [],
   "source": [
    "df['created_date'] = pd.to_datetime(df['created_date'])"
   ]
  },
  {
   "cell_type": "code",
   "execution_count": 109,
   "metadata": {},
   "outputs": [
    {
     "data": {
      "text/plain": [
       "0        2022-04-06 21:49:20.343522\n",
       "1        2022-04-06 21:49:20.343522\n",
       "2        2022-04-11 12:25:09.603872\n",
       "3        2022-04-11 12:25:09.603872\n",
       "4        2022-04-12 17:54:03.412074\n",
       "                    ...            \n",
       "596125   2022-04-10 22:20:19.642343\n",
       "596126   2022-04-10 22:27:58.964315\n",
       "596127   2022-04-10 22:26:58.976898\n",
       "596128   2022-04-10 22:26:03.694412\n",
       "596129   2022-04-10 22:25:38.740942\n",
       "Name: created_date, Length: 41681, dtype: datetime64[ns]"
      ]
     },
     "execution_count": 109,
     "metadata": {},
     "output_type": "execute_result"
    }
   ],
   "source": [
    "df['created_date']"
   ]
  },
  {
   "cell_type": "code",
   "execution_count": 110,
   "metadata": {},
   "outputs": [],
   "source": [
    "df['year'] = pd.DatetimeIndex(df['created_date']).year\n",
    "df['month'] = pd.DatetimeIndex(df['created_date']).month"
   ]
  },
  {
   "cell_type": "code",
   "execution_count": 111,
   "metadata": {},
   "outputs": [
    {
     "data": {
      "text/plain": [
       "2022.0    41573\n",
       "Name: year, dtype: int64"
      ]
     },
     "execution_count": 111,
     "metadata": {},
     "output_type": "execute_result"
    }
   ],
   "source": [
    "df['year'].value_counts()"
   ]
  },
  {
   "cell_type": "code",
   "execution_count": 112,
   "metadata": {},
   "outputs": [
    {
     "data": {
      "text/plain": [
       "4.0    41320\n",
       "3.0      250\n",
       "1.0        2\n",
       "2.0        1\n",
       "Name: month, dtype: int64"
      ]
     },
     "execution_count": 112,
     "metadata": {},
     "output_type": "execute_result"
    }
   ],
   "source": [
    "df['month'].value_counts()"
   ]
  },
  {
   "cell_type": "code",
   "execution_count": 113,
   "metadata": {},
   "outputs": [],
   "source": [
    "df.drop(columns = ['year', 'month', 'created_date'], inplace = True)"
   ]
  },
  {
   "cell_type": "code",
   "execution_count": 114,
   "metadata": {},
   "outputs": [
    {
     "data": {
      "text/plain": [
       "0    41681\n",
       "Name: collection_status, dtype: int64"
      ]
     },
     "execution_count": 114,
     "metadata": {},
     "output_type": "execute_result"
    }
   ],
   "source": [
    "df['collection_status'].replace(['not_requested', 'requested', 'approved','verified'], [0,1,2,3], inplace=True)\n",
    "df['collection_status'].value_counts()"
   ]
  },
  {
   "cell_type": "code",
   "execution_count": 115,
   "metadata": {},
   "outputs": [
    {
     "data": {
      "text/plain": [
       "non-fungible     22107\n",
       "semi-fungible    19466\n",
       "Name: asset_contract_type, dtype: int64"
      ]
     },
     "execution_count": 115,
     "metadata": {},
     "output_type": "execute_result"
    }
   ],
   "source": [
    "df['asset_contract_type'].value_counts()"
   ]
  },
  {
   "cell_type": "code",
   "execution_count": 116,
   "metadata": {},
   "outputs": [
    {
     "data": {
      "text/plain": [
       "0.0    22107\n",
       "1.0    19466\n",
       "Name: asset_contract_type, dtype: int64"
      ]
     },
     "execution_count": 116,
     "metadata": {},
     "output_type": "execute_result"
    }
   ],
   "source": [
    "df['asset_contract_type'].replace(['non-fungible', 'semi-fungible'], [0,1], inplace=True)\n",
    "df['asset_contract_type'].value_counts()"
   ]
  },
  {
   "cell_type": "code",
   "execution_count": 117,
   "metadata": {},
   "outputs": [],
   "source": [
    "df = df[df['nft_version'].notna()]\n",
    "df = df[df['tokens'].notna()]\n",
    "\n",
    "try:\n",
    "  df['nft_version'] = df['nft_version'].astype(float)\n",
    "  df['tokens'] = df['tokens'].astype(int)\n",
    "except:\n",
    "  print(\"Something went wrong\")"
   ]
  },
  {
   "cell_type": "code",
   "execution_count": 118,
   "metadata": {},
   "outputs": [],
   "source": [
    "try:\n",
    "  df['opensea_buyer_fee_basis_points'] = df['opensea_buyer_fee_basis_points'].astype(float)\n",
    "  df['opensea_seller_fee_basis_points'] = df['opensea_seller_fee_basis_points'].astype(float)\n",
    "except:\n",
    "  print(\"Something went wrong\")"
   ]
  },
  {
   "cell_type": "code",
   "execution_count": 119,
   "metadata": {},
   "outputs": [
    {
     "data": {
      "text/html": [
       "<div>\n",
       "<style scoped>\n",
       "    .dataframe tbody tr th:only-of-type {\n",
       "        vertical-align: middle;\n",
       "    }\n",
       "\n",
       "    .dataframe tbody tr th {\n",
       "        vertical-align: top;\n",
       "    }\n",
       "\n",
       "    .dataframe thead th {\n",
       "        text-align: right;\n",
       "    }\n",
       "</style>\n",
       "<table border=\"1\" class=\"dataframe\">\n",
       "  <thead>\n",
       "    <tr style=\"text-align: right;\">\n",
       "      <th></th>\n",
       "      <th>collection_name</th>\n",
       "    </tr>\n",
       "  </thead>\n",
       "  <tbody>\n",
       "    <tr>\n",
       "      <th>4</th>\n",
       "      <td>test</td>\n",
       "    </tr>\n",
       "    <tr>\n",
       "      <th>8</th>\n",
       "      <td>test</td>\n",
       "    </tr>\n",
       "    <tr>\n",
       "      <th>10</th>\n",
       "      <td>test</td>\n",
       "    </tr>\n",
       "    <tr>\n",
       "      <th>11</th>\n",
       "      <td>test</td>\n",
       "    </tr>\n",
       "    <tr>\n",
       "      <th>12</th>\n",
       "      <td>test</td>\n",
       "    </tr>\n",
       "    <tr>\n",
       "      <th>...</th>\n",
       "      <td>...</td>\n",
       "    </tr>\n",
       "    <tr>\n",
       "      <th>596119</th>\n",
       "      <td>RESPEK</td>\n",
       "    </tr>\n",
       "    <tr>\n",
       "      <th>596123</th>\n",
       "      <td>Boba</td>\n",
       "    </tr>\n",
       "    <tr>\n",
       "      <th>596125</th>\n",
       "      <td>AmazingToyMachine</td>\n",
       "    </tr>\n",
       "    <tr>\n",
       "      <th>596126</th>\n",
       "      <td>SR49</td>\n",
       "    </tr>\n",
       "    <tr>\n",
       "      <th>596128</th>\n",
       "      <td>Cheese</td>\n",
       "    </tr>\n",
       "  </tbody>\n",
       "</table>\n",
       "<p>7044 rows × 1 columns</p>\n",
       "</div>"
      ],
      "text/plain": [
       "          collection_name\n",
       "4                    test\n",
       "8                    test\n",
       "10                   test\n",
       "11                   test\n",
       "12                   test\n",
       "...                   ...\n",
       "596119             RESPEK\n",
       "596123               Boba\n",
       "596125  AmazingToyMachine\n",
       "596126               SR49\n",
       "596128             Cheese\n",
       "\n",
       "[7044 rows x 1 columns]"
      ]
     },
     "execution_count": 119,
     "metadata": {},
     "output_type": "execute_result"
    },
    {
     "name": "stdout",
     "output_type": "stream",
     "text": [
      "float64    11\n",
      "bool        6\n",
      "int64       2\n",
      "object      1\n",
      "dtype: int64\n"
     ]
    }
   ],
   "source": [
    "df.select_dtypes(include='object')\n",
    "print(df.dtypes.astype(str).value_counts())"
   ]
  },
  {
   "cell_type": "code",
   "execution_count": 120,
   "metadata": {},
   "outputs": [
    {
     "data": {
      "text/html": [
       "<div>\n",
       "<style scoped>\n",
       "    .dataframe tbody tr th:only-of-type {\n",
       "        vertical-align: middle;\n",
       "    }\n",
       "\n",
       "    .dataframe tbody tr th {\n",
       "        vertical-align: top;\n",
       "    }\n",
       "\n",
       "    .dataframe thead th {\n",
       "        text-align: right;\n",
       "    }\n",
       "</style>\n",
       "<table border=\"1\" class=\"dataframe\">\n",
       "  <thead>\n",
       "    <tr style=\"text-align: right;\">\n",
       "      <th></th>\n",
       "      <th>count</th>\n",
       "      <th>mean</th>\n",
       "      <th>std</th>\n",
       "      <th>min</th>\n",
       "      <th>25%</th>\n",
       "      <th>50%</th>\n",
       "      <th>75%</th>\n",
       "      <th>max</th>\n",
       "    </tr>\n",
       "  </thead>\n",
       "  <tbody>\n",
       "    <tr>\n",
       "      <th>collection_status</th>\n",
       "      <td>7044.0</td>\n",
       "      <td>0.000000</td>\n",
       "      <td>0.000000</td>\n",
       "      <td>0.0</td>\n",
       "      <td>0.0</td>\n",
       "      <td>0.0</td>\n",
       "      <td>0.0</td>\n",
       "      <td>0.0</td>\n",
       "    </tr>\n",
       "    <tr>\n",
       "      <th>nft_version</th>\n",
       "      <td>7044.0</td>\n",
       "      <td>3.000000</td>\n",
       "      <td>0.000000</td>\n",
       "      <td>3.0</td>\n",
       "      <td>3.0</td>\n",
       "      <td>3.0</td>\n",
       "      <td>3.0</td>\n",
       "      <td>3.0</td>\n",
       "    </tr>\n",
       "    <tr>\n",
       "      <th>tokens</th>\n",
       "      <td>7044.0</td>\n",
       "      <td>88.111584</td>\n",
       "      <td>1422.531819</td>\n",
       "      <td>0.0</td>\n",
       "      <td>0.0</td>\n",
       "      <td>0.0</td>\n",
       "      <td>1.0</td>\n",
       "      <td>66049.0</td>\n",
       "    </tr>\n",
       "    <tr>\n",
       "      <th>asset_contract_type</th>\n",
       "      <td>7044.0</td>\n",
       "      <td>0.149631</td>\n",
       "      <td>0.356735</td>\n",
       "      <td>0.0</td>\n",
       "      <td>0.0</td>\n",
       "      <td>0.0</td>\n",
       "      <td>0.0</td>\n",
       "      <td>1.0</td>\n",
       "    </tr>\n",
       "    <tr>\n",
       "      <th>day_avg_price</th>\n",
       "      <td>7044.0</td>\n",
       "      <td>0.001932</td>\n",
       "      <td>0.023346</td>\n",
       "      <td>0.0</td>\n",
       "      <td>0.0</td>\n",
       "      <td>0.0</td>\n",
       "      <td>0.0</td>\n",
       "      <td>1.0</td>\n",
       "    </tr>\n",
       "    <tr>\n",
       "      <th>week_avg_price</th>\n",
       "      <td>7044.0</td>\n",
       "      <td>0.016440</td>\n",
       "      <td>0.359766</td>\n",
       "      <td>0.0</td>\n",
       "      <td>0.0</td>\n",
       "      <td>0.0</td>\n",
       "      <td>0.0</td>\n",
       "      <td>10.0</td>\n",
       "    </tr>\n",
       "    <tr>\n",
       "      <th>month_avg_price</th>\n",
       "      <td>7044.0</td>\n",
       "      <td>0.016440</td>\n",
       "      <td>0.359766</td>\n",
       "      <td>0.0</td>\n",
       "      <td>0.0</td>\n",
       "      <td>0.0</td>\n",
       "      <td>0.0</td>\n",
       "      <td>10.0</td>\n",
       "    </tr>\n",
       "    <tr>\n",
       "      <th>total_volume</th>\n",
       "      <td>7044.0</td>\n",
       "      <td>0.019455</td>\n",
       "      <td>0.368701</td>\n",
       "      <td>0.0</td>\n",
       "      <td>0.0</td>\n",
       "      <td>0.0</td>\n",
       "      <td>0.0</td>\n",
       "      <td>10.0</td>\n",
       "    </tr>\n",
       "    <tr>\n",
       "      <th>total_sales</th>\n",
       "      <td>7044.0</td>\n",
       "      <td>0.145798</td>\n",
       "      <td>0.857873</td>\n",
       "      <td>0.0</td>\n",
       "      <td>0.0</td>\n",
       "      <td>0.0</td>\n",
       "      <td>0.0</td>\n",
       "      <td>10.0</td>\n",
       "    </tr>\n",
       "    <tr>\n",
       "      <th>total_supply</th>\n",
       "      <td>7044.0</td>\n",
       "      <td>80.552953</td>\n",
       "      <td>582.430158</td>\n",
       "      <td>0.0</td>\n",
       "      <td>2.0</td>\n",
       "      <td>5.0</td>\n",
       "      <td>13.0</td>\n",
       "      <td>10000.0</td>\n",
       "    </tr>\n",
       "    <tr>\n",
       "      <th>average_price</th>\n",
       "      <td>7044.0</td>\n",
       "      <td>0.016440</td>\n",
       "      <td>0.359766</td>\n",
       "      <td>0.0</td>\n",
       "      <td>0.0</td>\n",
       "      <td>0.0</td>\n",
       "      <td>0.0</td>\n",
       "      <td>10.0</td>\n",
       "    </tr>\n",
       "    <tr>\n",
       "      <th>opensea_buyer_fee_basis_points</th>\n",
       "      <td>7044.0</td>\n",
       "      <td>0.000000</td>\n",
       "      <td>0.000000</td>\n",
       "      <td>0.0</td>\n",
       "      <td>0.0</td>\n",
       "      <td>0.0</td>\n",
       "      <td>0.0</td>\n",
       "      <td>0.0</td>\n",
       "    </tr>\n",
       "    <tr>\n",
       "      <th>opensea_seller_fee_basis_points</th>\n",
       "      <td>7044.0</td>\n",
       "      <td>250.000000</td>\n",
       "      <td>0.000000</td>\n",
       "      <td>250.0</td>\n",
       "      <td>250.0</td>\n",
       "      <td>250.0</td>\n",
       "      <td>250.0</td>\n",
       "      <td>250.0</td>\n",
       "    </tr>\n",
       "  </tbody>\n",
       "</table>\n",
       "</div>"
      ],
      "text/plain": [
       "                                  count        mean          std    min  \\\n",
       "collection_status                7044.0    0.000000     0.000000    0.0   \n",
       "nft_version                      7044.0    3.000000     0.000000    3.0   \n",
       "tokens                           7044.0   88.111584  1422.531819    0.0   \n",
       "asset_contract_type              7044.0    0.149631     0.356735    0.0   \n",
       "day_avg_price                    7044.0    0.001932     0.023346    0.0   \n",
       "week_avg_price                   7044.0    0.016440     0.359766    0.0   \n",
       "month_avg_price                  7044.0    0.016440     0.359766    0.0   \n",
       "total_volume                     7044.0    0.019455     0.368701    0.0   \n",
       "total_sales                      7044.0    0.145798     0.857873    0.0   \n",
       "total_supply                     7044.0   80.552953   582.430158    0.0   \n",
       "average_price                    7044.0    0.016440     0.359766    0.0   \n",
       "opensea_buyer_fee_basis_points   7044.0    0.000000     0.000000    0.0   \n",
       "opensea_seller_fee_basis_points  7044.0  250.000000     0.000000  250.0   \n",
       "\n",
       "                                   25%    50%    75%      max  \n",
       "collection_status                  0.0    0.0    0.0      0.0  \n",
       "nft_version                        3.0    3.0    3.0      3.0  \n",
       "tokens                             0.0    0.0    1.0  66049.0  \n",
       "asset_contract_type                0.0    0.0    0.0      1.0  \n",
       "day_avg_price                      0.0    0.0    0.0      1.0  \n",
       "week_avg_price                     0.0    0.0    0.0     10.0  \n",
       "month_avg_price                    0.0    0.0    0.0     10.0  \n",
       "total_volume                       0.0    0.0    0.0     10.0  \n",
       "total_sales                        0.0    0.0    0.0     10.0  \n",
       "total_supply                       2.0    5.0   13.0  10000.0  \n",
       "average_price                      0.0    0.0    0.0     10.0  \n",
       "opensea_buyer_fee_basis_points     0.0    0.0    0.0      0.0  \n",
       "opensea_seller_fee_basis_points  250.0  250.0  250.0    250.0  "
      ]
     },
     "execution_count": 120,
     "metadata": {},
     "output_type": "execute_result"
    }
   ],
   "source": [
    "# Descriptive statistics of the transposed table\n",
    "df.describe().transpose()"
   ]
  },
  {
   "cell_type": "markdown",
   "metadata": {},
   "source": [
    "### 2.3  <a class=\"anchor\" id=\"2_3\"></a> Preprocess"
   ]
  },
  {
   "cell_type": "markdown",
   "metadata": {},
   "source": [
    "#### 2.3.1  <a class=\"anchor\" id=\"2_3_1\"></a> Data scaling"
   ]
  },
  {
   "cell_type": "code",
   "execution_count": 122,
   "metadata": {},
   "outputs": [
    {
     "data": {
      "text/html": [
       "<div>\n",
       "<style scoped>\n",
       "    .dataframe tbody tr th:only-of-type {\n",
       "        vertical-align: middle;\n",
       "    }\n",
       "\n",
       "    .dataframe tbody tr th {\n",
       "        vertical-align: top;\n",
       "    }\n",
       "\n",
       "    .dataframe thead th {\n",
       "        text-align: right;\n",
       "    }\n",
       "</style>\n",
       "<table border=\"1\" class=\"dataframe\">\n",
       "  <thead>\n",
       "    <tr style=\"text-align: right;\">\n",
       "      <th></th>\n",
       "      <th>collection_status</th>\n",
       "      <th>nft_version</th>\n",
       "      <th>tokens</th>\n",
       "      <th>featured</th>\n",
       "      <th>hidden</th>\n",
       "      <th>nsfw</th>\n",
       "      <th>asset_contract_type</th>\n",
       "      <th>require_email</th>\n",
       "      <th>day_avg_price</th>\n",
       "      <th>week_avg_price</th>\n",
       "      <th>month_avg_price</th>\n",
       "      <th>total_volume</th>\n",
       "      <th>total_sales</th>\n",
       "      <th>total_supply</th>\n",
       "      <th>average_price</th>\n",
       "      <th>only_proxied_transfers</th>\n",
       "      <th>is_subject_to_whitelist</th>\n",
       "      <th>opensea_buyer_fee_basis_points</th>\n",
       "      <th>opensea_seller_fee_basis_points</th>\n",
       "    </tr>\n",
       "  </thead>\n",
       "  <tbody>\n",
       "    <tr>\n",
       "      <th>0</th>\n",
       "      <td>0.0</td>\n",
       "      <td>0.0</td>\n",
       "      <td>1.0</td>\n",
       "      <td>0.0</td>\n",
       "      <td>0.0</td>\n",
       "      <td>0.0</td>\n",
       "      <td>0.0</td>\n",
       "      <td>0.0</td>\n",
       "      <td>0.0</td>\n",
       "      <td>0.0</td>\n",
       "      <td>0.0</td>\n",
       "      <td>0.0</td>\n",
       "      <td>0.0</td>\n",
       "      <td>-0.363636</td>\n",
       "      <td>0.0</td>\n",
       "      <td>0.0</td>\n",
       "      <td>0.0</td>\n",
       "      <td>0.0</td>\n",
       "      <td>0.0</td>\n",
       "    </tr>\n",
       "    <tr>\n",
       "      <th>1</th>\n",
       "      <td>0.0</td>\n",
       "      <td>0.0</td>\n",
       "      <td>1.0</td>\n",
       "      <td>0.0</td>\n",
       "      <td>0.0</td>\n",
       "      <td>0.0</td>\n",
       "      <td>0.0</td>\n",
       "      <td>0.0</td>\n",
       "      <td>0.0</td>\n",
       "      <td>0.0</td>\n",
       "      <td>0.0</td>\n",
       "      <td>0.0</td>\n",
       "      <td>0.0</td>\n",
       "      <td>-0.181818</td>\n",
       "      <td>0.0</td>\n",
       "      <td>0.0</td>\n",
       "      <td>0.0</td>\n",
       "      <td>0.0</td>\n",
       "      <td>0.0</td>\n",
       "    </tr>\n",
       "    <tr>\n",
       "      <th>2</th>\n",
       "      <td>0.0</td>\n",
       "      <td>0.0</td>\n",
       "      <td>1.0</td>\n",
       "      <td>0.0</td>\n",
       "      <td>0.0</td>\n",
       "      <td>0.0</td>\n",
       "      <td>0.0</td>\n",
       "      <td>0.0</td>\n",
       "      <td>0.0</td>\n",
       "      <td>0.0</td>\n",
       "      <td>0.0</td>\n",
       "      <td>0.0</td>\n",
       "      <td>0.0</td>\n",
       "      <td>-0.090909</td>\n",
       "      <td>0.0</td>\n",
       "      <td>0.0</td>\n",
       "      <td>0.0</td>\n",
       "      <td>0.0</td>\n",
       "      <td>0.0</td>\n",
       "    </tr>\n",
       "    <tr>\n",
       "      <th>3</th>\n",
       "      <td>0.0</td>\n",
       "      <td>0.0</td>\n",
       "      <td>1.0</td>\n",
       "      <td>0.0</td>\n",
       "      <td>0.0</td>\n",
       "      <td>0.0</td>\n",
       "      <td>0.0</td>\n",
       "      <td>0.0</td>\n",
       "      <td>0.0</td>\n",
       "      <td>0.0</td>\n",
       "      <td>0.0</td>\n",
       "      <td>0.0</td>\n",
       "      <td>0.0</td>\n",
       "      <td>-0.272727</td>\n",
       "      <td>0.0</td>\n",
       "      <td>0.0</td>\n",
       "      <td>0.0</td>\n",
       "      <td>0.0</td>\n",
       "      <td>0.0</td>\n",
       "    </tr>\n",
       "    <tr>\n",
       "      <th>4</th>\n",
       "      <td>0.0</td>\n",
       "      <td>0.0</td>\n",
       "      <td>1.0</td>\n",
       "      <td>0.0</td>\n",
       "      <td>0.0</td>\n",
       "      <td>0.0</td>\n",
       "      <td>0.0</td>\n",
       "      <td>0.0</td>\n",
       "      <td>0.0</td>\n",
       "      <td>0.0</td>\n",
       "      <td>0.0</td>\n",
       "      <td>0.0</td>\n",
       "      <td>0.0</td>\n",
       "      <td>0.454545</td>\n",
       "      <td>0.0</td>\n",
       "      <td>0.0</td>\n",
       "      <td>0.0</td>\n",
       "      <td>0.0</td>\n",
       "      <td>0.0</td>\n",
       "    </tr>\n",
       "    <tr>\n",
       "      <th>...</th>\n",
       "      <td>...</td>\n",
       "      <td>...</td>\n",
       "      <td>...</td>\n",
       "      <td>...</td>\n",
       "      <td>...</td>\n",
       "      <td>...</td>\n",
       "      <td>...</td>\n",
       "      <td>...</td>\n",
       "      <td>...</td>\n",
       "      <td>...</td>\n",
       "      <td>...</td>\n",
       "      <td>...</td>\n",
       "      <td>...</td>\n",
       "      <td>...</td>\n",
       "      <td>...</td>\n",
       "      <td>...</td>\n",
       "      <td>...</td>\n",
       "      <td>...</td>\n",
       "      <td>...</td>\n",
       "    </tr>\n",
       "    <tr>\n",
       "      <th>7039</th>\n",
       "      <td>0.0</td>\n",
       "      <td>0.0</td>\n",
       "      <td>0.0</td>\n",
       "      <td>0.0</td>\n",
       "      <td>0.0</td>\n",
       "      <td>0.0</td>\n",
       "      <td>0.0</td>\n",
       "      <td>0.0</td>\n",
       "      <td>0.0</td>\n",
       "      <td>0.0</td>\n",
       "      <td>0.0</td>\n",
       "      <td>0.0</td>\n",
       "      <td>0.0</td>\n",
       "      <td>-0.181818</td>\n",
       "      <td>0.0</td>\n",
       "      <td>0.0</td>\n",
       "      <td>0.0</td>\n",
       "      <td>0.0</td>\n",
       "      <td>0.0</td>\n",
       "    </tr>\n",
       "    <tr>\n",
       "      <th>7040</th>\n",
       "      <td>0.0</td>\n",
       "      <td>0.0</td>\n",
       "      <td>2.0</td>\n",
       "      <td>0.0</td>\n",
       "      <td>0.0</td>\n",
       "      <td>0.0</td>\n",
       "      <td>0.0</td>\n",
       "      <td>0.0</td>\n",
       "      <td>0.0</td>\n",
       "      <td>0.0</td>\n",
       "      <td>0.0</td>\n",
       "      <td>0.0</td>\n",
       "      <td>0.0</td>\n",
       "      <td>-0.272727</td>\n",
       "      <td>0.0</td>\n",
       "      <td>0.0</td>\n",
       "      <td>0.0</td>\n",
       "      <td>0.0</td>\n",
       "      <td>0.0</td>\n",
       "    </tr>\n",
       "    <tr>\n",
       "      <th>7041</th>\n",
       "      <td>0.0</td>\n",
       "      <td>0.0</td>\n",
       "      <td>0.0</td>\n",
       "      <td>0.0</td>\n",
       "      <td>0.0</td>\n",
       "      <td>0.0</td>\n",
       "      <td>0.0</td>\n",
       "      <td>0.0</td>\n",
       "      <td>0.0</td>\n",
       "      <td>0.0</td>\n",
       "      <td>0.0</td>\n",
       "      <td>0.0</td>\n",
       "      <td>0.0</td>\n",
       "      <td>-0.181818</td>\n",
       "      <td>0.0</td>\n",
       "      <td>0.0</td>\n",
       "      <td>0.0</td>\n",
       "      <td>0.0</td>\n",
       "      <td>0.0</td>\n",
       "    </tr>\n",
       "    <tr>\n",
       "      <th>7042</th>\n",
       "      <td>0.0</td>\n",
       "      <td>0.0</td>\n",
       "      <td>0.0</td>\n",
       "      <td>0.0</td>\n",
       "      <td>0.0</td>\n",
       "      <td>0.0</td>\n",
       "      <td>0.0</td>\n",
       "      <td>0.0</td>\n",
       "      <td>0.0</td>\n",
       "      <td>0.0</td>\n",
       "      <td>0.0</td>\n",
       "      <td>0.0</td>\n",
       "      <td>0.0</td>\n",
       "      <td>-0.090909</td>\n",
       "      <td>0.0</td>\n",
       "      <td>0.0</td>\n",
       "      <td>0.0</td>\n",
       "      <td>0.0</td>\n",
       "      <td>0.0</td>\n",
       "    </tr>\n",
       "    <tr>\n",
       "      <th>7043</th>\n",
       "      <td>0.0</td>\n",
       "      <td>0.0</td>\n",
       "      <td>2.0</td>\n",
       "      <td>0.0</td>\n",
       "      <td>0.0</td>\n",
       "      <td>0.0</td>\n",
       "      <td>0.0</td>\n",
       "      <td>0.0</td>\n",
       "      <td>0.0</td>\n",
       "      <td>0.0</td>\n",
       "      <td>0.0</td>\n",
       "      <td>0.0</td>\n",
       "      <td>0.0</td>\n",
       "      <td>-0.272727</td>\n",
       "      <td>0.0</td>\n",
       "      <td>0.0</td>\n",
       "      <td>0.0</td>\n",
       "      <td>0.0</td>\n",
       "      <td>0.0</td>\n",
       "    </tr>\n",
       "  </tbody>\n",
       "</table>\n",
       "<p>7044 rows × 19 columns</p>\n",
       "</div>"
      ],
      "text/plain": [
       "      collection_status  nft_version  tokens  featured  hidden  nsfw  \\\n",
       "0                   0.0          0.0     1.0       0.0     0.0   0.0   \n",
       "1                   0.0          0.0     1.0       0.0     0.0   0.0   \n",
       "2                   0.0          0.0     1.0       0.0     0.0   0.0   \n",
       "3                   0.0          0.0     1.0       0.0     0.0   0.0   \n",
       "4                   0.0          0.0     1.0       0.0     0.0   0.0   \n",
       "...                 ...          ...     ...       ...     ...   ...   \n",
       "7039                0.0          0.0     0.0       0.0     0.0   0.0   \n",
       "7040                0.0          0.0     2.0       0.0     0.0   0.0   \n",
       "7041                0.0          0.0     0.0       0.0     0.0   0.0   \n",
       "7042                0.0          0.0     0.0       0.0     0.0   0.0   \n",
       "7043                0.0          0.0     2.0       0.0     0.0   0.0   \n",
       "\n",
       "      asset_contract_type  require_email  day_avg_price  week_avg_price  \\\n",
       "0                     0.0            0.0            0.0             0.0   \n",
       "1                     0.0            0.0            0.0             0.0   \n",
       "2                     0.0            0.0            0.0             0.0   \n",
       "3                     0.0            0.0            0.0             0.0   \n",
       "4                     0.0            0.0            0.0             0.0   \n",
       "...                   ...            ...            ...             ...   \n",
       "7039                  0.0            0.0            0.0             0.0   \n",
       "7040                  0.0            0.0            0.0             0.0   \n",
       "7041                  0.0            0.0            0.0             0.0   \n",
       "7042                  0.0            0.0            0.0             0.0   \n",
       "7043                  0.0            0.0            0.0             0.0   \n",
       "\n",
       "      month_avg_price  total_volume  total_sales  total_supply  average_price  \\\n",
       "0                 0.0           0.0          0.0     -0.363636            0.0   \n",
       "1                 0.0           0.0          0.0     -0.181818            0.0   \n",
       "2                 0.0           0.0          0.0     -0.090909            0.0   \n",
       "3                 0.0           0.0          0.0     -0.272727            0.0   \n",
       "4                 0.0           0.0          0.0      0.454545            0.0   \n",
       "...               ...           ...          ...           ...            ...   \n",
       "7039              0.0           0.0          0.0     -0.181818            0.0   \n",
       "7040              0.0           0.0          0.0     -0.272727            0.0   \n",
       "7041              0.0           0.0          0.0     -0.181818            0.0   \n",
       "7042              0.0           0.0          0.0     -0.090909            0.0   \n",
       "7043              0.0           0.0          0.0     -0.272727            0.0   \n",
       "\n",
       "      only_proxied_transfers  is_subject_to_whitelist  \\\n",
       "0                        0.0                      0.0   \n",
       "1                        0.0                      0.0   \n",
       "2                        0.0                      0.0   \n",
       "3                        0.0                      0.0   \n",
       "4                        0.0                      0.0   \n",
       "...                      ...                      ...   \n",
       "7039                     0.0                      0.0   \n",
       "7040                     0.0                      0.0   \n",
       "7041                     0.0                      0.0   \n",
       "7042                     0.0                      0.0   \n",
       "7043                     0.0                      0.0   \n",
       "\n",
       "      opensea_buyer_fee_basis_points  opensea_seller_fee_basis_points  \n",
       "0                                0.0                              0.0  \n",
       "1                                0.0                              0.0  \n",
       "2                                0.0                              0.0  \n",
       "3                                0.0                              0.0  \n",
       "4                                0.0                              0.0  \n",
       "...                              ...                              ...  \n",
       "7039                             0.0                              0.0  \n",
       "7040                             0.0                              0.0  \n",
       "7041                             0.0                              0.0  \n",
       "7042                             0.0                              0.0  \n",
       "7043                             0.0                              0.0  \n",
       "\n",
       "[7044 rows x 19 columns]"
      ]
     },
     "execution_count": 122,
     "metadata": {},
     "output_type": "execute_result"
    }
   ],
   "source": [
    "# Scale the explanatory variables\n",
    "from sklearn.preprocessing import RobustScaler\n",
    "stratified_df = df.drop(columns = ['collection_name'])\n",
    "stratified_df = pd.DataFrame(RobustScaler().fit_transform(stratified_df), columns=stratified_df.columns)\n",
    "stratified_df "
   ]
  },
  {
   "cell_type": "markdown",
   "metadata": {},
   "source": [
    "####"
   ]
  },
  {
   "cell_type": "markdown",
   "metadata": {},
   "source": [
    "#### 2.3.2  <a class=\"anchor\" id=\"2_3_2\"></a>  Data splitting"
   ]
  },
  {
   "cell_type": "code",
   "execution_count": 42,
   "metadata": {},
   "outputs": [],
   "source": [
    "train_df, validate_df, test_df = np.split(stratified_df .sample(frac=1), [int(.6*len(stratified_df )), int(.8*len(stratified_df ))])"
   ]
  },
  {
   "cell_type": "code",
   "execution_count": 43,
   "metadata": {},
   "outputs": [
    {
     "name": "stdout",
     "output_type": "stream",
     "text": [
      "Number of rows in the training data set   =       4226\n",
      "Number of rows in the validation data set =       1409\n",
      "Number of rows in the test data set       =       1409\n"
     ]
    }
   ],
   "source": [
    "print(\"Number of rows in the training data set   = {:10d}\".format(train_df.shape[0]))\n",
    "print(\"Number of rows in the validation data set = {:10d}\".format(validate_df.shape[0]))\n",
    "print(\"Number of rows in the test data set       = {:10d}\".format(test_df.shape[0]))"
   ]
  },
  {
   "cell_type": "code",
   "execution_count": 44,
   "metadata": {},
   "outputs": [
    {
     "name": "stdout",
     "output_type": "stream",
     "text": [
      "Number of demand levels          =          8\n",
      "Number of independent variables  =        220\n",
      "Number of features               =        228\n"
     ]
    }
   ],
   "source": [
    "# get feature dimension\n",
    "\n",
    "all_df = pd.concat([train_df, validate_df, test_df])\n",
    "# Choose a response variable\n",
    "Y = all_df['total_sales']\n",
    "\n",
    "# Drop a response variable and collection name from the feature data set\n",
    "X = all_df.drop(columns = ['total_sales'])\n",
    "\n",
    "nb_total_sales = np.unique(Y.values).shape[0]\n",
    "nb_independent_vars = np.unique(X.values).shape[0]\n",
    "feature_dim = nb_total_sales + nb_independent_vars\n",
    "print(\"Number of demand levels          = {:10d}\".format(nb_total_sales))\n",
    "print(\"Number of independent variables  = {:10d}\".format(nb_independent_vars))\n",
    "print(\"Number of features               = {:10d}\".format(feature_dim))"
   ]
  },
  {
   "cell_type": "markdown",
   "metadata": {},
   "source": [
    "#### 2.3.3  <a class=\"anchor\" id=\"2_3_3\"></a>  Building Sparse One-Hot Encoded Matrix"
   ]
  },
  {
   "cell_type": "code",
   "execution_count": 45,
   "metadata": {},
   "outputs": [],
   "source": [
    "def convert_sparse_matrix(df, nb_rows, nb_total_sales, nb_independent_vars):\n",
    "    # dataframe to array\n",
    "    df_val = df.values\n",
    "\n",
    "    # determine feature size\n",
    "    nb_cols = nb_total_sales + nb_independent_vars\n",
    "    print(\"# of rows = {}\".format(str(nb_rows)))\n",
    "    print(\"# of cols = {}\".format(str(nb_cols)))\n",
    "\n",
    "    # extract customers and ratings\n",
    "    df_X = df_val[:, 0:2]\n",
    "    # Features are one-hot encoded in a sparse matrix\n",
    "    X = lil_matrix((nb_rows, nb_cols)).astype('float32')\n",
    "    df_X[:, 1] = nb_total_sales + df_X[:, 1]\n",
    "    coords = df_X[:, 0:2]\n",
    "    X[np.arange(nb_rows), coords[:, 0]] = 1\n",
    "    X[np.arange(nb_rows), coords[:, 1]] = 1\n",
    "\n",
    "    # create label with ratings\n",
    "    Y = df_val[:, 2].astype('float32')\n",
    "\n",
    "    # validate size and shape\n",
    "    print(X.shape)\n",
    "    print(Y.shape)\n",
    "    assert X.shape == (nb_rows, nb_cols)\n",
    "    assert Y.shape == (nb_rows, )\n",
    "\n",
    "    return X, Y"
   ]
  },
  {
   "cell_type": "code",
   "execution_count": 46,
   "metadata": {},
   "outputs": [
    {
     "name": "stdout",
     "output_type": "stream",
     "text": [
      "Convert training data set to one-hot encoded sparse matrix\n",
      "# of rows = 4226\n",
      "# of cols = 228\n",
      "(4226, 228)\n",
      "(4226,)\n",
      "Convert validation data set to one-hot encoded sparse matrix\n",
      "# of rows = 1409\n",
      "# of cols = 228\n",
      "(1409, 228)\n",
      "(1409,)\n",
      "Convert test data set to one-hot encoded sparse matrix\n",
      "# of rows = 1409\n",
      "# of cols = 228\n",
      "(1409, 228)\n",
      "(1409,)\n"
     ]
    }
   ],
   "source": [
    "print(\"Convert training data set to one-hot encoded sparse matrix\")\n",
    "train_X, train_Y = convert_sparse_matrix(train_df, train_df.shape[0], nb_total_sales, nb_independent_vars)\n",
    "print(\"Convert validation data set to one-hot encoded sparse matrix\")\n",
    "validate_X, validate_Y = convert_sparse_matrix(validate_df, validate_df.shape[0], nb_total_sales, nb_independent_vars)\n",
    "print(\"Convert test data set to one-hot encoded sparse matrix\")\n",
    "test_X, test_Y = convert_sparse_matrix(test_df, test_df.shape[0], nb_total_sales, nb_independent_vars)"
   ]
  },
  {
   "cell_type": "markdown",
   "metadata": {},
   "source": [
    "#### 2.3.4  <a class=\"anchor\" id=\"2_3_4\"></a> Convert to Protobuf format and Upload to S3"
   ]
  },
  {
   "cell_type": "code",
   "execution_count": 47,
   "metadata": {},
   "outputs": [],
   "source": [
    "def save_as_protobuf(X, Y, bucket, key):\n",
    "    \"\"\"Converts features and predictions matrices to recordio protobuf and\n",
    "       writes to S3\n",
    "\n",
    "    Args:\n",
    "        X:\n",
    "          2D numpy matrix with features\n",
    "        Y:\n",
    "          1D numpy matrix with predictions\n",
    "        bucket:\n",
    "          s3 bucket where recordio protobuf file will be staged\n",
    "        prefix:\n",
    "          s3 url prefix to stage prepared data to use for training the model\n",
    "        key:\n",
    "          protobuf file name to be staged\n",
    "\n",
    "    Returns:\n",
    "        s3 url with key to the protobuf data\n",
    "    \"\"\"\n",
    "    buf = io.BytesIO()\n",
    "    smac.write_spmatrix_to_sparse_tensor(buf, X, Y)\n",
    "    buf.seek(0)\n",
    "    obj = '{}'.format(key)\n",
    "    boto3.resource('s3', region_name='us-west-2').Bucket(bucket).Object(obj).upload_fileobj(buf)\n",
    "    return 's3://{}/{}'.format(bucket, obj)"
   ]
  },
  {
   "cell_type": "code",
   "execution_count": 48,
   "metadata": {},
   "outputs": [
    {
     "name": "stdout",
     "output_type": "stream",
     "text": [
      "Training data set in protobuf format uploaded at s3://sagemaker-us-west-2-369454669781/prepare/train/train.protobuf\n",
      "Validation data set in protobuf format uploaded at s3://sagemaker-us-west-2-369454669781/prepare/validate/validate.protobuf\n"
     ]
    }
   ],
   "source": [
    "s3_train_path = save_as_protobuf(train_X, train_Y, bucket, 'prepare/train/train.protobuf')\n",
    "print(\"Training data set in protobuf format uploaded at {}\".format(s3_train_path))\n",
    "s3_val_path = save_as_protobuf(validate_X, validate_Y, bucket, 'prepare/validate/validate.protobuf')\n",
    "print(\"Validation data set in protobuf format uploaded at {}\".format(s3_val_path))"
   ]
  },
  {
   "cell_type": "code",
   "execution_count": 49,
   "metadata": {},
   "outputs": [],
   "source": [
    "def chunk(x, batch_size):\n",
    "    \"\"\"split array into chunks of batch_size\n",
    "    \"\"\"\n",
    "    chunk_range = range(0, x.shape[0], batch_size)\n",
    "    chunks = [x[p: p + batch_size] for p in chunk_range]\n",
    "    return chunks"
   ]
  },
  {
   "cell_type": "code",
   "execution_count": 50,
   "metadata": {},
   "outputs": [
    {
     "name": "stdout",
     "output_type": "stream",
     "text": [
      "s3://sagemaker-us-west-2-369454669781/prepare/test/test_0.protobuf\n"
     ]
    }
   ],
   "source": [
    "test_x_chunks = chunk(test_X, 10000)\n",
    "test_y_chunks = chunk(test_Y, 10000)\n",
    "N = len(test_x_chunks)\n",
    "for i in range(N):\n",
    "    test_data = save_as_protobuf(\n",
    "        test_x_chunks[i],\n",
    "        test_y_chunks[i],\n",
    "        bucket,\n",
    "        \"prepare/test/test_\" + str(i) + \".protobuf\")\n",
    "    print(test_data)"
   ]
  },
  {
   "cell_type": "markdown",
   "metadata": {},
   "source": [
    "## Chapter 3: <a class=\"anchor\" id=\"chapter3\"></a> Regressor Training"
   ]
  },
  {
   "cell_type": "code",
   "execution_count": 51,
   "metadata": {},
   "outputs": [
    {
     "name": "stderr",
     "output_type": "stream",
     "text": [
      "The method get_image_uri has been renamed in sagemaker>=2.\n",
      "See: https://sagemaker.readthedocs.io/en/stable/v2.html for details.\n",
      "Defaulting to the only supported framework/algorithm version: 1. Ignoring framework/algorithm version: 1.\n"
     ]
    }
   ],
   "source": [
    "from sagemaker.amazon.amazon_estimator import get_image_uri\n",
    "container = get_image_uri(boto3.Session().region_name, 'factorization-machines')"
   ]
  },
  {
   "cell_type": "code",
   "execution_count": 52,
   "metadata": {},
   "outputs": [
    {
     "name": "stderr",
     "output_type": "stream",
     "text": [
      "train_instance_count has been renamed in sagemaker>=2.\n",
      "See: https://sagemaker.readthedocs.io/en/stable/v2.html for details.\n",
      "train_instance_type has been renamed in sagemaker>=2.\n",
      "See: https://sagemaker.readthedocs.io/en/stable/v2.html for details.\n"
     ]
    },
    {
     "name": "stdout",
     "output_type": "stream",
     "text": [
      "CPU times: user 3 µs, sys: 1 µs, total: 4 µs\n",
      "Wall time: 5.96 µs\n"
     ]
    }
   ],
   "source": [
    "%time\n",
    "\n",
    "output_location = 's3://{}/train/'.format(bucket)\n",
    "s3_train_path = 's3://{}/prepare/train/train.protobuf'.format(bucket)\n",
    "s3_val_path = 's3://{}/prepare/validate/validate.protobuf'.format(bucket)\n",
    "\n",
    "fm = sagemaker.estimator.Estimator(container,\n",
    "                                   role, \n",
    "                                   train_instance_count=1, \n",
    "                                   train_instance_type='ml.c5.4xlarge',\n",
    "                                   output_path=output_location,\n",
    "                                   sagemaker_session=sess)\n",
    "\n",
    "fm.set_hyperparameters(feature_dim=228,\n",
    "                      predictor_type='regressor',\n",
    "                      mini_batch_size=200,\n",
    "                      num_factors=64,\n",
    "                      bias_lr=0.02,\n",
    "                      epochs=10)"
   ]
  },
  {
   "cell_type": "code",
   "execution_count": 53,
   "metadata": {},
   "outputs": [],
   "source": [
    "fm.fit({'train': s3_train_path,'test': s3_val_path}, wait=False)"
   ]
  },
  {
   "cell_type": "code",
   "execution_count": 54,
   "metadata": {},
   "outputs": [],
   "source": [
    "training_job_name = fm._current_job_name\n",
    "metric_name = 'train:rmse:epoch'"
   ]
  },
  {
   "cell_type": "code",
   "execution_count": 59,
   "metadata": {},
   "outputs": [
    {
     "name": "stdout",
     "output_type": "stream",
     "text": [
      "The training job is completed.\n"
     ]
    }
   ],
   "source": [
    "# run this cell to check current status of training job\n",
    "fm_training_job_result = smclient.describe_training_job(TrainingJobName=training_job_name)\n",
    "\n",
    "status = fm_training_job_result['TrainingJobStatus']\n",
    "if status != 'Completed':\n",
    "    print('Reminder: the training job has not been completed.')\n",
    "else:\n",
    "    print('The training job is completed.')"
   ]
  },
  {
   "cell_type": "code",
   "execution_count": 123,
   "metadata": {},
   "outputs": [
    {
     "data": {
      "text/html": [
       "<div>\n",
       "<style scoped>\n",
       "    .dataframe tbody tr th:only-of-type {\n",
       "        vertical-align: middle;\n",
       "    }\n",
       "\n",
       "    .dataframe tbody tr th {\n",
       "        vertical-align: top;\n",
       "    }\n",
       "\n",
       "    .dataframe thead th {\n",
       "        text-align: right;\n",
       "    }\n",
       "</style>\n",
       "<table border=\"1\" class=\"dataframe\">\n",
       "  <thead>\n",
       "    <tr style=\"text-align: right;\">\n",
       "      <th></th>\n",
       "      <th>timestamp</th>\n",
       "      <th>metric_name</th>\n",
       "      <th>value</th>\n",
       "    </tr>\n",
       "  </thead>\n",
       "  <tbody>\n",
       "    <tr>\n",
       "      <th>0</th>\n",
       "      <td>0.0</td>\n",
       "      <td>train:rmse:epoch</td>\n",
       "      <td>1209.996144</td>\n",
       "    </tr>\n",
       "  </tbody>\n",
       "</table>\n",
       "</div>"
      ],
      "text/plain": [
       "   timestamp       metric_name        value\n",
       "0        0.0  train:rmse:epoch  1209.996144"
      ]
     },
     "execution_count": 123,
     "metadata": {},
     "output_type": "execute_result"
    }
   ],
   "source": [
    "# Plug-in the training job name and metrics to be captured\n",
    "rmse_dataframe = TrainingJobAnalytics(training_job_name=training_job_name,metric_names=[metric_name]).dataframe()\n",
    "rmse_dataframe"
   ]
  },
  {
   "cell_type": "code",
   "execution_count": 124,
   "metadata": {},
   "outputs": [
    {
     "name": "stderr",
     "output_type": "stream",
     "text": [
      "Warning: No metrics called test:binary_f_beta found\n",
      "Warning: No metrics called train:binary_classification_accuracy:batch found\n",
      "Warning: No metrics called train:binary_f_beta:batch found\n",
      "Warning: No metrics called train:binary_classification_cross_entropy:epoch found\n",
      "Warning: No metrics called train:binary_f_beta found\n",
      "Warning: No metrics called train:binary_classification_cross_entropy found\n",
      "Warning: No metrics called train:binary_f_beta:epoch found\n",
      "Warning: No metrics called train:binary_classification_accuracy:epoch found\n",
      "Warning: No metrics called train:binary_classification_accuracy found\n",
      "Warning: No metrics called test:binary_classification_cross_entropy found\n",
      "Warning: No metrics called test:binary_classification_accuracy found\n",
      "Warning: No metrics called train:binary_classification_cross_entropy:batch found\n"
     ]
    },
    {
     "data": {
      "text/html": [
       "<div>\n",
       "<style scoped>\n",
       "    .dataframe tbody tr th:only-of-type {\n",
       "        vertical-align: middle;\n",
       "    }\n",
       "\n",
       "    .dataframe tbody tr th {\n",
       "        vertical-align: top;\n",
       "    }\n",
       "\n",
       "    .dataframe thead th {\n",
       "        text-align: right;\n",
       "    }\n",
       "</style>\n",
       "<table border=\"1\" class=\"dataframe\">\n",
       "  <thead>\n",
       "    <tr style=\"text-align: right;\">\n",
       "      <th></th>\n",
       "      <th>timestamp</th>\n",
       "      <th>metric_name</th>\n",
       "      <th>value</th>\n",
       "    </tr>\n",
       "  </thead>\n",
       "  <tbody>\n",
       "    <tr>\n",
       "      <th>0</th>\n",
       "      <td>0.0</td>\n",
       "      <td>train:rmse:epoch</td>\n",
       "      <td>1.209996e+03</td>\n",
       "    </tr>\n",
       "    <tr>\n",
       "      <th>1</th>\n",
       "      <td>0.0</td>\n",
       "      <td>train:progress</td>\n",
       "      <td>1.000000e+02</td>\n",
       "    </tr>\n",
       "    <tr>\n",
       "      <th>2</th>\n",
       "      <td>0.0</td>\n",
       "      <td>test:mse</td>\n",
       "      <td>2.535042e+05</td>\n",
       "    </tr>\n",
       "    <tr>\n",
       "      <th>3</th>\n",
       "      <td>0.0</td>\n",
       "      <td>train:mse:batch</td>\n",
       "      <td>7.385864e+05</td>\n",
       "    </tr>\n",
       "    <tr>\n",
       "      <th>4</th>\n",
       "      <td>0.0</td>\n",
       "      <td>train:absolute_loss:epoch</td>\n",
       "      <td>8.052339e+01</td>\n",
       "    </tr>\n",
       "    <tr>\n",
       "      <th>5</th>\n",
       "      <td>0.0</td>\n",
       "      <td>test:absolute_loss</td>\n",
       "      <td>4.933010e+01</td>\n",
       "    </tr>\n",
       "    <tr>\n",
       "      <th>6</th>\n",
       "      <td>0.0</td>\n",
       "      <td>train:mse</td>\n",
       "      <td>1.464091e+06</td>\n",
       "    </tr>\n",
       "    <tr>\n",
       "      <th>7</th>\n",
       "      <td>0.0</td>\n",
       "      <td>train:mse:epoch</td>\n",
       "      <td>1.464091e+06</td>\n",
       "    </tr>\n",
       "    <tr>\n",
       "      <th>8</th>\n",
       "      <td>0.0</td>\n",
       "      <td>train:rmse:batch</td>\n",
       "      <td>8.594105e+02</td>\n",
       "    </tr>\n",
       "    <tr>\n",
       "      <th>9</th>\n",
       "      <td>0.0</td>\n",
       "      <td>train:rmse</td>\n",
       "      <td>1.209996e+03</td>\n",
       "    </tr>\n",
       "    <tr>\n",
       "      <th>10</th>\n",
       "      <td>0.0</td>\n",
       "      <td>test:rmse</td>\n",
       "      <td>5.034920e+02</td>\n",
       "    </tr>\n",
       "    <tr>\n",
       "      <th>11</th>\n",
       "      <td>0.0</td>\n",
       "      <td>train:absolute_loss:batch</td>\n",
       "      <td>1.043517e+02</td>\n",
       "    </tr>\n",
       "    <tr>\n",
       "      <th>12</th>\n",
       "      <td>0.0</td>\n",
       "      <td>train:absolute_loss</td>\n",
       "      <td>8.052339e+01</td>\n",
       "    </tr>\n",
       "    <tr>\n",
       "      <th>13</th>\n",
       "      <td>0.0</td>\n",
       "      <td>train:throughput</td>\n",
       "      <td>1.557432e+05</td>\n",
       "    </tr>\n",
       "  </tbody>\n",
       "</table>\n",
       "</div>"
      ],
      "text/plain": [
       "    timestamp                metric_name         value\n",
       "0         0.0           train:rmse:epoch  1.209996e+03\n",
       "1         0.0             train:progress  1.000000e+02\n",
       "2         0.0                   test:mse  2.535042e+05\n",
       "3         0.0            train:mse:batch  7.385864e+05\n",
       "4         0.0  train:absolute_loss:epoch  8.052339e+01\n",
       "5         0.0         test:absolute_loss  4.933010e+01\n",
       "6         0.0                  train:mse  1.464091e+06\n",
       "7         0.0            train:mse:epoch  1.464091e+06\n",
       "8         0.0           train:rmse:batch  8.594105e+02\n",
       "9         0.0                 train:rmse  1.209996e+03\n",
       "10        0.0                  test:rmse  5.034920e+02\n",
       "11        0.0  train:absolute_loss:batch  1.043517e+02\n",
       "12        0.0        train:absolute_loss  8.052339e+01\n",
       "13        0.0           train:throughput  1.557432e+05"
      ]
     },
     "execution_count": 124,
     "metadata": {},
     "output_type": "execute_result"
    }
   ],
   "source": [
    "# Let's see all metrics captured\n",
    "all_metrics_dataframe = TrainingJobAnalytics(training_job_name=training_job_name).dataframe()\n",
    "all_metrics_dataframe"
   ]
  },
  {
   "cell_type": "code",
   "execution_count": 61,
   "metadata": {},
   "outputs": [],
   "source": [
    "def convert_to_protobuf(X, Y=None):\n",
    "    buf = io.BytesIO()\n",
    "    smac.write_spmatrix_to_sparse_tensor(buf, X, Y)\n",
    "    buf.seek(0)\n",
    "    return buf"
   ]
  },
  {
   "cell_type": "code",
   "execution_count": 62,
   "metadata": {},
   "outputs": [],
   "source": [
    "def convert_sparse_matrix_X(df, nb_rows, nb_demand_levels, nb_independent_vars):\n",
    "    # dataframe to array\n",
    "    df_val = df.values\n",
    "\n",
    "    # determine feature size\n",
    "    nb_cols = nb_demand_levels + nb_independent_vars\n",
    "    \n",
    "    # extract customers and ratings\n",
    "    df_X = df_val[:,0:2]\n",
    "    # Features are one-hot encoded in a sparse matrix\n",
    "    X = lil_matrix((nb_rows, nb_cols)).astype('float32')\n",
    "    df_X[:,1] = nb_demand_levels + df_X[:,1]\n",
    "    coords = df_X[:,0:2]\n",
    "    X[np.arange(nb_rows), coords[:, 0]] = 1\n",
    "    X[np.arange(nb_rows), coords[:, 1]] = 1\n",
    "\n",
    "    # validate size and shape\n",
    "    assert X.shape == (nb_rows, nb_cols)\n",
    "    \n",
    "    return X"
   ]
  },
  {
   "cell_type": "markdown",
   "metadata": {},
   "source": [
    "---"
   ]
  },
  {
   "cell_type": "markdown",
   "metadata": {},
   "source": [
    "## Chapter 4: <a class=\"anchor\" id=\"chapter4\"></a> Inference"
   ]
  },
  {
   "cell_type": "markdown",
   "metadata": {},
   "source": [
    "### 4.1  <a class=\"anchor\" id=\"4_1\"></a> Batch Inference"
   ]
  },
  {
   "cell_type": "code",
   "execution_count": 63,
   "metadata": {},
   "outputs": [],
   "source": [
    "fm_model = fm.create_model()"
   ]
  },
  {
   "cell_type": "code",
   "execution_count": 64,
   "metadata": {},
   "outputs": [],
   "source": [
    "fm_transformer = fm_model.transformer(\n",
    "    instance_type='ml.c4.xlarge', \n",
    "    instance_count=1, \n",
    "    strategy=\"MultiRecord\", \n",
    "    output_path=\"s3://{}/transform/\".format(bucket)\n",
    ")"
   ]
  },
  {
   "cell_type": "code",
   "execution_count": 65,
   "metadata": {},
   "outputs": [
    {
     "name": "stdout",
     "output_type": "stream",
     "text": [
      "..........................\n",
      "Docker entrypoint called with argument(s): serve\n",
      "Running default environment configuration script\n",
      "Docker entrypoint called with argument(s): serve\n",
      "Running default environment configuration script\n",
      "/opt/amazon/lib/python3.7/site-packages/jsonref.py:8: DeprecationWarning: Using or importing the ABCs from 'collections' instead of from 'collections.abc' is deprecated since Python 3.3,and in 3.9 it will stop working\n",
      "  from collections import Mapping, MutableMapping, Sequence\n",
      "/opt/amazon/lib/python3.7/site-packages/jsonref.py:8: DeprecationWarning: Using or importing the ABCs from 'collections' instead of from 'collections.abc' is deprecated since Python 3.3,and in 3.9 it will stop working\n",
      "  from collections import Mapping, MutableMapping, Sequence\n",
      "/opt/amazon/lib/python3.7/site-packages/algorithm/network_builder.py:87: DeprecationWarning: invalid escape sequence \\s\n",
      "  \"\"\"\n",
      "/opt/amazon/lib/python3.7/site-packages/algorithm/network_builder.py:120: DeprecationWarning: invalid escape sequence \\s\n",
      "  \"\"\"\n",
      "/opt/amazon/lib/python3.7/site-packages/google/protobuf/internal/api_implementation.py:151: DeprecationWarning: Using or importing the ABCs from 'collections' instead of from 'collections.abc' is deprecated since Python 3.3,and in 3.9 it will stop working\n",
      "  from google.protobuf.pyext import _message\n",
      "[04/25/2022 17:06:17 INFO 139988359198528] loaded entry point class algorithm.serve.server_config:config_api\n",
      "[04/25/2022 17:06:17 INFO 139988359198528] loading entry points\n",
      "/opt/amazon/lib/python3.7/site-packages/ai_algorithms_sdk/serve.py:221: DeprecationWarning: entrypoint algorithm.request_iterators is deprecated in favor of algorithm.io.data_handlers.serve\n",
      "  \"in favor of algorithm.io.data_handlers.serve\", DeprecationWarning)\n",
      "[04/25/2022 17:06:17 INFO 139988359198528] loaded request iterator application/json\n",
      "[04/25/2022 17:06:17 INFO 139988359198528] loaded request iterator application/jsonlines\n",
      "/opt/amazon/lib/python3.7/site-packages/algorithm/network_builder.py:87: DeprecationWarning: invalid escape sequence \\s\n",
      "  \"\"\"\n",
      "/opt/amazon/lib/python3.7/site-packages/algorithm/network_builder.py:120: DeprecationWarning: invalid escape sequence \\s\n",
      "  \"\"\"\n",
      "/opt/amazon/lib/python3.7/site-packages/google/protobuf/internal/api_implementation.py:151: DeprecationWarning: Using or importing the ABCs from 'collections' instead of from 'collections.abc' is deprecated since Python 3.3,and in 3.9 it will stop working\n",
      "  from google.protobuf.pyext import _message\n",
      "[04/25/2022 17:06:17 INFO 139988359198528] loaded entry point class algorithm.serve.server_config:config_api\n",
      "[04/25/2022 17:06:17 INFO 139988359198528] loading entry points\n",
      "/opt/amazon/lib/python3.7/site-packages/ai_algorithms_sdk/serve.py:221: DeprecationWarning: entrypoint algorithm.request_iterators is deprecated in favor of algorithm.io.data_handlers.serve\n",
      "  \"in favor of algorithm.io.data_handlers.serve\", DeprecationWarning)\n",
      "[04/25/2022 17:06:17 INFO 139988359198528] loaded request iterator application/json\n",
      "[04/25/2022 17:06:17 INFO 139988359198528] loaded request iterator application/jsonlines\n",
      "[04/25/2022 17:06:17 INFO 139988359198528] loaded request iterator application/x-recordio-protobuf\n",
      "[04/25/2022 17:06:17 INFO 139988359198528] loaded response encoder application/json\n",
      "[04/25/2022 17:06:17 INFO 139988359198528] loaded response encoder application/jsonlines\n",
      "[04/25/2022 17:06:17 INFO 139988359198528] loaded response encoder application/x-recordio-protobuf\n",
      "[04/25/2022 17:06:17 INFO 139988359198528] loaded entry point class algorithm:model\n",
      "[04/25/2022 17:06:17 INFO 139988359198528] Model Size: 67111 bytes\n",
      "[04/25/2022 17:06:17 INFO 139988359198528] Number of vCPUs: 4\n",
      "[04/25/2022 17:06:17 INFO 139988359198528] Number of server workers: 4\n",
      "[2022-04-25 17:06:17 +0000] [1] [INFO] Starting gunicorn 20.1.0\n",
      "[2022-04-25 17:06:17 +0000] [1] [INFO] Listening at: http://0.0.0.0:8080 (1)\n",
      "[2022-04-25 17:06:17 +0000] [1] [INFO] Using worker: sync\n",
      "[2022-04-25 17:06:17 +0000] [31] [INFO] Booting worker with pid: 31\n",
      "[04/25/2022 17:06:17 INFO 139988359198528] loading model...\n",
      "[04/25/2022 17:06:17 WARNING 139988359198528] Requesting context without setting the requested num of gpus. Using 'auto'\n",
      "[04/25/2022 17:06:17 INFO 139988359198528] nvidia-smi: took 0.030 seconds to run.\n",
      "[04/25/2022 17:06:17 INFO 139988359198528] nvidia-smi identified 0 GPUs.\n",
      "[04/25/2022 17:06:17 INFO 139988359198528] Number of GPUs being used: 0\n",
      "[04/25/2022 17:06:17 INFO 139988359198528] Loading regression model.\n",
      "[04/25/2022 17:06:17 INFO 139988359198528] ...model loaded.\n",
      "[2022-04-25 17:06:17 +0000] [40] [INFO] Booting worker with pid: 40\n",
      "[04/25/2022 17:06:17 INFO 139988359198528] loading model...\n",
      "[04/25/2022 17:06:17 WARNING 139988359198528] Requesting context without setting the requested num of gpus. Using 'auto'\n",
      "[2022-04-25 17:06:17 +0000] [41] [INFO] Booting worker with pid: 41\n",
      "[04/25/2022 17:06:17 INFO 139988359198528] loaded request iterator application/x-recordio-protobuf\n",
      "[04/25/2022 17:06:17 INFO 139988359198528] loaded response encoder application/json\n",
      "[04/25/2022 17:06:17 INFO 139988359198528] loaded response encoder application/jsonlines\n",
      "[04/25/2022 17:06:17 INFO 139988359198528] loaded response encoder application/x-recordio-protobuf\n",
      "[04/25/2022 17:06:17 INFO 139988359198528] loaded entry point class algorithm:model\n",
      "[04/25/2022 17:06:17 INFO 139988359198528] Model Size: 67111 bytes\n",
      "[04/25/2022 17:06:17 INFO 139988359198528] Number of vCPUs: 4\n",
      "[04/25/2022 17:06:17 INFO 139988359198528] Number of server workers: 4\n",
      "[2022-04-25 17:06:17 +0000] [1] [INFO] Starting gunicorn 20.1.0\n",
      "[2022-04-25 17:06:17 +0000] [1] [INFO] Listening at: http://0.0.0.0:8080 (1)\n",
      "[2022-04-25 17:06:17 +0000] [1] [INFO] Using worker: sync\n",
      "[2022-04-25 17:06:17 +0000] [31] [INFO] Booting worker with pid: 31\n",
      "[04/25/2022 17:06:17 INFO 139988359198528] loading model...\n",
      "[04/25/2022 17:06:17 WARNING 139988359198528] Requesting context without setting the requested num of gpus. Using 'auto'\n",
      "[04/25/2022 17:06:17 INFO 139988359198528] nvidia-smi: took 0.030 seconds to run.\n",
      "[04/25/2022 17:06:17 INFO 139988359198528] nvidia-smi identified 0 GPUs.\n",
      "[04/25/2022 17:06:17 INFO 139988359198528] Number of GPUs being used: 0\n",
      "[04/25/2022 17:06:17 INFO 139988359198528] Loading regression model.\n",
      "[04/25/2022 17:06:17 INFO 139988359198528] ...model loaded.\n",
      "[2022-04-25 17:06:17 +0000] [40] [INFO] Booting worker with pid: 40\n",
      "[04/25/2022 17:06:17 INFO 139988359198528] loading model...\n",
      "[04/25/2022 17:06:17 WARNING 139988359198528] Requesting context without setting the requested num of gpus. Using 'auto'\n",
      "[2022-04-25 17:06:17 +0000] [41] [INFO] Booting worker with pid: 41\n",
      "[04/25/2022 17:06:17 INFO 139988359198528] loading model...\n",
      "[04/25/2022 17:06:17 WARNING 139988359198528] Requesting context without setting the requested num of gpus. Using 'auto'\n",
      "[2022-04-25 17:06:17 +0000] [50] [INFO] Booting worker with pid: 50\n",
      "[04/25/2022 17:06:17 INFO 139988359198528] loading model...\n",
      "[04/25/2022 17:06:17 WARNING 139988359198528] Requesting context without setting the requested num of gpus. Using 'auto'\n",
      "[04/25/2022 17:06:17 INFO 139988359198528] nvidia-smi: took 0.031 seconds to run.\n",
      "[04/25/2022 17:06:17 INFO 139988359198528] nvidia-smi identified 0 GPUs.\n",
      "[04/25/2022 17:06:17 INFO 139988359198528] Number of GPUs being used: 0\n",
      "[04/25/2022 17:06:17 INFO 139988359198528] nvidia-smi: took 0.029 seconds to run.\n",
      "[04/25/2022 17:06:17 INFO 139988359198528] nvidia-smi identified 0 GPUs.\n",
      "[04/25/2022 17:06:17 INFO 139988359198528] Number of GPUs being used: 0\n",
      "[04/25/2022 17:06:17 INFO 139988359198528] Loading regression model.\n",
      "[04/25/2022 17:06:17 INFO 139988359198528] ...model loaded.\n",
      "[04/25/2022 17:06:17 INFO 139988359198528] Loading regression model.\n",
      "[04/25/2022 17:06:17 INFO 139988359198528] ...model loaded.\n",
      "[04/25/2022 17:06:17 INFO 139988359198528] nvidia-smi: took 0.029 seconds to run.\n",
      "[04/25/2022 17:06:17 INFO 139988359198528] nvidia-smi identified 0 GPUs.\n",
      "[04/25/2022 17:06:17 INFO 139988359198528] Number of GPUs being used: 0\n",
      "[04/25/2022 17:06:17 INFO 139988359198528] Loading regression model.\n",
      "[04/25/2022 17:06:17 INFO 139988359198528] loading model...\n",
      "[04/25/2022 17:06:17 WARNING 139988359198528] Requesting context without setting the requested num of gpus. Using 'auto'\n",
      "[2022-04-25 17:06:17 +0000] [50] [INFO] Booting worker with pid: 50\n",
      "[04/25/2022 17:06:17 INFO 139988359198528] loading model...\n",
      "[04/25/2022 17:06:17 WARNING 139988359198528] Requesting context without setting the requested num of gpus. Using 'auto'\n",
      "[04/25/2022 17:06:17 INFO 139988359198528] nvidia-smi: took 0.031 seconds to run.\n",
      "[04/25/2022 17:06:17 INFO 139988359198528] nvidia-smi identified 0 GPUs.\n",
      "[04/25/2022 17:06:17 INFO 139988359198528] Number of GPUs being used: 0\n",
      "[04/25/2022 17:06:17 INFO 139988359198528] nvidia-smi: took 0.029 seconds to run.\n",
      "[04/25/2022 17:06:17 INFO 139988359198528] nvidia-smi identified 0 GPUs.\n",
      "[04/25/2022 17:06:17 INFO 139988359198528] Number of GPUs being used: 0\n",
      "[04/25/2022 17:06:17 INFO 139988359198528] Loading regression model.\n",
      "[04/25/2022 17:06:17 INFO 139988359198528] ...model loaded.\n",
      "[04/25/2022 17:06:17 INFO 139988359198528] Loading regression model.\n",
      "[04/25/2022 17:06:17 INFO 139988359198528] ...model loaded.\n",
      "[04/25/2022 17:06:17 INFO 139988359198528] nvidia-smi: took 0.029 seconds to run.\n",
      "[04/25/2022 17:06:17 INFO 139988359198528] nvidia-smi identified 0 GPUs.\n",
      "[04/25/2022 17:06:17 INFO 139988359198528] Number of GPUs being used: 0\n",
      "[04/25/2022 17:06:17 INFO 139988359198528] Loading regression model.\n",
      "[04/25/2022 17:06:17 INFO 139988359198528] ...model loaded.\n",
      "[04/25/2022 17:06:17 INFO 139988359198528] ...model loaded.\n",
      "[04/25/2022 17:06:19 INFO 139988359198528] Model Size: 67111 bytes\n",
      "[04/25/2022 17:06:19 INFO 139988359198528] Number of vCPUs: 4\n",
      "#metrics {\"StartTime\": 1650906377.4143188, \"EndTime\": 1650906379.881198, \"Dimensions\": {\"Algorithm\": \"AlgorithmModel\", \"Host\": \"UNKNOWN\", \"Operation\": \"scoring\"}, \"Metrics\": {\"execution_parameters.count\": {\"sum\": 1.0, \"count\": 1, \"min\": 1, \"max\": 1}}}\n",
      "/opt/amazon/lib/python3.7/site-packages/mxnet/module/base_module.py:65: UserWarning: Data provided by label_shapes don't match names specified by label_names ([] vs. ['out_label'])\n",
      "  warnings.warn(msg)\n",
      "[2022-04-25 17:06:19.993] [tensorio] [info] epoch_stats={\"data_pipeline\": \"/tmp/tmp2euyt_49/tmpi5x430mz\", \"epoch\": 0, \"duration\": 19, \"num_examples\": 1, \"num_bytes\": 84540}\n",
      "#metrics {\"StartTime\": 1650906377.3224304, \"EndTime\": 1650906380.0000973, \"Dimensions\": {\"Algorithm\": \"AlgorithmModel\", \"Host\": \"UNKNOWN\", \"Operation\": \"scoring\"}, \"Metrics\": {\"invocations.count\": {\"sum\": 1.0, \"count\": 1, \"min\": 1, \"max\": 1}}}\n",
      "[04/25/2022 17:06:19 INFO 139988359198528] Model Size: 67111 bytes\n",
      "[04/25/2022 17:06:19 INFO 139988359198528] Number of vCPUs: 4\n",
      "#metrics {\"StartTime\": 1650906377.4143188, \"EndTime\": 1650906379.881198, \"Dimensions\": {\"Algorithm\": \"AlgorithmModel\", \"Host\": \"UNKNOWN\", \"Operation\": \"scoring\"}, \"Metrics\": {\"execution_parameters.count\": {\"sum\": 1.0, \"count\": 1, \"min\": 1, \"max\": 1}}}\n",
      "/opt/amazon/lib/python3.7/site-packages/mxnet/module/base_module.py:65: UserWarning: Data provided by label_shapes don't match names specified by label_names ([] vs. ['out_label'])\n",
      "  warnings.warn(msg)\n",
      "[2022-04-25 17:06:19.993] [tensorio] [info] epoch_stats={\"data_pipeline\": \"/tmp/tmp2euyt_49/tmpi5x430mz\", \"epoch\": 0, \"duration\": 19, \"num_examples\": 1, \"num_bytes\": 84540}\n",
      "#metrics {\"StartTime\": 1650906377.3224304, \"EndTime\": 1650906380.0000973, \"Dimensions\": {\"Algorithm\": \"AlgorithmModel\", \"Host\": \"UNKNOWN\", \"Operation\": \"scoring\"}, \"Metrics\": {\"invocations.count\": {\"sum\": 1.0, \"count\": 1, \"min\": 1, \"max\": 1}}}\n",
      "2022-04-25T17:06:19.886:[sagemaker logs]: MaxConcurrentTransforms=4, MaxPayloadInMB=6, BatchStrategy=MULTI_RECORD\n"
     ]
    }
   ],
   "source": [
    "fm_transformer.transform(\n",
    "    data=\"s3://{}/prepare/test/\".format(bucket), \n",
    "    data_type='S3Prefix', \n",
    "    content_type=\"application/x-recordio-protobuf\")"
   ]
  },
  {
   "cell_type": "code",
   "execution_count": 66,
   "metadata": {},
   "outputs": [
    {
     "name": "stdout",
     "output_type": "stream",
     "text": [
      "Waiting for transform job: factorization-machines-2022-04-25-17-01-35-985\n",
      "Docker entrypoint called with argument(s): serve\n",
      "Running default environment configuration script\n",
      "Docker entrypoint called with argument(s): serve\n",
      "Running default environment configuration script\n",
      "/opt/amazon/lib/python3.7/site-packages/jsonref.py:8: DeprecationWarning: Using or importing the ABCs from 'collections' instead of from 'collections.abc' is deprecated since Python 3.3,and in 3.9 it will stop working\n",
      "  from collections import Mapping, MutableMapping, Sequence\n",
      "/opt/amazon/lib/python3.7/site-packages/jsonref.py:8: DeprecationWarning: Using or importing the ABCs from 'collections' instead of from 'collections.abc' is deprecated since Python 3.3,and in 3.9 it will stop working\n",
      "  from collections import Mapping, MutableMapping, Sequence\n",
      "/opt/amazon/lib/python3.7/site-packages/algorithm/network_builder.py:87: DeprecationWarning: invalid escape sequence \\s\n",
      "  \"\"\"\n",
      "/opt/amazon/lib/python3.7/site-packages/algorithm/network_builder.py:120: DeprecationWarning: invalid escape sequence \\s\n",
      "  \"\"\"\n",
      "/opt/amazon/lib/python3.7/site-packages/google/protobuf/internal/api_implementation.py:151: DeprecationWarning: Using or importing the ABCs from 'collections' instead of from 'collections.abc' is deprecated since Python 3.3,and in 3.9 it will stop working\n",
      "  from google.protobuf.pyext import _message\n",
      "[04/25/2022 17:06:17 INFO 139988359198528] loaded entry point class algorithm.serve.server_config:config_api\n",
      "[04/25/2022 17:06:17 INFO 139988359198528] loading entry points\n",
      "/opt/amazon/lib/python3.7/site-packages/ai_algorithms_sdk/serve.py:221: DeprecationWarning: entrypoint algorithm.request_iterators is deprecated in favor of algorithm.io.data_handlers.serve\n",
      "  \"in favor of algorithm.io.data_handlers.serve\", DeprecationWarning)\n",
      "[04/25/2022 17:06:17 INFO 139988359198528] loaded request iterator application/json\n",
      "[04/25/2022 17:06:17 INFO 139988359198528] loaded request iterator application/jsonlines\n",
      "/opt/amazon/lib/python3.7/site-packages/algorithm/network_builder.py:87: DeprecationWarning: invalid escape sequence \\s\n",
      "  \"\"\"\n",
      "/opt/amazon/lib/python3.7/site-packages/algorithm/network_builder.py:120: DeprecationWarning: invalid escape sequence \\s\n",
      "  \"\"\"\n",
      "/opt/amazon/lib/python3.7/site-packages/google/protobuf/internal/api_implementation.py:151: DeprecationWarning: Using or importing the ABCs from 'collections' instead of from 'collections.abc' is deprecated since Python 3.3,and in 3.9 it will stop working\n",
      "  from google.protobuf.pyext import _message\n",
      "[04/25/2022 17:06:17 INFO 139988359198528] loaded entry point class algorithm.serve.server_config:config_api\n",
      "[04/25/2022 17:06:17 INFO 139988359198528] loading entry points\n",
      "/opt/amazon/lib/python3.7/site-packages/ai_algorithms_sdk/serve.py:221: DeprecationWarning: entrypoint algorithm.request_iterators is deprecated in favor of algorithm.io.data_handlers.serve\n",
      "  \"in favor of algorithm.io.data_handlers.serve\", DeprecationWarning)\n",
      "[04/25/2022 17:06:17 INFO 139988359198528] loaded request iterator application/json\n",
      "[04/25/2022 17:06:17 INFO 139988359198528] loaded request iterator application/jsonlines\n",
      "[04/25/2022 17:06:17 INFO 139988359198528] loaded request iterator application/x-recordio-protobuf\n",
      "[04/25/2022 17:06:17 INFO 139988359198528] loaded response encoder application/json\n",
      "[04/25/2022 17:06:17 INFO 139988359198528] loaded response encoder application/jsonlines\n",
      "[04/25/2022 17:06:17 INFO 139988359198528] loaded response encoder application/x-recordio-protobuf\n",
      "[04/25/2022 17:06:17 INFO 139988359198528] loaded entry point class algorithm:model\n",
      "[04/25/2022 17:06:17 INFO 139988359198528] Model Size: 67111 bytes\n",
      "[04/25/2022 17:06:17 INFO 139988359198528] Number of vCPUs: 4\n",
      "[04/25/2022 17:06:17 INFO 139988359198528] Number of server workers: 4\n",
      "[2022-04-25 17:06:17 +0000] [1] [INFO] Starting gunicorn 20.1.0\n",
      "[2022-04-25 17:06:17 +0000] [1] [INFO] Listening at: http://0.0.0.0:8080 (1)\n",
      "[2022-04-25 17:06:17 +0000] [1] [INFO] Using worker: sync\n",
      "[2022-04-25 17:06:17 +0000] [31] [INFO] Booting worker with pid: 31\n",
      "[04/25/2022 17:06:17 INFO 139988359198528] loading model...\n",
      "[04/25/2022 17:06:17 WARNING 139988359198528] Requesting context without setting the requested num of gpus. Using 'auto'\n",
      "[04/25/2022 17:06:17 INFO 139988359198528] nvidia-smi: took 0.030 seconds to run.\n",
      "[04/25/2022 17:06:17 INFO 139988359198528] nvidia-smi identified 0 GPUs.\n",
      "[04/25/2022 17:06:17 INFO 139988359198528] Number of GPUs being used: 0\n",
      "[04/25/2022 17:06:17 INFO 139988359198528] Loading regression model.\n",
      "[04/25/2022 17:06:17 INFO 139988359198528] ...model loaded.\n",
      "[2022-04-25 17:06:17 +0000] [40] [INFO] Booting worker with pid: 40\n",
      "[04/25/2022 17:06:17 INFO 139988359198528] loading model...\n",
      "[04/25/2022 17:06:17 WARNING 139988359198528] Requesting context without setting the requested num of gpus. Using 'auto'\n",
      "[2022-04-25 17:06:17 +0000] [41] [INFO] Booting worker with pid: 41\n",
      "[04/25/2022 17:06:17 INFO 139988359198528] loaded request iterator application/x-recordio-protobuf\n",
      "[04/25/2022 17:06:17 INFO 139988359198528] loaded response encoder application/json\n",
      "[04/25/2022 17:06:17 INFO 139988359198528] loaded response encoder application/jsonlines\n",
      "[04/25/2022 17:06:17 INFO 139988359198528] loaded response encoder application/x-recordio-protobuf\n",
      "[04/25/2022 17:06:17 INFO 139988359198528] loaded entry point class algorithm:model\n",
      "[04/25/2022 17:06:17 INFO 139988359198528] Model Size: 67111 bytes\n",
      "[04/25/2022 17:06:17 INFO 139988359198528] Number of vCPUs: 4\n",
      "[04/25/2022 17:06:17 INFO 139988359198528] Number of server workers: 4\n",
      "[2022-04-25 17:06:17 +0000] [1] [INFO] Starting gunicorn 20.1.0\n",
      "[2022-04-25 17:06:17 +0000] [1] [INFO] Listening at: http://0.0.0.0:8080 (1)\n",
      "[2022-04-25 17:06:17 +0000] [1] [INFO] Using worker: sync\n",
      "[2022-04-25 17:06:17 +0000] [31] [INFO] Booting worker with pid: 31\n",
      "[04/25/2022 17:06:17 INFO 139988359198528] loading model...\n",
      "[04/25/2022 17:06:17 WARNING 139988359198528] Requesting context without setting the requested num of gpus. Using 'auto'\n",
      "[04/25/2022 17:06:17 INFO 139988359198528] nvidia-smi: took 0.030 seconds to run.\n",
      "[04/25/2022 17:06:17 INFO 139988359198528] nvidia-smi identified 0 GPUs.\n",
      "[04/25/2022 17:06:17 INFO 139988359198528] Number of GPUs being used: 0\n",
      "[04/25/2022 17:06:17 INFO 139988359198528] Loading regression model.\n",
      "[04/25/2022 17:06:17 INFO 139988359198528] ...model loaded.\n",
      "[2022-04-25 17:06:17 +0000] [40] [INFO] Booting worker with pid: 40\n",
      "[04/25/2022 17:06:17 INFO 139988359198528] loading model...\n",
      "[04/25/2022 17:06:17 WARNING 139988359198528] Requesting context without setting the requested num of gpus. Using 'auto'\n",
      "[2022-04-25 17:06:17 +0000] [41] [INFO] Booting worker with pid: 41\n",
      "[04/25/2022 17:06:17 INFO 139988359198528] loading model...\n",
      "[04/25/2022 17:06:17 WARNING 139988359198528] Requesting context without setting the requested num of gpus. Using 'auto'\n",
      "[2022-04-25 17:06:17 +0000] [50] [INFO] Booting worker with pid: 50\n",
      "[04/25/2022 17:06:17 INFO 139988359198528] loading model...\n",
      "[04/25/2022 17:06:17 WARNING 139988359198528] Requesting context without setting the requested num of gpus. Using 'auto'\n",
      "[04/25/2022 17:06:17 INFO 139988359198528] nvidia-smi: took 0.031 seconds to run.\n",
      "[04/25/2022 17:06:17 INFO 139988359198528] nvidia-smi identified 0 GPUs.\n",
      "[04/25/2022 17:06:17 INFO 139988359198528] Number of GPUs being used: 0\n",
      "[04/25/2022 17:06:17 INFO 139988359198528] nvidia-smi: took 0.029 seconds to run.\n",
      "[04/25/2022 17:06:17 INFO 139988359198528] nvidia-smi identified 0 GPUs.\n",
      "[04/25/2022 17:06:17 INFO 139988359198528] Number of GPUs being used: 0\n",
      "[04/25/2022 17:06:17 INFO 139988359198528] Loading regression model.\n",
      "[04/25/2022 17:06:17 INFO 139988359198528] ...model loaded.\n",
      "[04/25/2022 17:06:17 INFO 139988359198528] Loading regression model.\n",
      "[04/25/2022 17:06:17 INFO 139988359198528] ...model loaded.\n",
      "[04/25/2022 17:06:17 INFO 139988359198528] nvidia-smi: took 0.029 seconds to run.\n",
      "[04/25/2022 17:06:17 INFO 139988359198528] nvidia-smi identified 0 GPUs.\n",
      "[04/25/2022 17:06:17 INFO 139988359198528] Number of GPUs being used: 0\n",
      "[04/25/2022 17:06:17 INFO 139988359198528] Loading regression model.\n",
      "[04/25/2022 17:06:17 INFO 139988359198528] loading model...\n",
      "[04/25/2022 17:06:17 WARNING 139988359198528] Requesting context without setting the requested num of gpus. Using 'auto'\n",
      "[2022-04-25 17:06:17 +0000] [50] [INFO] Booting worker with pid: 50\n",
      "[04/25/2022 17:06:17 INFO 139988359198528] loading model...\n",
      "[04/25/2022 17:06:17 WARNING 139988359198528] Requesting context without setting the requested num of gpus. Using 'auto'\n",
      "[04/25/2022 17:06:17 INFO 139988359198528] nvidia-smi: took 0.031 seconds to run.\n",
      "[04/25/2022 17:06:17 INFO 139988359198528] nvidia-smi identified 0 GPUs.\n",
      "[04/25/2022 17:06:17 INFO 139988359198528] Number of GPUs being used: 0\n",
      "[04/25/2022 17:06:17 INFO 139988359198528] nvidia-smi: took 0.029 seconds to run.\n",
      "[04/25/2022 17:06:17 INFO 139988359198528] nvidia-smi identified 0 GPUs.\n",
      "[04/25/2022 17:06:17 INFO 139988359198528] Number of GPUs being used: 0\n",
      "[04/25/2022 17:06:17 INFO 139988359198528] Loading regression model.\n",
      "[04/25/2022 17:06:17 INFO 139988359198528] ...model loaded.\n",
      "[04/25/2022 17:06:17 INFO 139988359198528] Loading regression model.\n",
      "[04/25/2022 17:06:17 INFO 139988359198528] ...model loaded.\n",
      "[04/25/2022 17:06:17 INFO 139988359198528] nvidia-smi: took 0.029 seconds to run.\n",
      "[04/25/2022 17:06:17 INFO 139988359198528] nvidia-smi identified 0 GPUs.\n",
      "[04/25/2022 17:06:17 INFO 139988359198528] Number of GPUs being used: 0\n",
      "[04/25/2022 17:06:17 INFO 139988359198528] Loading regression model.\n",
      "[04/25/2022 17:06:17 INFO 139988359198528] ...model loaded.\n",
      "[04/25/2022 17:06:17 INFO 139988359198528] ...model loaded.\n",
      "[04/25/2022 17:06:19 INFO 139988359198528] Model Size: 67111 bytes\n",
      "[04/25/2022 17:06:19 INFO 139988359198528] Number of vCPUs: 4\n",
      "#metrics {\"StartTime\": 1650906377.4143188, \"EndTime\": 1650906379.881198, \"Dimensions\": {\"Algorithm\": \"AlgorithmModel\", \"Host\": \"UNKNOWN\", \"Operation\": \"scoring\"}, \"Metrics\": {\"execution_parameters.count\": {\"sum\": 1.0, \"count\": 1, \"min\": 1, \"max\": 1}}}\n",
      "/opt/amazon/lib/python3.7/site-packages/mxnet/module/base_module.py:65: UserWarning: Data provided by label_shapes don't match names specified by label_names ([] vs. ['out_label'])\n",
      "  warnings.warn(msg)\n",
      "[2022-04-25 17:06:19.993] [tensorio] [info] epoch_stats={\"data_pipeline\": \"/tmp/tmp2euyt_49/tmpi5x430mz\", \"epoch\": 0, \"duration\": 19, \"num_examples\": 1, \"num_bytes\": 84540}\n",
      "#metrics {\"StartTime\": 1650906377.3224304, \"EndTime\": 1650906380.0000973, \"Dimensions\": {\"Algorithm\": \"AlgorithmModel\", \"Host\": \"UNKNOWN\", \"Operation\": \"scoring\"}, \"Metrics\": {\"invocations.count\": {\"sum\": 1.0, \"count\": 1, \"min\": 1, \"max\": 1}}}\n",
      "[04/25/2022 17:06:19 INFO 139988359198528] Model Size: 67111 bytes\n",
      "[04/25/2022 17:06:19 INFO 139988359198528] Number of vCPUs: 4\n",
      "#metrics {\"StartTime\": 1650906377.4143188, \"EndTime\": 1650906379.881198, \"Dimensions\": {\"Algorithm\": \"AlgorithmModel\", \"Host\": \"UNKNOWN\", \"Operation\": \"scoring\"}, \"Metrics\": {\"execution_parameters.count\": {\"sum\": 1.0, \"count\": 1, \"min\": 1, \"max\": 1}}}\n",
      "/opt/amazon/lib/python3.7/site-packages/mxnet/module/base_module.py:65: UserWarning: Data provided by label_shapes don't match names specified by label_names ([] vs. ['out_label'])\n",
      "  warnings.warn(msg)\n",
      "[2022-04-25 17:06:19.993] [tensorio] [info] epoch_stats={\"data_pipeline\": \"/tmp/tmp2euyt_49/tmpi5x430mz\", \"epoch\": 0, \"duration\": 19, \"num_examples\": 1, \"num_bytes\": 84540}\n",
      "#metrics {\"StartTime\": 1650906377.3224304, \"EndTime\": 1650906380.0000973, \"Dimensions\": {\"Algorithm\": \"AlgorithmModel\", \"Host\": \"UNKNOWN\", \"Operation\": \"scoring\"}, \"Metrics\": {\"invocations.count\": {\"sum\": 1.0, \"count\": 1, \"min\": 1, \"max\": 1}}}\n",
      "2022-04-25T17:06:19.886:[sagemaker logs]: MaxConcurrentTransforms=4, MaxPayloadInMB=6, BatchStrategy=MULTI_RECORD\n"
     ]
    }
   ],
   "source": [
    "print('Waiting for transform job: ' + fm_transformer.latest_transform_job.job_name)\n",
    "fm_transformer.wait()"
   ]
  },
  {
   "cell_type": "code",
   "execution_count": 67,
   "metadata": {},
   "outputs": [],
   "source": [
    "def download_from_s3(bucket, key):\n",
    "    s3 = boto3.resource('s3')\n",
    "    obj = s3.Object( bucket, key)\n",
    "    content = obj.get()['Body'].read()\n",
    "    return content"
   ]
  },
  {
   "cell_type": "code",
   "execution_count": 68,
   "metadata": {},
   "outputs": [],
   "source": [
    "test_preds = []\n",
    "for i in range(N):\n",
    "    key = 'transform/test_' + str(i) + '.protobuf.out'\n",
    "    response = download_from_s3(bucket, key)\n",
    "    result = [json.loads(row)['score'] for row in response.split(b'\\n') if len(row) > 0]\n",
    "    test_preds.extend(result)"
   ]
  },
  {
   "cell_type": "code",
   "execution_count": 69,
   "metadata": {},
   "outputs": [],
   "source": [
    "test_preds = np.array(test_preds)"
   ]
  },
  {
   "cell_type": "code",
   "execution_count": 70,
   "metadata": {},
   "outputs": [
    {
     "data": {
      "text/plain": [
       "(1409,)"
      ]
     },
     "execution_count": 70,
     "metadata": {},
     "output_type": "execute_result"
    }
   ],
   "source": [
    "test_preds.shape"
   ]
  },
  {
   "cell_type": "markdown",
   "metadata": {},
   "source": [
    "### 4.2  <a class=\"anchor\" id=\"4_2\"></a> Real-Time Inference"
   ]
  },
  {
   "cell_type": "code",
   "execution_count": null,
   "metadata": {},
   "outputs": [],
   "source": [
    "#fm_predictor = fm.deploy(initial_instance_count=1, instance_type=\"ml.m4.xlarge\")"
   ]
  },
  {
   "cell_type": "code",
   "execution_count": null,
   "metadata": {},
   "outputs": [
    {
     "name": "stdout",
     "output_type": "stream",
     "text": [
      "-------!"
     ]
    }
   ],
   "source": [
    "fm_predictor = fm.deploy(\n",
    "    initial_instance_count=1,\n",
    "    instance_type=\"ml.m4.xlarge\"\n",
    ")"
   ]
  },
  {
   "cell_type": "code",
   "execution_count": null,
   "metadata": {},
   "outputs": [],
   "source": [
    "#fm_predictor.content_type = 'application/x-recordio-protobuf'"
   ]
  },
  {
   "cell_type": "code",
   "execution_count": null,
   "metadata": {},
   "outputs": [],
   "source": [
    "test_pb = convert_to_protobuf(test_X[1000:1010]).getvalue()"
   ]
  },
  {
   "cell_type": "markdown",
   "metadata": {},
   "source": [
    "ModelError: An error occurred (ModelError) when calling the InvokeEndpoint operation: Received client error (415) from primary with message \"content-type application/octet-stream not supported\". See https://us-west-2.console.aws.amazon.com/cloudwatch/home?region=us-west-2#logEventViewer:group=/aws/sagemaker/Endpoints/factorization-machines-2022-04-19-14-56-40-628 in account 369454669781 for more information."
   ]
  },
  {
   "cell_type": "code",
   "execution_count": null,
   "metadata": {},
   "outputs": [],
   "source": [
    "#response = fm_predictor.predict(test_pb)\n",
    "#predicted = [round(r['score'], 2) for r in json.loads(response)['predictions']]\n",
    "#results_df = pd.DataFrame(zip(test_Y[1000:1010], predicted), columns = [\"actual_rating\", \"predicted_rating\"])\n",
    "#results_df"
   ]
  },
  {
   "cell_type": "markdown",
   "metadata": {},
   "source": [
    "---"
   ]
  },
  {
   "cell_type": "markdown",
   "metadata": {},
   "source": [
    "## Chapter 5: <a class=\"anchor\" id=\"chapter5\"></a> Model Performance Evaluation"
   ]
  },
  {
   "cell_type": "code",
   "execution_count": 72,
   "metadata": {},
   "outputs": [
    {
     "name": "stdout",
     "output_type": "stream",
     "text": [
      "Naive MSE: 0.7971301999766911\n"
     ]
    }
   ],
   "source": [
    "print('Naive MSE:', np.mean((test_df['total_sales'] - np.mean(train_df['total_sales'])) ** 2))"
   ]
  },
  {
   "cell_type": "code",
   "execution_count": 73,
   "metadata": {},
   "outputs": [
    {
     "name": "stdout",
     "output_type": "stream",
     "text": [
      "MSE: 5325416.736594219\n"
     ]
    }
   ],
   "source": [
    "print('MSE:', np.mean((test_Y - test_preds) ** 2))"
   ]
  },
  {
   "cell_type": "markdown",
   "metadata": {},
   "source": [
    "---"
   ]
  },
  {
   "cell_type": "markdown",
   "metadata": {},
   "source": [
    "## Chapter 6: <a class=\"anchor\" id=\"chapter\"></a> Model Tuning"
   ]
  },
  {
   "cell_type": "markdown",
   "metadata": {},
   "source": [
    "### 6.1  <a class=\"anchor\" id=\"6_1\"></a> Setting hyperparameters"
   ]
  },
  {
   "cell_type": "code",
   "execution_count": 74,
   "metadata": {},
   "outputs": [],
   "source": [
    "output_location = 's3://{}/train/'.format(bucket)\n",
    "s3_train_path = 's3://{}/prepare/train/train.protobuf'.format(bucket)\n",
    "s3_val_path = 's3://{}/prepare/validate/validate.protobuf'.format(bucket)"
   ]
  },
  {
   "cell_type": "code",
   "execution_count": 75,
   "metadata": {},
   "outputs": [
    {
     "name": "stderr",
     "output_type": "stream",
     "text": [
      "train_instance_count has been renamed in sagemaker>=2.\n",
      "See: https://sagemaker.readthedocs.io/en/stable/v2.html for details.\n",
      "train_instance_type has been renamed in sagemaker>=2.\n",
      "See: https://sagemaker.readthedocs.io/en/stable/v2.html for details.\n"
     ]
    }
   ],
   "source": [
    "fm_estimator = sagemaker.estimator.Estimator(container,\n",
    "                                   role, \n",
    "                                   train_instance_count=1, \n",
    "                                   train_instance_type='ml.c5.4xlarge',\n",
    "                                   output_path=output_location,\n",
    "                                   sagemaker_session=sess)"
   ]
  },
  {
   "cell_type": "code",
   "execution_count": 77,
   "metadata": {},
   "outputs": [],
   "source": [
    "# Setting the parameters that worked in model training.\n",
    "fm_estimator.set_hyperparameters(\n",
    "    feature_dim=228,\n",
    "    predictor_type='regressor',\n",
    "    mini_batch_size=200,\n",
    "    num_factors=512,\n",
    "    bias_lr=0.02,\n",
    "    epochs=20)"
   ]
  },
  {
   "cell_type": "code",
   "execution_count": 78,
   "metadata": {},
   "outputs": [],
   "source": [
    "hyperparameter_ranges=  {\n",
    "    \"factors_lr\": ContinuousParameter(0.0001, 0.2),\n",
    "    \"factors_init_sigma\": ContinuousParameter(0.0001, 1)\n",
    "}"
   ]
  },
  {
   "cell_type": "code",
   "execution_count": 79,
   "metadata": {},
   "outputs": [],
   "source": [
    "objective_metric_name = \"test:rmse\"\n",
    "objective_type = \"Minimize\""
   ]
  },
  {
   "cell_type": "code",
   "execution_count": 80,
   "metadata": {},
   "outputs": [],
   "source": [
    "fm_tuner = HyperparameterTuner(\n",
    "    estimator=fm_estimator,\n",
    "    objective_metric_name=objective_metric_name, \n",
    "    hyperparameter_ranges=hyperparameter_ranges,\n",
    "    objective_type=objective_type,\n",
    "    max_jobs=10,\n",
    "    max_parallel_jobs=2\n",
    ")"
   ]
  },
  {
   "cell_type": "code",
   "execution_count": 81,
   "metadata": {},
   "outputs": [],
   "source": [
    "timestamp_prefix = time.strftime(\"%Y%m%d-%H%M%S\", time.gmtime())\n",
    "fm_tuner_job_name = 'hpo-fm-' + timestamp_prefix"
   ]
  },
  {
   "cell_type": "code",
   "execution_count": 82,
   "metadata": {},
   "outputs": [],
   "source": [
    "fm_tuner.fit({'train': s3_train_path, 'test': s3_val_path}, job_name=fm_tuner_job_name, wait=False)"
   ]
  },
  {
   "cell_type": "markdown",
   "metadata": {},
   "source": [
    "### 6.2  <a class=\"anchor\" id=\"6_2\"></a> Tracking hyperparameter tuning job"
   ]
  },
  {
   "cell_type": "code",
   "execution_count": 85,
   "metadata": {},
   "outputs": [
    {
     "name": "stdout",
     "output_type": "stream",
     "text": [
      "10 training jobs have completed\n"
     ]
    }
   ],
   "source": [
    "tuning_job_result = smclient.describe_hyper_parameter_tuning_job(HyperParameterTuningJobName=fm_tuner_job_name)\n",
    "\n",
    "status = tuning_job_result['HyperParameterTuningJobStatus']\n",
    "if status != 'Completed':\n",
    "    print('Reminder: the tuning job has not been completed.')\n",
    "    \n",
    "job_count = tuning_job_result['TrainingJobStatusCounters']['Completed']\n",
    "print(\"%d training jobs have completed\" % job_count)\n",
    "    \n",
    "is_minimize = (tuning_job_result['HyperParameterTuningJobConfig']['HyperParameterTuningJobObjective']['Type'] != 'Maximize')\n",
    "objective_name = tuning_job_result['HyperParameterTuningJobConfig']['HyperParameterTuningJobObjective']['MetricName']"
   ]
  },
  {
   "cell_type": "markdown",
   "metadata": {},
   "source": [
    "### 6.3  <a class=\"anchor\" id=\"6_3\"></a> Analysis of fine-tuning"
   ]
  },
  {
   "cell_type": "code",
   "execution_count": 84,
   "metadata": {},
   "outputs": [
    {
     "data": {
      "text/html": [
       "<div>\n",
       "<style scoped>\n",
       "    .dataframe tbody tr th:only-of-type {\n",
       "        vertical-align: middle;\n",
       "    }\n",
       "\n",
       "    .dataframe tbody tr th {\n",
       "        vertical-align: top;\n",
       "    }\n",
       "\n",
       "    .dataframe thead th {\n",
       "        text-align: right;\n",
       "    }\n",
       "</style>\n",
       "<table border=\"1\" class=\"dataframe\">\n",
       "  <thead>\n",
       "    <tr style=\"text-align: right;\">\n",
       "      <th></th>\n",
       "      <th>factors_init_sigma</th>\n",
       "      <th>factors_lr</th>\n",
       "      <th>TrainingJobName</th>\n",
       "      <th>TrainingJobStatus</th>\n",
       "      <th>FinalObjectiveValue</th>\n",
       "      <th>TrainingStartTime</th>\n",
       "      <th>TrainingEndTime</th>\n",
       "      <th>TrainingElapsedTimeSeconds</th>\n",
       "    </tr>\n",
       "  </thead>\n",
       "  <tbody>\n",
       "    <tr>\n",
       "      <th>0</th>\n",
       "      <td>0.864814</td>\n",
       "      <td>0.000432</td>\n",
       "      <td>hpo-fm-20220426-114119-010-4581dd43</td>\n",
       "      <td>Completed</td>\n",
       "      <td>501.625000</td>\n",
       "      <td>2022-04-26 12:54:51+01:00</td>\n",
       "      <td>2022-04-26 12:55:49+01:00</td>\n",
       "      <td>58.0</td>\n",
       "    </tr>\n",
       "    <tr>\n",
       "      <th>1</th>\n",
       "      <td>0.575173</td>\n",
       "      <td>0.000458</td>\n",
       "      <td>hpo-fm-20220426-114119-009-3fea7a6e</td>\n",
       "      <td>Completed</td>\n",
       "      <td>501.626862</td>\n",
       "      <td>2022-04-26 12:55:02+01:00</td>\n",
       "      <td>2022-04-26 12:55:56+01:00</td>\n",
       "      <td>54.0</td>\n",
       "    </tr>\n",
       "    <tr>\n",
       "      <th>2</th>\n",
       "      <td>0.000859</td>\n",
       "      <td>0.000581</td>\n",
       "      <td>hpo-fm-20220426-114119-008-ac304532</td>\n",
       "      <td>Completed</td>\n",
       "      <td>501.710876</td>\n",
       "      <td>2022-04-26 12:52:10+01:00</td>\n",
       "      <td>2022-04-26 12:53:07+01:00</td>\n",
       "      <td>57.0</td>\n",
       "    </tr>\n",
       "    <tr>\n",
       "      <th>3</th>\n",
       "      <td>0.000124</td>\n",
       "      <td>0.000181</td>\n",
       "      <td>hpo-fm-20220426-114119-007-82f5e08b</td>\n",
       "      <td>Completed</td>\n",
       "      <td>502.937500</td>\n",
       "      <td>2022-04-26 12:52:19+01:00</td>\n",
       "      <td>2022-04-26 12:53:17+01:00</td>\n",
       "      <td>58.0</td>\n",
       "    </tr>\n",
       "    <tr>\n",
       "      <th>4</th>\n",
       "      <td>0.078577</td>\n",
       "      <td>0.000117</td>\n",
       "      <td>hpo-fm-20220426-114119-006-7c66c90e</td>\n",
       "      <td>Completed</td>\n",
       "      <td>503.045319</td>\n",
       "      <td>2022-04-26 12:49:17+01:00</td>\n",
       "      <td>2022-04-26 12:50:45+01:00</td>\n",
       "      <td>88.0</td>\n",
       "    </tr>\n",
       "    <tr>\n",
       "      <th>5</th>\n",
       "      <td>0.296787</td>\n",
       "      <td>0.000260</td>\n",
       "      <td>hpo-fm-20220426-114119-005-503f1883</td>\n",
       "      <td>Completed</td>\n",
       "      <td>502.277344</td>\n",
       "      <td>2022-04-26 12:49:15+01:00</td>\n",
       "      <td>2022-04-26 12:50:13+01:00</td>\n",
       "      <td>58.0</td>\n",
       "    </tr>\n",
       "    <tr>\n",
       "      <th>6</th>\n",
       "      <td>0.000230</td>\n",
       "      <td>0.001333</td>\n",
       "      <td>hpo-fm-20220426-114119-004-f04364c0</td>\n",
       "      <td>Completed</td>\n",
       "      <td>502.424652</td>\n",
       "      <td>2022-04-26 12:46:00+01:00</td>\n",
       "      <td>2022-04-26 12:47:12+01:00</td>\n",
       "      <td>72.0</td>\n",
       "    </tr>\n",
       "    <tr>\n",
       "      <th>7</th>\n",
       "      <td>0.064663</td>\n",
       "      <td>0.001300</td>\n",
       "      <td>hpo-fm-20220426-114119-003-14dd4ab5</td>\n",
       "      <td>Completed</td>\n",
       "      <td>502.340912</td>\n",
       "      <td>2022-04-26 12:45:57+01:00</td>\n",
       "      <td>2022-04-26 12:47:09+01:00</td>\n",
       "      <td>72.0</td>\n",
       "    </tr>\n",
       "    <tr>\n",
       "      <th>8</th>\n",
       "      <td>0.001025</td>\n",
       "      <td>0.002845</td>\n",
       "      <td>hpo-fm-20220426-114119-002-56c62b71</td>\n",
       "      <td>Completed</td>\n",
       "      <td>502.823608</td>\n",
       "      <td>2022-04-26 12:42:43+01:00</td>\n",
       "      <td>2022-04-26 12:44:05+01:00</td>\n",
       "      <td>82.0</td>\n",
       "    </tr>\n",
       "    <tr>\n",
       "      <th>9</th>\n",
       "      <td>0.030907</td>\n",
       "      <td>0.191862</td>\n",
       "      <td>hpo-fm-20220426-114119-001-1ce661a7</td>\n",
       "      <td>Completed</td>\n",
       "      <td>503.270477</td>\n",
       "      <td>2022-04-26 12:42:43+01:00</td>\n",
       "      <td>2022-04-26 12:44:05+01:00</td>\n",
       "      <td>82.0</td>\n",
       "    </tr>\n",
       "  </tbody>\n",
       "</table>\n",
       "</div>"
      ],
      "text/plain": [
       "   factors_init_sigma  factors_lr                      TrainingJobName  \\\n",
       "0            0.864814    0.000432  hpo-fm-20220426-114119-010-4581dd43   \n",
       "1            0.575173    0.000458  hpo-fm-20220426-114119-009-3fea7a6e   \n",
       "2            0.000859    0.000581  hpo-fm-20220426-114119-008-ac304532   \n",
       "3            0.000124    0.000181  hpo-fm-20220426-114119-007-82f5e08b   \n",
       "4            0.078577    0.000117  hpo-fm-20220426-114119-006-7c66c90e   \n",
       "5            0.296787    0.000260  hpo-fm-20220426-114119-005-503f1883   \n",
       "6            0.000230    0.001333  hpo-fm-20220426-114119-004-f04364c0   \n",
       "7            0.064663    0.001300  hpo-fm-20220426-114119-003-14dd4ab5   \n",
       "8            0.001025    0.002845  hpo-fm-20220426-114119-002-56c62b71   \n",
       "9            0.030907    0.191862  hpo-fm-20220426-114119-001-1ce661a7   \n",
       "\n",
       "  TrainingJobStatus  FinalObjectiveValue         TrainingStartTime  \\\n",
       "0         Completed           501.625000 2022-04-26 12:54:51+01:00   \n",
       "1         Completed           501.626862 2022-04-26 12:55:02+01:00   \n",
       "2         Completed           501.710876 2022-04-26 12:52:10+01:00   \n",
       "3         Completed           502.937500 2022-04-26 12:52:19+01:00   \n",
       "4         Completed           503.045319 2022-04-26 12:49:17+01:00   \n",
       "5         Completed           502.277344 2022-04-26 12:49:15+01:00   \n",
       "6         Completed           502.424652 2022-04-26 12:46:00+01:00   \n",
       "7         Completed           502.340912 2022-04-26 12:45:57+01:00   \n",
       "8         Completed           502.823608 2022-04-26 12:42:43+01:00   \n",
       "9         Completed           503.270477 2022-04-26 12:42:43+01:00   \n",
       "\n",
       "            TrainingEndTime  TrainingElapsedTimeSeconds  \n",
       "0 2022-04-26 12:55:49+01:00                        58.0  \n",
       "1 2022-04-26 12:55:56+01:00                        54.0  \n",
       "2 2022-04-26 12:53:07+01:00                        57.0  \n",
       "3 2022-04-26 12:53:17+01:00                        58.0  \n",
       "4 2022-04-26 12:50:45+01:00                        88.0  \n",
       "5 2022-04-26 12:50:13+01:00                        58.0  \n",
       "6 2022-04-26 12:47:12+01:00                        72.0  \n",
       "7 2022-04-26 12:47:09+01:00                        72.0  \n",
       "8 2022-04-26 12:44:05+01:00                        82.0  \n",
       "9 2022-04-26 12:44:05+01:00                        82.0  "
      ]
     },
     "execution_count": 84,
     "metadata": {},
     "output_type": "execute_result"
    }
   ],
   "source": [
    "# Plug-in the training job name and metrics to be captured\n",
    "fm_tuner_analytics = HyperparameterTuningJobAnalytics(hyperparameter_tuning_job_name=fm_tuner_job_name)\n",
    "df_fm_tuner_metrics = fm_tuner_analytics.dataframe()\n",
    "df_fm_tuner_metrics"
   ]
  },
  {
   "cell_type": "code",
   "execution_count": 86,
   "metadata": {},
   "outputs": [
    {
     "data": {
      "image/png": "[encoded data removed]",
      "text/plain": [
       "<Figure size 864x360 with 1 Axes>"
      ]
     },
     "metadata": {},
     "output_type": "display_data"
    }
   ],
   "source": [
    "# Analyze using Seaborn\n",
    "plt = df_fm_tuner_metrics.plot(kind='line', figsize=(12,5), x='TrainingStartTime', \n",
    "                             y='FinalObjectiveValue', \n",
    "                             style='b.', legend=False)\n",
    "plt.set_ylabel(objective_metric_name);"
   ]
  },
  {
   "cell_type": "code",
   "execution_count": 87,
   "metadata": {},
   "outputs": [
    {
     "name": "stdout",
     "output_type": "stream",
     "text": [
      "fm_tuner_job_name: hpo-fm-20220426-114119\n",
      "fm_best_model_name: hpo-fm-20220426-114119-010-4581dd43\n"
     ]
    }
   ],
   "source": [
    "print(\"fm_tuner_job_name: \" + fm_tuner_job_name)\n",
    "fm_tuner = HyperparameterTuner.attach(fm_tuner_job_name)\n",
    "\n",
    "fm_tuner_analytics = HyperparameterTuningJobAnalytics(hyperparameter_tuning_job_name=fm_tuner_job_name)\n",
    "df_fm_tuner_metrics = fm_tuner_analytics.dataframe()\n",
    "\n",
    "fm_best_model_name = fm_tuner.best_training_job()\n",
    "print(\"fm_best_model_name: \" + fm_best_model_name)\n",
    "\n",
    "fm_model_info = smclient.describe_training_job(TrainingJobName=fm_best_model_name)"
   ]
  },
  {
   "cell_type": "code",
   "execution_count": 88,
   "metadata": {},
   "outputs": [
    {
     "data": {
      "text/html": [
       "<div>\n",
       "<style scoped>\n",
       "    .dataframe tbody tr th:only-of-type {\n",
       "        vertical-align: middle;\n",
       "    }\n",
       "\n",
       "    .dataframe tbody tr th {\n",
       "        vertical-align: top;\n",
       "    }\n",
       "\n",
       "    .dataframe thead th {\n",
       "        text-align: right;\n",
       "    }\n",
       "</style>\n",
       "<table border=\"1\" class=\"dataframe\">\n",
       "  <thead>\n",
       "    <tr style=\"text-align: right;\">\n",
       "      <th></th>\n",
       "      <th>factors_init_sigma</th>\n",
       "      <th>factors_lr</th>\n",
       "      <th>TrainingJobName</th>\n",
       "      <th>TrainingJobStatus</th>\n",
       "      <th>FinalObjectiveValue</th>\n",
       "      <th>TrainingStartTime</th>\n",
       "      <th>TrainingEndTime</th>\n",
       "      <th>TrainingElapsedTimeSeconds</th>\n",
       "    </tr>\n",
       "  </thead>\n",
       "  <tbody>\n",
       "    <tr>\n",
       "      <th>0</th>\n",
       "      <td>0.864814</td>\n",
       "      <td>0.000432</td>\n",
       "      <td>hpo-fm-20220426-114119-010-4581dd43</td>\n",
       "      <td>Completed</td>\n",
       "      <td>501.625</td>\n",
       "      <td>2022-04-26 12:54:51+01:00</td>\n",
       "      <td>2022-04-26 12:55:49+01:00</td>\n",
       "      <td>58.0</td>\n",
       "    </tr>\n",
       "  </tbody>\n",
       "</table>\n",
       "</div>"
      ],
      "text/plain": [
       "   factors_init_sigma  factors_lr                      TrainingJobName  \\\n",
       "0            0.864814    0.000432  hpo-fm-20220426-114119-010-4581dd43   \n",
       "\n",
       "  TrainingJobStatus  FinalObjectiveValue         TrainingStartTime  \\\n",
       "0         Completed              501.625 2022-04-26 12:54:51+01:00   \n",
       "\n",
       "            TrainingEndTime  TrainingElapsedTimeSeconds  \n",
       "0 2022-04-26 12:55:49+01:00                        58.0  "
      ]
     },
     "execution_count": 88,
     "metadata": {},
     "output_type": "execute_result"
    }
   ],
   "source": [
    "df_fm_tuner_metrics[df_fm_tuner_metrics['TrainingJobName']==fm_best_model_name]"
   ]
  },
  {
   "cell_type": "code",
   "execution_count": 89,
   "metadata": {},
   "outputs": [
    {
     "name": "stdout",
     "output_type": "stream",
     "text": [
      "\n",
      "2022-04-26 11:55:49 Starting - Preparing the instances for training\n",
      "2022-04-26 11:55:49 Downloading - Downloading input data\n",
      "2022-04-26 11:55:49 Training - Training image download completed. Training in progress.\n",
      "2022-04-26 11:55:49 Uploading - Uploading generated training model\n",
      "2022-04-26 11:55:49 Completed - Training job completed\n"
     ]
    }
   ],
   "source": [
    "fm = sagemaker.estimator.Estimator.attach(fm_best_model_name)"
   ]
  },
  {
   "cell_type": "code",
   "execution_count": 90,
   "metadata": {},
   "outputs": [
    {
     "name": "stdout",
     "output_type": "stream",
     "text": [
      "MSE: 5325416.736594219\n"
     ]
    }
   ],
   "source": [
    "print('MSE:', np.mean((test_Y - test_preds) ** 2))"
   ]
  },
  {
   "cell_type": "markdown",
   "metadata": {},
   "source": [
    "## Chapter 7: <a class=\"anchor\" id=\"chapter7\"></a> Clean-up"
   ]
  },
  {
   "cell_type": "code",
   "execution_count": 91,
   "metadata": {},
   "outputs": [],
   "source": [
    "# Deletes our endpoint to avoid stray hosting charges\n",
    "endpoint_name_contains = ['-fm-', 'factorization-machines-']\n",
    "for name in endpoint_name_contains:\n",
    "    endpoints = smclient.list_endpoints(NameContains=name, StatusEquals='InService')\n",
    "    endpoint_names = [r['EndpointName'] for r in endpoints['Endpoints']]\n",
    "    for endpoint_name in endpoint_names:\n",
    "        print(\"Deleting endpoint: \" + endpoint_name)\n",
    "        smclient.delete_endpoint(EndpointName=endpoint_name)"
   ]
  }
 ],
 "metadata": {
  "interpreter": {
   "hash": "31f2aee4e71d21fbe5cf8b01ff0e069b9275f58929596ceb00d14d90e3e16cd6"
  },
  "kernelspec": {
   "display_name": "conda_python2",
   "language": "python",
   "name": "python3"
  },
  "language_info": {
   "codemirror_mode": {
    "name": "ipython",
    "version": 3
   },
   "file_extension": ".py",
   "mimetype": "text/x-python",
   "name": "python",
   "nbconvert_exporter": "python",
   "pygments_lexer": "ipython3",
   "version": "3.9.12"
  },
  "notice": "Copyright 2017 Amazon.com, Inc. or its affiliates. All Rights Reserved.  Licensed under the Apache License, Version 2.0 (the \"License\"). You may not use this file except in compliance with the License. A copy of the License is located at http://aws.amazon.com/apache2.0/ or in the \"license\" file accompanying this file. This file is distributed on an \"AS IS\" BASIS, WITHOUT WARRANTIES OR CONDITIONS OF ANY KIND, either express or implied. See the License for the specific language governing permissions and limitations under the License."
 },
 "nbformat": 4,
 "nbformat_minor": 2
}
